{
  "nbformat": 4,
  "nbformat_minor": 0,
  "metadata": {
    "colab": {
      "provenance": []
    },
    "kernelspec": {
      "name": "python3",
      "display_name": "Python 3"
    },
    "language_info": {
      "name": "python"
    }
  },
  "cells": [
    {
      "cell_type": "markdown",
      "source": [
        "# Example Responses\n",
        "\n",
        "- response_a: A clear and concise explanation.\n",
        "- response_b: A confusing and convoluted explanation that mixes several ideas.\n",
        "- response_c: An explanation that doesn't connect well and is very unclear."
      ],
      "metadata": {
        "id": "_LKU_ATXuwft"
      }
    },
    {
      "cell_type": "code",
      "execution_count": null,
      "metadata": {
        "application/vnd.databricks.v1+cell": {
          "cellMetadata": {
            "byteLimit": 2048000,
            "rowLimit": 10000
          },
          "inputWidgets": {},
          "nuid": "6d36357c-040c-4686-b52b-6d5ecf5e9a2f",
          "showTitle": false,
          "tableResultSettingsMap": {},
          "title": ""
        },
        "id": "4phl74qhrOiM"
      },
      "outputs": [],
      "source": [
        "response_a = \"\"\"Blockchain is a decentralized digital ledger that records and\n",
        "stores data in a secure and transparent manner. It is a chain of blocks, where\n",
        "each block contains a set of transactions that are verified and added to the\n",
        "chain through a consensus mechanism. This means that the data stored on the\n",
        "blockchain cannot be altered or deleted, making it immutable and tamper-proof.\n",
        "The data is also distributed across a network of computers, making it highly\n",
        "secure and resistant to hacking. This technology is most commonly associated\n",
        "with cryptocurrencies, but it has many other potential applications such as\n",
        "supply chain management, voting systems, and smart contracts. Overall,\n",
        "blockchain provides a reliable and efficient way to store and transfer data\n",
        "without the need for intermediaries, making it a revolutionary technology with\n",
        "the potential to transform various industries.\"\"\"\n",
        "\n",
        "response_b = \"\"\"Blockchain is internet technology which distributes a duplicate\n",
        "record to all nodes in order to protect the network from fraud or dishonesty.\n",
        "The digital ledger holds transactions and allows instant verification by the\n",
        "entire system. All copies or blocks of data connected one after another into\n",
        "processing lines form blockchain. It was first developed for bitcoin payments\n",
        "but can be used for other cryptocurrency in major organizations.Finally,\n",
        "blockchain has a large scalability and stores data in a block structure that is\n",
        "permanently chained together. Blockchain tech is on internet where same record\n",
        "gets spread on all nodes concurrently keeping net secure from fraudulence.\n",
        "Ledger keeps track of transactions through instantaneous confirmation with the\n",
        "whole setup.\"\"\"\n",
        "\n",
        "response_c = \"\"\"Think of the blockchain as a Jenga tower that is constantly\n",
        "growing and adding new blocks at the top, while also reinforcing and connecting\n",
        "each block to the blocks underneath it. This tower only moves forward with\n",
        "consensus from all the players involved, but anyone can contribute their own\n",
        "block as long as they follow the predetermined rules and maintain transparency\n",
        "within the chain. This ensures an ever-evolving and decentralized network that\n",
        "maintains immutability through shared verification processes. Essentially, it's\n",
        "like creating a never-ending game of three-dimensional collaborative digital\n",
        "Tetris while wearing blindfolds made of pseudo-random algorithms.\"\"\""
      ]
    },
    {
      "cell_type": "markdown",
      "source": [
        "# Rubrik Prompt\n",
        "\n",
        "Here we give a detailed explanation of the criteria we want the LLM to consider, and a breakdown of what each score means. This should be as detailed as possible based on your task and will require adjustment."
      ],
      "metadata": {
        "id": "Mm6CTLb050yH"
      }
    },
    {
      "cell_type": "code",
      "source": [
        "prompt = \"\"\"You are an expert in English language arts. You will be given some text\n",
        "which you will grade with the following criteria:\n",
        "\n",
        "Coherence:\n",
        "- Logical Flow: Does the response follow a clear and logical structure?\n",
        "- - 1: the text is very incohearent\n",
        "- - 2: the text is somewhat incohearent\n",
        "- - 3: the text is coherent\n",
        "- - 4: the text is very coherent\n",
        "- - 5: the text is extremely coherent\n",
        "Relevance:\n",
        "- Relevance of Information: Are all details relevant to the main topic?\n",
        "- - 1: the text is not relevant\n",
        "- - 2: the text is somewhat relevant\n",
        "- - 3: the text is mostly relevant\n",
        "- - 4: the text is very relevant\n",
        "- - 5: the text is extremely relevant\n",
        "Variety:\n",
        "- Consistency: Does the response maintain consistent terms, ideas, and perspective throughout?\n",
        "- - 1: the text is very inconsistent\n",
        "- - 2: the text is somewhat inconsistent\n",
        "- - 3: the text is consistent\n",
        "- - 4: the text is very consistent\n",
        "- - 5: the text is extremely consistent\n",
        "Fluency:\n",
        "- Grammar and Syntax: Is the language grammatically correct and easy to read?\n",
        "- - 1: the text is very difficult to read\n",
        "- - 2: the text is somewhat difficult to read\n",
        "- - 3: the text is easy to read\n",
        "- - 4: the text is very easy to read\n",
        "- - 5: the text is extremely easy to read\n",
        "- Smooth Transitions: Are transitions between ideas smooth and natural?\n",
        "- - 1: the text is very unnatural\n",
        "- - 2: the text is somewhat unnatural\n",
        "- - 3: the text is natural\n",
        "- - 4: the text is very natural\n",
        "- - 5: the text is extremely natural\n",
        "- Readability: Does the response use clear and accessible language without awkward phrasing?\n",
        "- - 1: the text is not readable\n",
        "- - 2: the text is somewhat readable\n",
        "- - 3: the text is readable\n",
        "- - 4: the text is very readable\n",
        "- - 5: the text is extremely readable\n",
        "\n",
        "Provide your response as a JSON object where each criterion is a key and the value\n",
        "is your score from 1 to 5:\n",
        "\n",
        "```json\n",
        "{{\n",
        "  \"Coherence\": {{\n",
        "    \"Logical Flow\": int,\n",
        "    ...\n",
        "  }},\n",
        "  \"Relevance\": {{\n",
        "    \"Relevance of Information\": int,\n",
        "    ...\n",
        "  }},\n",
        "}}\n",
        "```\n",
        "\n",
        "\n",
        "Only provide the JSON object.\n",
        "\n",
        "Text: \"{text}\"\n",
        "\"\"\""
      ],
      "metadata": {
        "id": "Uls0uC8A55DO"
      },
      "execution_count": null,
      "outputs": []
    },
    {
      "cell_type": "markdown",
      "source": [
        "Change the response variable and copy/paste into an LLM to see the result."
      ],
      "metadata": {
        "id": "TCEz6cOh99Kj"
      }
    },
    {
      "cell_type": "code",
      "source": [
        "print(prompt.format(text=response_c))"
      ],
      "metadata": {
        "id": "G5Fp0WJm8KGQ"
      },
      "execution_count": null,
      "outputs": []
    }
  ]
}