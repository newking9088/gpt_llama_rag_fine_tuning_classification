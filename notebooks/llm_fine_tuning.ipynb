{
 "cells": [
  {
   "cell_type": "markdown",
   "id": "d114a946",
   "metadata": {},
   "source": [
    "# Fine Tuning LLMs \n",
    "Fine-tuning large language models (LLMs) requires careful consideration of your dataset and the specific task at hand. Selecting the appropriate base model is a critical step in achieving optimal results."
   ]
  },
  {
   "cell_type": "code",
   "execution_count": 3,
   "id": "02c07fd0",
   "metadata": {},
   "outputs": [],
   "source": [
    "# Importing necessary libraries\n",
    "import pandas as pd\n",
    "from openai import OpenAI\n",
    "import os\n",
    "from datasets import load_dataset\n",
    "import random\n",
    "import math\n",
    "import matplotlib.pyplot as plt\n",
    "import numpy as np\n",
    "import seaborn as sns\n",
    "from tqdm.auto import tqdm\n",
    "import json\n",
    "import csv\n",
    "import base64\n",
    "import logging\n",
    "\n",
    "SEED = 42\n",
    "sns.set_style(\"whitegrid\")\n",
    "random.seed(SEED)"
   ]
  },
  {
   "cell_type": "code",
   "execution_count": 4,
   "id": "060f6c04",
   "metadata": {},
   "outputs": [
    {
     "name": "stderr",
     "output_type": "stream",
     "text": [
      "Using the latest cached version of the dataset since app_reviews couldn't be found on the Hugging Face Hub\n",
      "Found the latest cached dataset configuration 'default' at C:\\Users\\anita\\.cache\\huggingface\\datasets\\app_reviews\\default\\0.0.0\\9eaa95f66364367e8752b0f34c00f67aafa95d15 (last modified on Wed Apr 16 15:06:11 2025).\n"
     ]
    },
    {
     "data": {
      "text/plain": [
       "Dataset({\n",
       "    features: ['package_name', 'review', 'date', 'star'],\n",
       "    num_rows: 288065\n",
       "})"
      ]
     },
     "execution_count": 4,
     "metadata": {},
     "output_type": "execute_result"
    }
   ],
   "source": [
    "# Import the ClassLabel module to represent categorical class labels\n",
    "from datasets import ClassLabel\n",
    "\n",
    "# Load app reviews dataset's training into the 'dataset' variable\n",
    "dataset = load_dataset(\"app_reviews\", split=\"train\")\n",
    "\n",
    "# Converting the 'star' column in our dataset into a ClassLabel type\n",
    "dataset = dataset.class_encode_column(\"star\")\n",
    "\n",
    "# Display the dataset to view the changes\n",
    "dataset"
   ]
  },
  {
   "cell_type": "code",
   "execution_count": 5,
   "id": "feb7555c",
   "metadata": {},
   "outputs": [
    {
     "data": {
      "text/plain": [
       "{'package_name': 'com.mantz_it.rfanalyzer',\n",
       " 'review': \"Great app! The new version now works on my Bravia Android TV which is great as it's right by my rooftop aerial cable. The scan feature would be useful...any ETA on when this will be available? Also the option to import a list of bookmarks e.g. from a simple properties file would be useful.\",\n",
       " 'date': 'October 12 2016',\n",
       " 'star': 3}"
      ]
     },
     "execution_count": 5,
     "metadata": {},
     "output_type": "execute_result"
    }
   ],
   "source": [
    "dataset[0]"
   ]
  },
  {
   "cell_type": "code",
   "execution_count": 6,
   "id": "03d3c0cd",
   "metadata": {},
   "outputs": [
    {
     "data": {
      "text/plain": [
       "DatasetDict({\n",
       "    train: Dataset({\n",
       "        features: ['package_name', 'review', 'date', 'star'],\n",
       "        num_rows: 172839\n",
       "    })\n",
       "    test: Dataset({\n",
       "        features: ['package_name', 'review', 'date', 'star'],\n",
       "        num_rows: 57613\n",
       "    })\n",
       "    val: Dataset({\n",
       "        features: ['package_name', 'review', 'date', 'star'],\n",
       "        num_rows: 57613\n",
       "    })\n",
       "})"
      ]
     },
     "execution_count": 6,
     "metadata": {},
     "output_type": "execute_result"
    }
   ],
   "source": [
    "# Splitting the dataset into training and testing sets\n",
    "# We reserve 20% of the data for testing and use stratification\n",
    "# on the 'star' column to ensure that the distribution of classes is similar in both sets\n",
    "dataset = dataset.train_test_split(test_size = 0.2, stratify_by_column = \"star\")\n",
    "\n",
    "# Now, we further split the training dataset to reserve 25% of it for its validation.\n",
    "# Again, we stratify by the 'star' column to keep the distribution consistent\n",
    "df = dataset['train'].train_test_split(test_size = 0.25, stratify_by_column = \"star\")\n",
    "\n",
    "# Assigning the split datasets to their respective keys:\n",
    "dataset['train'] = df['train']\n",
    "dataset['val'] = df['test']\n",
    "\n",
    "# Display the dataset\n",
    "dataset"
   ]
  },
  {
   "cell_type": "code",
   "execution_count": 7,
   "id": "df376d9c",
   "metadata": {},
   "outputs": [
    {
     "data": {
      "text/html": [
       "<div>\n",
       "<style scoped>\n",
       "    .dataframe tbody tr th:only-of-type {\n",
       "        vertical-align: middle;\n",
       "    }\n",
       "\n",
       "    .dataframe tbody tr th {\n",
       "        vertical-align: top;\n",
       "    }\n",
       "\n",
       "    .dataframe thead th {\n",
       "        text-align: right;\n",
       "    }\n",
       "</style>\n",
       "<table border=\"1\" class=\"dataframe\">\n",
       "  <thead>\n",
       "    <tr style=\"text-align: right;\">\n",
       "      <th></th>\n",
       "      <th>review</th>\n",
       "      <th>star</th>\n",
       "    </tr>\n",
       "  </thead>\n",
       "  <tbody>\n",
       "    <tr>\n",
       "      <th>0</th>\n",
       "      <td>Boho pin. Many merits Very good app. Chathurar...</td>\n",
       "      <td>4</td>\n",
       "    </tr>\n",
       "    <tr>\n",
       "      <th>1</th>\n",
       "      <td>Not working on my samsung duos phone really ba...</td>\n",
       "      <td>4</td>\n",
       "    </tr>\n",
       "    <tr>\n",
       "      <th>2</th>\n",
       "      <td>I loved it</td>\n",
       "      <td>4</td>\n",
       "    </tr>\n",
       "    <tr>\n",
       "      <th>3</th>\n",
       "      <td>I really luv this app</td>\n",
       "      <td>4</td>\n",
       "    </tr>\n",
       "    <tr>\n",
       "      <th>4</th>\n",
       "      <td>Bakwas root require</td>\n",
       "      <td>0</td>\n",
       "    </tr>\n",
       "    <tr>\n",
       "      <th>5</th>\n",
       "      <td>Almost perfect Request: support for Nexonia. G...</td>\n",
       "      <td>3</td>\n",
       "    </tr>\n",
       "    <tr>\n",
       "      <th>6</th>\n",
       "      <td>This app is being so damn annoying!!!!</td>\n",
       "      <td>0</td>\n",
       "    </tr>\n",
       "    <tr>\n",
       "      <th>7</th>\n",
       "      <td>Bright star Best</td>\n",
       "      <td>4</td>\n",
       "    </tr>\n",
       "    <tr>\n",
       "      <th>8</th>\n",
       "      <td>Good one</td>\n",
       "      <td>2</td>\n",
       "    </tr>\n",
       "    <tr>\n",
       "      <th>9</th>\n",
       "      <td>Super</td>\n",
       "      <td>2</td>\n",
       "    </tr>\n",
       "  </tbody>\n",
       "</table>\n",
       "</div>"
      ],
      "text/plain": [
       "                                              review  star\n",
       "0  Boho pin. Many merits Very good app. Chathurar...     4\n",
       "1  Not working on my samsung duos phone really ba...     4\n",
       "2                                         I loved it     4\n",
       "3                              I really luv this app     4\n",
       "4                                Bakwas root require     0\n",
       "5  Almost perfect Request: support for Nexonia. G...     3\n",
       "6             This app is being so damn annoying!!!!     0\n",
       "7                                   Bright star Best     4\n",
       "8                                           Good one     2\n",
       "9                                              Super     2"
      ]
     },
     "execution_count": 7,
     "metadata": {},
     "output_type": "execute_result"
    }
   ],
   "source": [
    "# convert to pandas DataFrame\n",
    "training_df = pd.DataFrame(dataset['train'])\n",
    "\n",
    "# Display the first few rows of the DataFrame\n",
    "training_df[['review', 'star']].head(10)"
   ]
  },
  {
   "cell_type": "code",
   "execution_count": 8,
   "id": "9797950a",
   "metadata": {},
   "outputs": [
    {
     "data": {
      "text/plain": [
       "Text(0.5, 1.0, 'Distribution of Star Ratings in Training Set')"
      ]
     },
     "execution_count": 8,
     "metadata": {},
     "output_type": "execute_result"
    },
    {
     "data": {
      "image/png": "[encoded data removed]",
      "text/plain": [
       "<Figure size 1000x600 with 1 Axes>"
      ]
     },
     "metadata": {},
     "output_type": "display_data"
    }
   ],
   "source": [
    "# Count the number of occurrences for each 'star' value, sorting by index\n",
    "star_counts = training_df['star'].value_counts().sort_index()\n",
    "\n",
    "# Create a barplot with different colors for each star\n",
    "plt.figure(figsize=(10, 6))\n",
    "colors = plt.cm.tab10(np.linspace(0, 1, len(star_counts.index)))  # Generate a colormap\n",
    "plt.bar(star_counts.index, star_counts.values, color=colors)\n",
    "plt.xlabel('Star Rating')\n",
    "plt.ylabel('Count')\n",
    "plt.title('Distribution of Star Ratings in Training Set')\n"
   ]
  },
  {
   "cell_type": "code",
   "execution_count": 9,
   "id": "5810176c",
   "metadata": {},
   "outputs": [],
   "source": [
    "test_df = pd.DataFrame(dataset['test'])\n",
    "val_df = pd.DataFrame(dataset['val'])"
   ]
  },
  {
   "cell_type": "markdown",
   "id": "66aa513f",
   "metadata": {},
   "source": [
    "## Star Prediction (Sentiment)"
   ]
  },
  {
   "cell_type": "code",
   "execution_count": 10,
   "id": "b24511c7",
   "metadata": {},
   "outputs": [],
   "source": [
    "\"\"\"\n",
    "Prepare the 'review' and 'star' columns for OpenAI API in JSON format.\n",
    "\n",
    "- The 'review' column is transformed into a 'prompt' by appending a separator (\"###\") at the end of each review.\n",
    "- The 'star' column is converted into a string and stored as 'completion'.\n",
    "- This data preparation is specifically designed for non-chat-based OpenAI models like the Babbage model,\n",
    "(deprecated now) which is not a chat-based model.\n",
    "\n",
    "The processed data is then saved into JSON files for training, validation, and testing datasets:\n",
    "1. Duplicates are removed based on the 'prompt' column.\n",
    "2. The data is shuffled randomly to ensure a diverse distribution.\n",
    "3. Only the 'prompt' and 'completion' columns are retained in the output files.\n",
    "\n",
    "Output Files:\n",
    "- \"app-review-full-train-sentiment-random.json\" for the training dataset.\n",
    "- \"app-review-full-val-sentiment-random.json\" for the validation dataset.\n",
    "- \"app-review-full-test-sentiment-random.json\" for the testing dataset.\n",
    "\"\"\"\n",
    "\n",
    "# Lets convert the 'review' column to the 'prompt' adding the separator\n",
    "training_df['prompt'] = training_df['review'] + \"\\n###\\n\"\n",
    "val_df['prompt'] = val_df['review'] + \"\\n###\\n\"\n",
    "test_df['prompt'] = test_df['review'] + \"\\n###\\n\"\n",
    "\n",
    "# Lets convert the 'star' column to the 'completion' as a string\n",
    "training_df['completion'] = training_df['star'].astype(str)\n",
    "val_df['completion'] = val_df['star'].astype(str)   \n",
    "test_df['completion'] = test_df['star'].astype(str)\n",
    "\n",
    "# Store the training dataset in a JSON file format after dropping\n",
    "# the duplicates, random shuffle to ensure data is reshuffled\n",
    "training_df.sample(\n",
    "        len(training_df)).drop_duplicates(\n",
    "        subset = ['prompt']\n",
    "        )[['prompt', 'completion']].to_json(\n",
    "        \"app-review-full-train-sentiment-random.jsonl\",\n",
    "        orient = \"records\", lines = True\n",
    ")\n",
    "\n",
    "# Store the validation dataset in a JSON file format after dropping\n",
    "# the duplicates, random shuffle to ensure data is reshuffled\n",
    "val_df.sample(\n",
    "        len(val_df)).drop_duplicates(\n",
    "        subset = ['prompt']\n",
    "        )[['prompt', 'completion']].to_json(\n",
    "        \"app-review-full-val-sentiment-random.jsonl\",\n",
    "        orient = \"records\", lines = True\n",
    ")\n",
    "\n",
    "# Store the test dataset in a JSON file format after dropping\n",
    "# the duplicates, random shuffle to ensure data is reshuffled\n",
    "test_df.sample(\n",
    "        len(test_df)).drop_duplicates(\n",
    "        subset = ['prompt']\n",
    "        )[['prompt', 'completion']].to_json(\n",
    "        \"app-review-full-test-sentiment-random.jsonl\",\n",
    "        orient = \"records\", lines = True\n",
    ")"
   ]
  },
  {
   "cell_type": "code",
   "execution_count": 11,
   "id": "9289022c",
   "metadata": {},
   "outputs": [],
   "source": [
    "\"\"\"\n",
    "Prepare the data for Chat-based OpenAI GPT-3.5 models.\n",
    "\n",
    "The format for each entry is as follows:\n",
    "{\n",
    "    'messages': [\n",
    "        {'role': 'system', 'content': 'App review prediction'},\n",
    "        {'role': 'user', 'content': 'Great App!'},\n",
    "        {'role': 'assistant', 'content': '4'}\n",
    "    ]\n",
    "}\n",
    "\"\"\"\n",
    "\n",
    "# Function to prepare the data in the required format\n",
    "def prepare_chat_data(df, system=''):\n",
    "    return df.apply(\n",
    "        lambda row: {\n",
    "            'messages': [\n",
    "                {'role': 'system', 'content': system},\n",
    "                {'role': 'user', 'content': row['review']},\n",
    "                {'role': 'assistant', 'content': str(row['star'])}\n",
    "            ]\n",
    "        },\n",
    "        axis=1\n",
    "    ).tolist()  # Convert the result to a list\n",
    "\n",
    "# Prepare the training, validation, and test datasets\n",
    "training_chat_data = prepare_chat_data(training_df)\n",
    "val_chat_data = prepare_chat_data(val_df)\n",
    "test_chat_data = prepare_chat_data(test_df)\n",
    "\n",
    "# Save the prepared data to JSONL files\n",
    "with open(\"app-review-full-train-sentiment-random3.5.jsonl\", \"w\") as train_file:\n",
    "    for entry in training_chat_data:\n",
    "        train_file.write(json.dumps(entry) + \"\\n\")\n",
    "\n",
    "with open(\"app-review-full-test-sentiment-random3.5.jsonl\", \"w\") as val_file:\n",
    "    for entry in val_chat_data:\n",
    "        val_file.write(json.dumps(entry) + \"\\n\")\n",
    "\n",
    "with open(\"app-review-full-val-sentiment-random3.5.jsonl\", \"w\") as test_file:\n",
    "    for entry in test_chat_data:\n",
    "        test_file.write(json.dumps(entry) + \"\\n\")\n"
   ]
  },
  {
   "cell_type": "code",
   "execution_count": 12,
   "id": "34bcb8ac",
   "metadata": {},
   "outputs": [],
   "source": [
    "system_prompt = 'You predict star ratings from 0-4 where 0 is the worst rating and 4 is the best rating. \\\n",
    " You are given a review and you need to predict the star rating.'\n",
    "\n",
    "# Prepare the training, validation, and test datasets\n",
    "training_chat_data_system = prepare_chat_data(training_df, system = system_prompt)\n",
    "val_chat_data_system = prepare_chat_data(val_df, system = system_prompt)\n",
    "test_chat_data_system = prepare_chat_data(test_df, system = system_prompt)\n",
    "\n",
    "# Save the prepared data to JSONL files\n",
    "with open(\"app-review-full-train-sentiment-random3.5-system.jsonl\", \"w\") as train_file:\n",
    "    for entry in training_chat_data_system:\n",
    "        train_file.write(json.dumps(entry) + \"\\n\")\n",
    "\n",
    "with open(\"app-review-full-test-sentiment-random3.5-system.jsonl\", \"w\") as val_file:\n",
    "    for entry in val_chat_data_system:\n",
    "        val_file.write(json.dumps(entry) + \"\\n\")\n",
    "\n",
    "with open(\"app-review-full-val-sentiment-random3.5-system.jsonl\", \"w\") as test_file:\n",
    "    for entry in test_chat_data_system:\n",
    "        test_file.write(json.dumps(entry) + \"\\n\")\n"
   ]
  },
  {
   "cell_type": "code",
   "execution_count": 13,
   "id": "a3202f4c",
   "metadata": {},
   "outputs": [
    {
     "data": {
      "text/plain": [
       "[{'messages': [{'role': 'system', 'content': 'You predict stars'},\n",
       "   {'role': 'user', 'content': 'Great App!'},\n",
       "   {'role': 'assistant', 'content': '4'}]}]"
      ]
     },
     "execution_count": 13,
     "metadata": {},
     "output_type": "execute_result"
    }
   ],
   "source": [
    "# Test example\n",
    "prepare_chat_data(pd.DataFrame({'review': ['Great App!'], 'star': [4]}), system = 'You predict stars')"
   ]
  },
  {
   "cell_type": "markdown",
   "id": "70e1dd74",
   "metadata": {},
   "source": [
    "# Using OpenAI's Fine-tuning API"
   ]
  },
  {
   "cell_type": "code",
   "execution_count": 17,
   "id": "ac512b53",
   "metadata": {},
   "outputs": [
    {
     "data": {
      "text/plain": [
       "{'prompt': 'Useful app\\n###\\n', 'completion': '3'}"
      ]
     },
     "execution_count": 17,
     "metadata": {},
     "output_type": "execute_result"
    }
   ],
   "source": [
    "# Reminder of what this data looks like\n",
    "json.loads(open(r\"app-review-full-train-sentiment-random.jsonl\", \"r\").readlines()[0])"
   ]
  },
  {
   "cell_type": "code",
   "execution_count": 16,
   "id": "c45cf370",
   "metadata": {},
   "outputs": [
    {
     "data": {
      "text/plain": [
       "<openai.OpenAI at 0x205dab91b10>"
      ]
     },
     "execution_count": 16,
     "metadata": {},
     "output_type": "execute_result"
    }
   ],
   "source": [
    "# Lets create an OpenAI API client instance\n",
    "openai_api_key = os.getenv(\"OPENAI_API_KEY\")\n",
    "if openai_api_key is None:\n",
    "    raise ValueError(\"Please set the OPENAI_API_KEY environment variable.\")\n",
    "client = OpenAI(api_key=openai_api_key) \n",
    "client    \n"
   ]
  },
  {
   "cell_type": "markdown",
   "id": "3cce7ac6",
   "metadata": {},
   "source": [
    "## Babbage-002 FineTuning (Deprecated)"
   ]
  },
  {
   "cell_type": "code",
   "execution_count": 18,
   "id": "620eb0a9",
   "metadata": {},
   "outputs": [],
   "source": [
    "# Create a file object for the training dataset with OpenAI API\n",
    "# whrere the purpose is set to 'fine-tune' with the training dataset\n",
    "no_system_training_file = client.files.create(\n",
    "    file = open(\"app-review-full-train-sentiment-random.jsonl\", \"rb\"),\n",
    "    purpose=\"fine-tune\"\n",
    ")\n",
    "\n",
    "# Creating a file object for the validation dataset with OpenAI API\n",
    "no_system_val_file = client.files.create(\n",
    "    file = open(\"app-review-full-val-sentiment-random.jsonl\", \"rb\"),\n",
    "    purpose = \"fine-tune\"\n",
    ")"
   ]
  },
  {
   "cell_type": "code",
   "execution_count": 19,
   "id": "c1598ce3",
   "metadata": {},
   "outputs": [
    {
     "data": {
      "text/plain": [
       "FileObject(id='file-FxZqzFpa1i8dJaJVAzpyic', bytes=16038278, created_at=1744835988, filename='app-review-full-train-sentiment-random.jsonl', object='file', purpose='fine-tune', status='processed', expires_at=None, status_details=None)"
      ]
     },
     "execution_count": 19,
     "metadata": {},
     "output_type": "execute_result"
    }
   ],
   "source": [
    "no_system_training_file"
   ]
  },
  {
   "cell_type": "code",
   "execution_count": null,
   "id": "b75db0b2",
   "metadata": {},
   "outputs": [],
   "source": [
    "\"\"\"\n",
    "Initialize the fine-tuning job using the OpenAI API.\n",
    "\n",
    "This function sets up a fine-tuning job with the following parameters:\n",
    "- `training_file`: The ID of the training file created earlier.\n",
    "- `validation_file`: The ID of the validation file created earlier for evaluation purposes.\n",
    "- `model`: The base model to fine-tune (e.g., \"babbage-002\").\n",
    "- `hyperparameters`: A dictionary containing additional parameters for fine-tuning, such as batch size and learning rate.\n",
    "\n",
    "The `client.fine_tuning.jobs.create` method is used to create the fine-tuning job. Babbagae is deprecated now.\n",
    "\"\"\"\n",
    "\n",
    "no_system_babbage_job = client.fine_tuning.jobs.create(\n",
    "    training_file = no_system_training_file.id,\n",
    "    validation_file = no_system_val_file.id,\n",
    "    model = \"babbage-002\",\n",
    "    hyperparameters = {\n",
    "        \"n_epochs\": 1        \n",
    "    }\n",
    ")\n",
    "\n",
    "# Retrieving details of an ongoing or completed fine-tuning job using OpenAI's API.\n",
    "# The job ID is passed to the method, and it returns the job details.\n",
    "# This can be used to monitor the status of the fine-tuning process, including its progress\n",
    "#  and any errors that may have occurred.\n",
    "job = client.fine_tuning.jobs.retrieve(no_system_babbage_job.id)"
   ]
  },
  {
   "cell_type": "markdown",
   "id": "21cbb0b7",
   "metadata": {},
   "source": [
    "## GPT-3.5 FineTuning"
   ]
  },
  {
   "cell_type": "code",
   "execution_count": 34,
   "id": "b387b32b",
   "metadata": {},
   "outputs": [
    {
     "data": {
      "text/plain": [
       "{'messages': [{'role': 'system', 'content': ''},\n",
       "  {'role': 'user',\n",
       "   'content': \"Droid Turbo 2 and/or Marshmallow OS issues Long story short  I am very sad to say that with my Droid Turbo 1 on Lollipop dying and now I am on the DT2 with a fresh  clean install of Marshmallow  every other app is fine  but this one doesn't work. Every single phone and app setting is properly tweaked. It will NOT turn on and off based on cell phone tower triangulation. This app has not been updated since Jan. 2016 and it is June 2016. The technology is not playing nice. If this continues I must abandon the app and use another. Please fix guys!!!\"},\n",
       "  {'role': 'assistant', 'content': '0'}]}"
      ]
     },
     "execution_count": 34,
     "metadata": {},
     "output_type": "execute_result"
    }
   ],
   "source": [
    "json.loads(open(r\"app-review-full-train-sentiment-random3.5.jsonl\", \"r\").readlines()[0])"
   ]
  },
  {
   "cell_type": "code",
   "execution_count": 35,
   "id": "ca4c4c7c",
   "metadata": {},
   "outputs": [],
   "source": [
    "# Create a file object for the training dataset with OpenAI API\n",
    "# whrere the purpose is set to 'fine-tune' with the training dataset\n",
    "no_system_training_file_3_5 = client.files.create(\n",
    "    file = open(\"app-review-full-train-sentiment-random3.5.jsonl\", \"rb\"),\n",
    "    purpose=\"fine-tune\"\n",
    ")\n",
    "\n",
    "# Creating a file object for the validation dataset with OpenAI API\n",
    "no_system_val_file_3_5 = client.files.create(\n",
    "    file = open(\"app-review-full-val-sentiment-random3.5.jsonl\", \"rb\"),\n",
    "    purpose = \"fine-tune\"\n",
    ")"
   ]
  },
  {
   "cell_type": "code",
   "execution_count": 36,
   "id": "23f43e1e",
   "metadata": {},
   "outputs": [],
   "source": [
    "gpt_3_5_no_system_job = client.fine_tuning.jobs.create(\n",
    "    training_file = no_system_training_file_3_5.id,\n",
    "    validation_file = no_system_val_file_3_5.id,\n",
    "    model = \"gpt-3.5-turbo\",\n",
    "    hyperparameters = {\n",
    "        \"n_epochs\": 1        \n",
    "    }\n",
    ")"
   ]
  },
  {
   "cell_type": "code",
   "execution_count": 37,
   "id": "43a0d64e",
   "metadata": {},
   "outputs": [
    {
     "data": {
      "text/plain": [
       "'ftjob-gREuZJo8ibpLkItbc13IekKj'"
      ]
     },
     "execution_count": 37,
     "metadata": {},
     "output_type": "execute_result"
    }
   ],
   "source": [
    "gpt_3_5_no_system_job.id"
   ]
  },
  {
   "cell_type": "code",
   "execution_count": 38,
   "id": "cafb7886",
   "metadata": {},
   "outputs": [
    {
     "name": "stdout",
     "output_type": "stream",
     "text": [
      "FineTuningJobEvent(id='ftevent-UBObIy63MRr6VL6jjId7W5mP', created_at=1744838742, level='info', message='Validating training file: file-LbyrtpxATd1YYwTuaUtNk5 and validation file: file-8bejTS4zZa9s3TPRPubaxA', object='fine_tuning.job.event', data={}, type='message')\n",
      "--------\n",
      "FineTuningJobEvent(id='ftevent-A1beGcKGIoKSJ6lOGKerFRC7', created_at=1744838742, level='info', message='Created fine-tuning job: ftjob-gREuZJo8ibpLkItbc13IekKj', object='fine_tuning.job.event', data={}, type='message')\n",
      "--------\n"
     ]
    }
   ],
   "source": [
    "for event in client.fine_tuning.jobs.list_events(fine_tuning_job_id=gpt_3_5_no_system_job.id):\n",
    "    print(event, end = '\\n--------\\n')"
   ]
  },
  {
   "cell_type": "code",
   "execution_count": null,
   "id": "08529984",
   "metadata": {},
   "outputs": [
    {
     "name": "stdout",
     "output_type": "stream",
     "text": [
      "Job status: validating_files. Waiting for completion...\n",
      "Job status: validating_files. Waiting for completion...\n",
      "Job status: validating_files. Waiting for completion...\n",
      "Job status: validating_files. Waiting for completion...\n",
      "Job status: validating_files. Waiting for completion...\n",
      "Job status: validating_files. Waiting for completion...\n",
      "Job status: validating_files. Waiting for completion...\n",
      "Job status: validating_files. Waiting for completion...\n",
      "Job status: validating_files. Waiting for completion...\n",
      "Job status: validating_files. Waiting for completion...\n",
      "Job status: validating_files. Waiting for completion...\n",
      "Job status: validating_files. Waiting for completion...\n",
      "Job status: validating_files. Waiting for completion...\n",
      "Job status: validating_files. Waiting for completion...\n",
      "Job status: validating_files. Waiting for completion...\n",
      "Job status: validating_files. Waiting for completion...\n",
      "Job status: validating_files. Waiting for completion...\n",
      "Job status: validating_files. Waiting for completion...\n",
      "Job status: validating_files. Waiting for completion...\n",
      "Job status: validating_files. Waiting for completion...\n",
      "Job status: validating_files. Waiting for completion...\n",
      "Job status: validating_files. Waiting for completion...\n",
      "Job status: validating_files. Waiting for completion...\n",
      "Job status: validating_files. Waiting for completion...\n",
      "Job status: validating_files. Waiting for completion...\n",
      "Job status: validating_files. Waiting for completion...\n",
      "Job status: validating_files. Waiting for completion...\n",
      "Job status: running. Waiting for completion...\n",
      "Job status: running. Waiting for completion...\n",
      "Job status: running. Waiting for completion...\n",
      "Job status: running. Waiting for completion...\n",
      "Job status: running. Waiting for completion...\n",
      "Job status: running. Waiting for completion...\n",
      "Job status: running. Waiting for completion...\n",
      "Fine-tuning job completed successfully!\n",
      "['file-CddywJSudVjutJsiXhsBMJ']\n"
     ]
    }
   ],
   "source": [
    "import time\n",
    "\n",
    "job = client.fine_tuning.jobs.retrieve(gpt_3_5_no_system_job.id)\n",
    "\n",
    "# Wait for the fine-tuning job to complete\n",
    "while job.status not in [\"succeeded\", \"failed\"]:\n",
    "    print(f\"Job status: {job.status}. Waiting for completion...\")\n",
    "    time.sleep(90)  # Wait for 90 seconds before checking again\n",
    "    job = client.fine_tuning.jobs.retrieve(gpt_3_5_no_system_job.id)\n",
    "\n",
    "if job.status == \"succeeded\" and len(job.result_files):\n",
    "    print(\"Fine-tuning job completed successfully!\")\n",
    "    print(job.result_files)\n",
    "    results = client.files.content(job.result_files[0])\n",
    "\n",
    "elif job.status == \"failed\":\n",
    "    raise ValueError(f\"Fine-tuning job failed with error: {job.error.message}\")\n",
    "else:\n",
    "    raise ValueError(\"Unexpected job status!\")"
   ]
  },
  {
   "cell_type": "code",
   "execution_count": null,
   "id": "b26a2acf",
   "metadata": {},
   "outputs": [
    {
     "name": "stdout",
     "output_type": "stream",
     "text": [
      "DataFrame shape: (1503, 7)\n",
      "   step  train_loss  train_accuracy  valid_loss  valid_mean_token_accuracy  \\\n",
      "0     1    11.11535         0.35942         NaN                        NaN   \n",
      "1     2    11.15301         0.35942         NaN                        NaN   \n",
      "2     3    11.17708         0.36522         NaN                        NaN   \n",
      "3     4    11.43135         0.34493         NaN                        NaN   \n",
      "4     5    11.01843         0.36232         NaN                        NaN   \n",
      "\n",
      "   train_mean_reward  full_validation_mean_reward  \n",
      "0                NaN                          NaN  \n",
      "1                NaN                          NaN  \n",
      "2                NaN                          NaN  \n",
      "3                NaN                          NaN  \n",
      "4                NaN                          NaN  \n"
     ]
    }
   ],
   "source": [
    "# The ID of your result file that you already have\n",
    "result_file_id = 'file-CddywJSudVjutJsiXhsBMJ'\n",
    "\n",
    "# Download the content of the result file\n",
    "results = client.files.content(result_file_id)\n",
    "base64_string = results.read()\n",
    "\n",
    "# Decode the base64 string\n",
    "try:\n",
    "    # Some OpenAI files are base64 encoded\n",
    "    decoded_bytes = base64.b64decode(base64_string)\n",
    "    decoded_str = decoded_bytes.decode('utf-8')\n",
    "except:\n",
    "    # If it's not base64 encoded, use the raw content\n",
    "    decoded_str = base64_string.decode('utf-8')\n",
    "\n",
    "# Save to a CSV file\n",
    "with open(\"fine_tuning_results.csv\", \"w\") as f:\n",
    "    f.write(decoded_str)\n",
    "\n",
    "# Create the dataframe\n",
    "result_df = pd.read_csv(\"fine_tuning_results.csv\")\n",
    "\n",
    "# Now you can work with the dataframe, if you notice\n",
    "# it calcuates accuracy since it recognizes its a classification task\n",
    "# The validation loss does not get computed often because it would take\n",
    "# a lot of time to compute it.\n",
    "print(f\"DataFrame shape: {result_df.shape}\")\n",
    "print(result_df.head())"
   ]
  },
  {
   "cell_type": "code",
   "execution_count": 44,
   "id": "073c4649",
   "metadata": {},
   "outputs": [
    {
     "data": {
      "image/png": "[encoded data removed]",
      "text/plain": [
       "<Figure size 1000x600 with 1 Axes>"
      ]
     },
     "metadata": {},
     "output_type": "display_data"
    }
   ],
   "source": [
    "plt.figure(figsize=(10, 6))\n",
    "result_df['train_loss'].dropna().plot(label='Train Loss', color='blue', linewidth=2)\n",
    "\n",
    "# Adding labels and title\n",
    "plt.xlabel('Epoch/Index', fontsize=12, fontweight='bold')\n",
    "plt.ylabel('Train Loss', fontsize=12, fontweight='bold')\n",
    "plt.title('Training Loss Over Time', fontsize=15, fontweight='bold')\n",
    "\n",
    "# Adding a legend\n",
    "plt.legend(fontsize=10)\n",
    "\n",
    "# Display the grid for better readability\n",
    "plt.grid(alpha=0.5)\n",
    "\n",
    "# Show the plot\n",
    "plt.show()\n"
   ]
  },
  {
   "cell_type": "code",
   "execution_count": null,
   "id": "5aa44da3",
   "metadata": {},
   "outputs": [
    {
     "data": {
      "image/png": "[encoded data removed]",
      "text/plain": [
       "<Figure size 1000x600 with 1 Axes>"
      ]
     },
     "metadata": {},
     "output_type": "display_data"
    }
   ],
   "source": [
    "plt.figure(figsize=(10, 6))\n",
    "result_df['train_accuracy'].dropna().plot(label='Train Accuracy', color='green', linewidth=2)\n",
    "\n",
    "# Adding labels and title\n",
    "plt.xlabel('Epoch/Index', fontsize=12, fontweight='bold')\n",
    "plt.ylabel('Train Accuracy', fontsize=12, fontweight='bold')\n",
    "plt.title('Training Accuracy Over Time', fontsize=15, fontweight='bold')\n",
    "\n",
    "# Adding a legend\n",
    "plt.legend(fontsize=10)\n",
    "\n",
    "# Display the grid for better readability\n",
    "plt.grid(alpha=0.5)\n",
    "\n",
    "# Show the plot\n",
    "plt.show()\n"
   ]
  },
  {
   "cell_type": "markdown",
   "id": "4d90f463",
   "metadata": {},
   "source": [
    "## Lets fine tune the resulting fine-tuned model above for 3 more epochs"
   ]
  },
  {
   "cell_type": "code",
   "execution_count": 46,
   "id": "dde0e508",
   "metadata": {},
   "outputs": [
    {
     "data": {
      "text/plain": [
       "'ft:gpt-3.5-turbo-0125:personal::BN758GiZ'"
      ]
     },
     "execution_count": 46,
     "metadata": {},
     "output_type": "execute_result"
    }
   ],
   "source": [
    "job.fine_tuned_model"
   ]
  },
  {
   "cell_type": "code",
   "execution_count": null,
   "id": "abc4b61b",
   "metadata": {},
   "outputs": [],
   "source": [
    "gpt_3_5_no_system_job_more_epochs = client.fine_tuning.jobs.create(\n",
    "    training_file = no_system_training_file_3_5.id,\n",
    "    validation_file = no_system_val_file_3_5.id,\n",
    "    model = job.fine_tuned_model, # we use fine-tuned model\n",
    "    hyperparameters = {\n",
    "        \"n_epochs\": 3        \n",
    "    }\n",
    ")\n",
    "\n",
    "# and follow the same process as above to check the status of the job"
   ]
  },
  {
   "cell_type": "markdown",
   "id": "7715921f",
   "metadata": {},
   "source": [
    "## Fine tune GPT-3.5 with a system prompt"
   ]
  },
  {
   "cell_type": "code",
   "execution_count": 14,
   "id": "d129e2d0",
   "metadata": {},
   "outputs": [
    {
     "data": {
      "text/plain": [
       "{'messages': [{'role': 'system',\n",
       "   'content': 'You predict star ratings from 0-4 where 0 is the worst rating and 4 is the best rating.  You are given a review and you need to predict the star rating.'},\n",
       "  {'role': 'user',\n",
       "   'content': 'Boho pin. Many merits Very good app. Chathurarya sathya awabodhayata hethu weva.'},\n",
       "  {'role': 'assistant', 'content': '4'}]}"
      ]
     },
     "execution_count": 14,
     "metadata": {},
     "output_type": "execute_result"
    }
   ],
   "source": [
    "# reminder of what this data looks like\n",
    "json.loads(open(r\"app-review-full-train-sentiment-random3.5-system.jsonl\", \"r\").readlines()[0])"
   ]
  },
  {
   "cell_type": "code",
   "execution_count": 17,
   "id": "cddd2d1d",
   "metadata": {},
   "outputs": [],
   "source": [
    "training_file_3_5_system = client.files.create(\n",
    "    file = open(\"app-review-full-train-sentiment-random3.5-system.jsonl\", \"rb\"),\n",
    "    purpose = \"fine-tune\"\n",
    ")\n",
    "\n",
    "val_file_3_5_system = client.files.create(\n",
    "    file = open(\"app-review-full-val-sentiment-random3.5-system.jsonl\", \"rb\"),\n",
    "    purpose = \"fine-tune\"\n",
    ")"
   ]
  },
  {
   "cell_type": "code",
   "execution_count": 18,
   "id": "6e4ce33d",
   "metadata": {},
   "outputs": [
    {
     "ename": "BadRequestError",
     "evalue": "Error code: 400 - {'error': {'message': 'You exceeded your current quota, please check your plan and billing details.', 'type': 'invalid_request_error', 'param': None, 'code': 'exceeded_quota'}}",
     "output_type": "error",
     "traceback": [
      "\u001b[1;31m---------------------------------------------------------------------------\u001b[0m",
      "\u001b[1;31mBadRequestError\u001b[0m                           Traceback (most recent call last)",
      "Cell \u001b[1;32mIn[18], line 1\u001b[0m\n\u001b[1;32m----> 1\u001b[0m gpt_3_5_system_job \u001b[38;5;241m=\u001b[39m \u001b[43mclient\u001b[49m\u001b[38;5;241;43m.\u001b[39;49m\u001b[43mfine_tuning\u001b[49m\u001b[38;5;241;43m.\u001b[39;49m\u001b[43mjobs\u001b[49m\u001b[38;5;241;43m.\u001b[39;49m\u001b[43mcreate\u001b[49m\u001b[43m(\u001b[49m\n\u001b[0;32m      2\u001b[0m \u001b[43m    \u001b[49m\u001b[43mtraining_file\u001b[49m\u001b[43m \u001b[49m\u001b[38;5;241;43m=\u001b[39;49m\u001b[43m \u001b[49m\u001b[43mtraining_file_3_5_system\u001b[49m\u001b[38;5;241;43m.\u001b[39;49m\u001b[43mid\u001b[49m\u001b[43m,\u001b[49m\n\u001b[0;32m      3\u001b[0m \u001b[43m    \u001b[49m\u001b[43mvalidation_file\u001b[49m\u001b[43m \u001b[49m\u001b[38;5;241;43m=\u001b[39;49m\u001b[43m \u001b[49m\u001b[43mval_file_3_5_system\u001b[49m\u001b[38;5;241;43m.\u001b[39;49m\u001b[43mid\u001b[49m\u001b[43m,\u001b[49m\n\u001b[0;32m      4\u001b[0m \u001b[43m    \u001b[49m\u001b[43mmodel\u001b[49m\u001b[43m \u001b[49m\u001b[38;5;241;43m=\u001b[39;49m\u001b[43m \u001b[49m\u001b[38;5;124;43m\"\u001b[39;49m\u001b[38;5;124;43mgpt-3.5-turbo\u001b[39;49m\u001b[38;5;124;43m\"\u001b[39;49m\u001b[43m,\u001b[49m\u001b[43m \u001b[49m\u001b[38;5;66;43;03m# use base model for new fine-tuning\u001b[39;49;00m\n\u001b[0;32m      5\u001b[0m \u001b[43m    \u001b[49m\u001b[43mhyperparameters\u001b[49m\u001b[43m \u001b[49m\u001b[38;5;241;43m=\u001b[39;49m\u001b[43m \u001b[49m\u001b[43m{\u001b[49m\n\u001b[0;32m      6\u001b[0m \u001b[43m        \u001b[49m\u001b[38;5;124;43m\"\u001b[39;49m\u001b[38;5;124;43mn_epochs\u001b[39;49m\u001b[38;5;124;43m\"\u001b[39;49m\u001b[43m:\u001b[49m\u001b[43m \u001b[49m\u001b[38;5;241;43m1\u001b[39;49m\u001b[43m       \u001b[49m\n\u001b[0;32m      7\u001b[0m \u001b[43m    \u001b[49m\u001b[43m}\u001b[49m\n\u001b[0;32m      8\u001b[0m \u001b[43m)\u001b[49m\n",
      "File \u001b[1;32mc:\\Users\\anita\\Desktop\\clustering_ny_city_planning\\.venv\\lib\\site-packages\\openai\\resources\\fine_tuning\\jobs\\jobs.py:159\u001b[0m, in \u001b[0;36mJobs.create\u001b[1;34m(self, model, training_file, hyperparameters, integrations, metadata, method, seed, suffix, validation_file, extra_headers, extra_query, extra_body, timeout)\u001b[0m\n\u001b[0;32m     64\u001b[0m \u001b[38;5;28;01mdef\u001b[39;00m\u001b[38;5;250m \u001b[39m\u001b[38;5;21mcreate\u001b[39m(\n\u001b[0;32m     65\u001b[0m     \u001b[38;5;28mself\u001b[39m,\n\u001b[0;32m     66\u001b[0m     \u001b[38;5;241m*\u001b[39m,\n\u001b[1;32m   (...)\u001b[0m\n\u001b[0;32m     81\u001b[0m     timeout: \u001b[38;5;28mfloat\u001b[39m \u001b[38;5;241m|\u001b[39m httpx\u001b[38;5;241m.\u001b[39mTimeout \u001b[38;5;241m|\u001b[39m \u001b[38;5;28;01mNone\u001b[39;00m \u001b[38;5;241m|\u001b[39m NotGiven \u001b[38;5;241m=\u001b[39m NOT_GIVEN,\n\u001b[0;32m     82\u001b[0m ) \u001b[38;5;241m-\u001b[39m\u001b[38;5;241m>\u001b[39m FineTuningJob:\n\u001b[0;32m     83\u001b[0m \u001b[38;5;250m    \u001b[39m\u001b[38;5;124;03m\"\"\"\u001b[39;00m\n\u001b[0;32m     84\u001b[0m \u001b[38;5;124;03m    Creates a fine-tuning job which begins the process of creating a new model from\u001b[39;00m\n\u001b[0;32m     85\u001b[0m \u001b[38;5;124;03m    a given dataset.\u001b[39;00m\n\u001b[1;32m   (...)\u001b[0m\n\u001b[0;32m    157\u001b[0m \u001b[38;5;124;03m      timeout: Override the client-level default timeout for this request, in seconds\u001b[39;00m\n\u001b[0;32m    158\u001b[0m \u001b[38;5;124;03m    \"\"\"\u001b[39;00m\n\u001b[1;32m--> 159\u001b[0m     \u001b[38;5;28;01mreturn\u001b[39;00m \u001b[38;5;28;43mself\u001b[39;49m\u001b[38;5;241;43m.\u001b[39;49m\u001b[43m_post\u001b[49m\u001b[43m(\u001b[49m\n\u001b[0;32m    160\u001b[0m \u001b[43m        \u001b[49m\u001b[38;5;124;43m\"\u001b[39;49m\u001b[38;5;124;43m/fine_tuning/jobs\u001b[39;49m\u001b[38;5;124;43m\"\u001b[39;49m\u001b[43m,\u001b[49m\n\u001b[0;32m    161\u001b[0m \u001b[43m        \u001b[49m\u001b[43mbody\u001b[49m\u001b[38;5;241;43m=\u001b[39;49m\u001b[43mmaybe_transform\u001b[49m\u001b[43m(\u001b[49m\n\u001b[0;32m    162\u001b[0m \u001b[43m            \u001b[49m\u001b[43m{\u001b[49m\n\u001b[0;32m    163\u001b[0m \u001b[43m                \u001b[49m\u001b[38;5;124;43m\"\u001b[39;49m\u001b[38;5;124;43mmodel\u001b[39;49m\u001b[38;5;124;43m\"\u001b[39;49m\u001b[43m:\u001b[49m\u001b[43m \u001b[49m\u001b[43mmodel\u001b[49m\u001b[43m,\u001b[49m\n\u001b[0;32m    164\u001b[0m \u001b[43m                \u001b[49m\u001b[38;5;124;43m\"\u001b[39;49m\u001b[38;5;124;43mtraining_file\u001b[39;49m\u001b[38;5;124;43m\"\u001b[39;49m\u001b[43m:\u001b[49m\u001b[43m \u001b[49m\u001b[43mtraining_file\u001b[49m\u001b[43m,\u001b[49m\n\u001b[0;32m    165\u001b[0m \u001b[43m                \u001b[49m\u001b[38;5;124;43m\"\u001b[39;49m\u001b[38;5;124;43mhyperparameters\u001b[39;49m\u001b[38;5;124;43m\"\u001b[39;49m\u001b[43m:\u001b[49m\u001b[43m \u001b[49m\u001b[43mhyperparameters\u001b[49m\u001b[43m,\u001b[49m\n\u001b[0;32m    166\u001b[0m \u001b[43m                \u001b[49m\u001b[38;5;124;43m\"\u001b[39;49m\u001b[38;5;124;43mintegrations\u001b[39;49m\u001b[38;5;124;43m\"\u001b[39;49m\u001b[43m:\u001b[49m\u001b[43m \u001b[49m\u001b[43mintegrations\u001b[49m\u001b[43m,\u001b[49m\n\u001b[0;32m    167\u001b[0m \u001b[43m                \u001b[49m\u001b[38;5;124;43m\"\u001b[39;49m\u001b[38;5;124;43mmetadata\u001b[39;49m\u001b[38;5;124;43m\"\u001b[39;49m\u001b[43m:\u001b[49m\u001b[43m \u001b[49m\u001b[43mmetadata\u001b[49m\u001b[43m,\u001b[49m\n\u001b[0;32m    168\u001b[0m \u001b[43m                \u001b[49m\u001b[38;5;124;43m\"\u001b[39;49m\u001b[38;5;124;43mmethod\u001b[39;49m\u001b[38;5;124;43m\"\u001b[39;49m\u001b[43m:\u001b[49m\u001b[43m \u001b[49m\u001b[43mmethod\u001b[49m\u001b[43m,\u001b[49m\n\u001b[0;32m    169\u001b[0m \u001b[43m                \u001b[49m\u001b[38;5;124;43m\"\u001b[39;49m\u001b[38;5;124;43mseed\u001b[39;49m\u001b[38;5;124;43m\"\u001b[39;49m\u001b[43m:\u001b[49m\u001b[43m \u001b[49m\u001b[43mseed\u001b[49m\u001b[43m,\u001b[49m\n\u001b[0;32m    170\u001b[0m \u001b[43m                \u001b[49m\u001b[38;5;124;43m\"\u001b[39;49m\u001b[38;5;124;43msuffix\u001b[39;49m\u001b[38;5;124;43m\"\u001b[39;49m\u001b[43m:\u001b[49m\u001b[43m \u001b[49m\u001b[43msuffix\u001b[49m\u001b[43m,\u001b[49m\n\u001b[0;32m    171\u001b[0m \u001b[43m                \u001b[49m\u001b[38;5;124;43m\"\u001b[39;49m\u001b[38;5;124;43mvalidation_file\u001b[39;49m\u001b[38;5;124;43m\"\u001b[39;49m\u001b[43m:\u001b[49m\u001b[43m \u001b[49m\u001b[43mvalidation_file\u001b[49m\u001b[43m,\u001b[49m\n\u001b[0;32m    172\u001b[0m \u001b[43m            \u001b[49m\u001b[43m}\u001b[49m\u001b[43m,\u001b[49m\n\u001b[0;32m    173\u001b[0m \u001b[43m            \u001b[49m\u001b[43mjob_create_params\u001b[49m\u001b[38;5;241;43m.\u001b[39;49m\u001b[43mJobCreateParams\u001b[49m\u001b[43m,\u001b[49m\n\u001b[0;32m    174\u001b[0m \u001b[43m        \u001b[49m\u001b[43m)\u001b[49m\u001b[43m,\u001b[49m\n\u001b[0;32m    175\u001b[0m \u001b[43m        \u001b[49m\u001b[43moptions\u001b[49m\u001b[38;5;241;43m=\u001b[39;49m\u001b[43mmake_request_options\u001b[49m\u001b[43m(\u001b[49m\n\u001b[0;32m    176\u001b[0m \u001b[43m            \u001b[49m\u001b[43mextra_headers\u001b[49m\u001b[38;5;241;43m=\u001b[39;49m\u001b[43mextra_headers\u001b[49m\u001b[43m,\u001b[49m\u001b[43m \u001b[49m\u001b[43mextra_query\u001b[49m\u001b[38;5;241;43m=\u001b[39;49m\u001b[43mextra_query\u001b[49m\u001b[43m,\u001b[49m\u001b[43m \u001b[49m\u001b[43mextra_body\u001b[49m\u001b[38;5;241;43m=\u001b[39;49m\u001b[43mextra_body\u001b[49m\u001b[43m,\u001b[49m\u001b[43m \u001b[49m\u001b[43mtimeout\u001b[49m\u001b[38;5;241;43m=\u001b[39;49m\u001b[43mtimeout\u001b[49m\n\u001b[0;32m    177\u001b[0m \u001b[43m        \u001b[49m\u001b[43m)\u001b[49m\u001b[43m,\u001b[49m\n\u001b[0;32m    178\u001b[0m \u001b[43m        \u001b[49m\u001b[43mcast_to\u001b[49m\u001b[38;5;241;43m=\u001b[39;49m\u001b[43mFineTuningJob\u001b[49m\u001b[43m,\u001b[49m\n\u001b[0;32m    179\u001b[0m \u001b[43m    \u001b[49m\u001b[43m)\u001b[49m\n",
      "File \u001b[1;32mc:\\Users\\anita\\Desktop\\clustering_ny_city_planning\\.venv\\lib\\site-packages\\openai\\_base_client.py:1242\u001b[0m, in \u001b[0;36mSyncAPIClient.post\u001b[1;34m(self, path, cast_to, body, options, files, stream, stream_cls)\u001b[0m\n\u001b[0;32m   1228\u001b[0m \u001b[38;5;28;01mdef\u001b[39;00m\u001b[38;5;250m \u001b[39m\u001b[38;5;21mpost\u001b[39m(\n\u001b[0;32m   1229\u001b[0m     \u001b[38;5;28mself\u001b[39m,\n\u001b[0;32m   1230\u001b[0m     path: \u001b[38;5;28mstr\u001b[39m,\n\u001b[1;32m   (...)\u001b[0m\n\u001b[0;32m   1237\u001b[0m     stream_cls: \u001b[38;5;28mtype\u001b[39m[_StreamT] \u001b[38;5;241m|\u001b[39m \u001b[38;5;28;01mNone\u001b[39;00m \u001b[38;5;241m=\u001b[39m \u001b[38;5;28;01mNone\u001b[39;00m,\n\u001b[0;32m   1238\u001b[0m ) \u001b[38;5;241m-\u001b[39m\u001b[38;5;241m>\u001b[39m ResponseT \u001b[38;5;241m|\u001b[39m _StreamT:\n\u001b[0;32m   1239\u001b[0m     opts \u001b[38;5;241m=\u001b[39m FinalRequestOptions\u001b[38;5;241m.\u001b[39mconstruct(\n\u001b[0;32m   1240\u001b[0m         method\u001b[38;5;241m=\u001b[39m\u001b[38;5;124m\"\u001b[39m\u001b[38;5;124mpost\u001b[39m\u001b[38;5;124m\"\u001b[39m, url\u001b[38;5;241m=\u001b[39mpath, json_data\u001b[38;5;241m=\u001b[39mbody, files\u001b[38;5;241m=\u001b[39mto_httpx_files(files), \u001b[38;5;241m*\u001b[39m\u001b[38;5;241m*\u001b[39moptions\n\u001b[0;32m   1241\u001b[0m     )\n\u001b[1;32m-> 1242\u001b[0m     \u001b[38;5;28;01mreturn\u001b[39;00m cast(ResponseT, \u001b[38;5;28;43mself\u001b[39;49m\u001b[38;5;241;43m.\u001b[39;49m\u001b[43mrequest\u001b[49m\u001b[43m(\u001b[49m\u001b[43mcast_to\u001b[49m\u001b[43m,\u001b[49m\u001b[43m \u001b[49m\u001b[43mopts\u001b[49m\u001b[43m,\u001b[49m\u001b[43m \u001b[49m\u001b[43mstream\u001b[49m\u001b[38;5;241;43m=\u001b[39;49m\u001b[43mstream\u001b[49m\u001b[43m,\u001b[49m\u001b[43m \u001b[49m\u001b[43mstream_cls\u001b[49m\u001b[38;5;241;43m=\u001b[39;49m\u001b[43mstream_cls\u001b[49m\u001b[43m)\u001b[49m)\n",
      "File \u001b[1;32mc:\\Users\\anita\\Desktop\\clustering_ny_city_planning\\.venv\\lib\\site-packages\\openai\\_base_client.py:919\u001b[0m, in \u001b[0;36mSyncAPIClient.request\u001b[1;34m(self, cast_to, options, remaining_retries, stream, stream_cls)\u001b[0m\n\u001b[0;32m    916\u001b[0m \u001b[38;5;28;01melse\u001b[39;00m:\n\u001b[0;32m    917\u001b[0m     retries_taken \u001b[38;5;241m=\u001b[39m \u001b[38;5;241m0\u001b[39m\n\u001b[1;32m--> 919\u001b[0m \u001b[38;5;28;01mreturn\u001b[39;00m \u001b[38;5;28;43mself\u001b[39;49m\u001b[38;5;241;43m.\u001b[39;49m\u001b[43m_request\u001b[49m\u001b[43m(\u001b[49m\n\u001b[0;32m    920\u001b[0m \u001b[43m    \u001b[49m\u001b[43mcast_to\u001b[49m\u001b[38;5;241;43m=\u001b[39;49m\u001b[43mcast_to\u001b[49m\u001b[43m,\u001b[49m\n\u001b[0;32m    921\u001b[0m \u001b[43m    \u001b[49m\u001b[43moptions\u001b[49m\u001b[38;5;241;43m=\u001b[39;49m\u001b[43moptions\u001b[49m\u001b[43m,\u001b[49m\n\u001b[0;32m    922\u001b[0m \u001b[43m    \u001b[49m\u001b[43mstream\u001b[49m\u001b[38;5;241;43m=\u001b[39;49m\u001b[43mstream\u001b[49m\u001b[43m,\u001b[49m\n\u001b[0;32m    923\u001b[0m \u001b[43m    \u001b[49m\u001b[43mstream_cls\u001b[49m\u001b[38;5;241;43m=\u001b[39;49m\u001b[43mstream_cls\u001b[49m\u001b[43m,\u001b[49m\n\u001b[0;32m    924\u001b[0m \u001b[43m    \u001b[49m\u001b[43mretries_taken\u001b[49m\u001b[38;5;241;43m=\u001b[39;49m\u001b[43mretries_taken\u001b[49m\u001b[43m,\u001b[49m\n\u001b[0;32m    925\u001b[0m \u001b[43m\u001b[49m\u001b[43m)\u001b[49m\n",
      "File \u001b[1;32mc:\\Users\\anita\\Desktop\\clustering_ny_city_planning\\.venv\\lib\\site-packages\\openai\\_base_client.py:1023\u001b[0m, in \u001b[0;36mSyncAPIClient._request\u001b[1;34m(self, cast_to, options, retries_taken, stream, stream_cls)\u001b[0m\n\u001b[0;32m   1020\u001b[0m         err\u001b[38;5;241m.\u001b[39mresponse\u001b[38;5;241m.\u001b[39mread()\n\u001b[0;32m   1022\u001b[0m     log\u001b[38;5;241m.\u001b[39mdebug(\u001b[38;5;124m\"\u001b[39m\u001b[38;5;124mRe-raising status error\u001b[39m\u001b[38;5;124m\"\u001b[39m)\n\u001b[1;32m-> 1023\u001b[0m     \u001b[38;5;28;01mraise\u001b[39;00m \u001b[38;5;28mself\u001b[39m\u001b[38;5;241m.\u001b[39m_make_status_error_from_response(err\u001b[38;5;241m.\u001b[39mresponse) \u001b[38;5;28;01mfrom\u001b[39;00m\u001b[38;5;250m \u001b[39m\u001b[38;5;28;01mNone\u001b[39;00m\n\u001b[0;32m   1025\u001b[0m \u001b[38;5;28;01mreturn\u001b[39;00m \u001b[38;5;28mself\u001b[39m\u001b[38;5;241m.\u001b[39m_process_response(\n\u001b[0;32m   1026\u001b[0m     cast_to\u001b[38;5;241m=\u001b[39mcast_to,\n\u001b[0;32m   1027\u001b[0m     options\u001b[38;5;241m=\u001b[39moptions,\n\u001b[1;32m   (...)\u001b[0m\n\u001b[0;32m   1031\u001b[0m     retries_taken\u001b[38;5;241m=\u001b[39mretries_taken,\n\u001b[0;32m   1032\u001b[0m )\n",
      "\u001b[1;31mBadRequestError\u001b[0m: Error code: 400 - {'error': {'message': 'You exceeded your current quota, please check your plan and billing details.', 'type': 'invalid_request_error', 'param': None, 'code': 'exceeded_quota'}}"
     ]
    }
   ],
   "source": [
    "gpt_3_5_system_job = client.fine_tuning.jobs.create(\n",
    "    training_file = training_file_3_5_system.id,\n",
    "    validation_file = val_file_3_5_system.id,\n",
    "    model = \"gpt-3.5-turbo\", # use base model for new fine-tuning\n",
    "    hyperparameters = {\n",
    "        \"n_epochs\": 1       \n",
    "    }\n",
    ")"
   ]
  },
  {
   "cell_type": "code",
   "execution_count": 51,
   "id": "d2679585",
   "metadata": {},
   "outputs": [
    {
     "ename": "NameError",
     "evalue": "name 'gpt_3_5_system_job' is not defined",
     "output_type": "error",
     "traceback": [
      "\u001b[1;31m---------------------------------------------------------------------------\u001b[0m",
      "\u001b[1;31mNameError\u001b[0m                                 Traceback (most recent call last)",
      "Cell \u001b[1;32mIn[51], line 1\u001b[0m\n\u001b[1;32m----> 1\u001b[0m \u001b[43mgpt_3_5_system_job\u001b[49m\u001b[38;5;241m.\u001b[39mid\n",
      "\u001b[1;31mNameError\u001b[0m: name 'gpt_3_5_system_job' is not defined"
     ]
    }
   ],
   "source": [
    "gpt_3_5_system_job.id"
   ]
  },
  {
   "cell_type": "code",
   "execution_count": 53,
   "id": "a7f8904e",
   "metadata": {},
   "outputs": [
    {
     "ename": "NameError",
     "evalue": "name 'gpt_3_5_system_job' is not defined",
     "output_type": "error",
     "traceback": [
      "\u001b[1;31m---------------------------------------------------------------------------\u001b[0m",
      "\u001b[1;31mNameError\u001b[0m                                 Traceback (most recent call last)",
      "Cell \u001b[1;32mIn[53], line 1\u001b[0m\n\u001b[1;32m----> 1\u001b[0m job \u001b[38;5;241m=\u001b[39m client\u001b[38;5;241m.\u001b[39mfine_tuning\u001b[38;5;241m.\u001b[39mjobs\u001b[38;5;241m.\u001b[39mretrieve(\u001b[43mgpt_3_5_system_job\u001b[49m\u001b[38;5;241m.\u001b[39mid)\n\u001b[0;32m      3\u001b[0m \u001b[38;5;66;03m# Wait for the fine-tuning job to complete\u001b[39;00m\n\u001b[0;32m      4\u001b[0m \u001b[38;5;28;01mwhile\u001b[39;00m job\u001b[38;5;241m.\u001b[39mstatus \u001b[38;5;129;01mnot\u001b[39;00m \u001b[38;5;129;01min\u001b[39;00m [\u001b[38;5;124m\"\u001b[39m\u001b[38;5;124msucceeded\u001b[39m\u001b[38;5;124m\"\u001b[39m, \u001b[38;5;124m\"\u001b[39m\u001b[38;5;124mfailed\u001b[39m\u001b[38;5;124m\"\u001b[39m]:\n",
      "\u001b[1;31mNameError\u001b[0m: name 'gpt_3_5_system_job' is not defined"
     ]
    }
   ],
   "source": [
    "job = client.fine_tuning.jobs.retrieve(gpt_3_5_system_job.id)\n",
    "\n",
    "# Wait for the fine-tuning job to complete\n",
    "while job.status not in [\"succeeded\", \"failed\"]:\n",
    "    print(f\"Job status: {job.status}. Waiting for completion...\")\n",
    "    time.sleep(90)  # Wait for 90 seconds before checking again\n",
    "    job = client.fine_tuning.jobs.retrieve(gpt_3_5_system_job.id)\n",
    "\n",
    "if job.status == \"succeeded\" and len(job.result_files):\n",
    "    print(\"Fine-tuning job completed successfully!\")\n",
    "    print(job.result_files)\n",
    "    results = client.files.content(job.result_files[0])\n",
    "\n",
    "elif job.status == \"failed\":\n",
    "    raise ValueError(f\"Fine-tuning job failed with error: {job.error.message}\")\n",
    "else:\n",
    "    raise ValueError(\"Unexpected job status!\")"
   ]
  },
  {
   "cell_type": "code",
   "execution_count": null,
   "id": "bb066ff6",
   "metadata": {},
   "outputs": [],
   "source": [
    "# The ID of your result file from the GPT-3.5 system fine-tuning job\n",
    "result_file_id = job.result_files[0]  # Get the result file ID from the current job\n",
    "\n",
    "# Download the content of the result file\n",
    "results = client.files.content(result_file_id)\n",
    "base64_string = results.read()\n",
    "\n",
    "# Decode the base64 string\n",
    "try:\n",
    "    # Some OpenAI files are base64 encoded\n",
    "    decoded_bytes = base64.b64decode(base64_string)\n",
    "    decoded_str = decoded_bytes.decode('utf-8')\n",
    "except:\n",
    "    # If it's not base64 encoded, use the raw content\n",
    "    decoded_str = base64_string.decode('utf-8')\n",
    "\n",
    "# Save to a CSV file\n",
    "with open(\"fine_tuning_results_gpt35_system.csv\", \"w\") as f:\n",
    "    f.write(decoded_str)\n",
    "\n",
    "# Create the dataframe\n",
    "result_df = pd.read_csv(\"fine_tuning_results_gpt35_system.csv\")\n",
    "\n",
    "# Display the results\n",
    "print(f\"DataFrame shape: {result_df.shape}\")\n",
    "print(result_df.head())\n"
   ]
  },
  {
   "cell_type": "code",
   "execution_count": null,
   "id": "c82a7b2c",
   "metadata": {},
   "outputs": [],
   "source": [
    "plt.figure(figsize=(10, 6))\n",
    "result_df['train_loss'].dropna().plot(label='Train Loss', color='blue', linewidth=2)\n",
    "\n",
    "# Adding labels and title\n",
    "plt.xlabel('Step', fontsize=12, fontweight='bold')\n",
    "plt.ylabel('Train Loss', fontsize=12, fontweight='bold')\n",
    "plt.title('Training Loss Over Time', fontsize=15, fontweight='bold')\n",
    "\n",
    "# Adding a legend\n",
    "plt.legend(fontsize=10)\n",
    "\n",
    "# Display the grid for better readability\n",
    "plt.grid(alpha=0.5)\n",
    "\n",
    "# Show the plot\n",
    "plt.show()"
   ]
  },
  {
   "cell_type": "code",
   "execution_count": null,
   "id": "97d0b037",
   "metadata": {},
   "outputs": [],
   "source": [
    "# Create a new figure for accuracy\n",
    "plt.figure(figsize=(10, 6))\n",
    "result_df['train_accuracy'].dropna().plot(label='Train Accuracy', color='green', linewidth=2)\n",
    "\n",
    "# Adding labels and title\n",
    "plt.xlabel('Step', fontsize=12, fontweight='bold')\n",
    "plt.ylabel('Train Accuracy', fontsize=12, fontweight='bold')\n",
    "plt.title('Training Accuracy Over Time', fontsize=15, fontweight='bold')\n",
    "\n",
    "# Adding a legend\n",
    "plt.legend(fontsize=10)\n",
    "\n",
    "# Display the grid for better readability\n",
    "plt.grid(alpha=0.5)\n",
    "\n",
    "# Show the plot\n",
    "plt.show()"
   ]
  },
  {
   "cell_type": "markdown",
   "id": "e79da572",
   "metadata": {},
   "source": [
    "## Evaluating our Classifier using Test Accuracy"
   ]
  },
  {
   "cell_type": "code",
   "execution_count": 54,
   "id": "03077a2e",
   "metadata": {},
   "outputs": [],
   "source": [
    "import numpy as np"
   ]
  },
  {
   "cell_type": "code",
   "execution_count": 56,
   "id": "a2aeba02",
   "metadata": {},
   "outputs": [],
   "source": [
    "def run_ft_model(review, ft_id, system = '', chat = False):\n",
    "    \"\"\" \n",
    "    Given a review and fine-tuned model ID, this function predicts the star rating using the OpenAI\n",
    "    API to generate the completion. It also calculates the exponential of the top log probabilities \n",
    "    for the completion.\n",
    "\n",
    "    Parameters:\n",
    "    review (str): The review text to be analyzed.   \n",
    "    ft_id (str): The fine-tuned model ID to be used for prediction.\n",
    "\n",
    "    Returns:\n",
    "    - str: The completion generated by the model.\n",
    "    - dict: A dictionary of tokens and their corresponding exponential\n",
    "            of top log probabilities.\n",
    "    \"\"\"\n",
    "    if chat:\n",
    "        completion = client.chat.completions.create(\n",
    "            model = ft_id,\n",
    "            messages = [\n",
    "                {'role': 'system', 'content': system},\n",
    "                {'role': 'user', 'content': review}\n",
    "            ],\n",
    "            temperature = 0.1,\n",
    "            max_tokens = 1,\n",
    "            logprobs = True,\n",
    "            top_logprobs = 5   # Request top 5 log probabilities for the completion\n",
    "        )\n",
    "        text = completion.choices[0].message.content.strip()\n",
    "        probs = {t.token: np.exp(t.logprobs) for t in completion.choices[0].logprobs.content[0].top_logprobs}\n",
    "\n",
    "        return text, probs\n",
    "    else:\n",
    "        # If it is not GPT-3.5, we use the completions endpoint\n",
    "        completion = client.completions.create(\n",
    "            model = ft_id,\n",
    "            prompt = f'{review}\\n###\\n', # we used the same suffix during the training\n",
    "            temperature = 0.1,\n",
    "            max_tokens = 1,\n",
    "            logprobs = 5\n",
    "        )\n",
    "\n",
    "        # Extract the model's completion text and strip any whitespaces\n",
    "        text = completion.choices[0].text.strip()\n",
    "\n",
    "        # Convert the log probabilities to regular probabilities using the exponential \n",
    "        # function. This provides a clearer understanding of the likelihood of each token.\n",
    "        probs = {k: np.exp(v) for k, v in completion.choices[0].logprobs.top_logprobs[-1].items()}\n",
    "    \n",
    "    return text, probs"
   ]
  },
  {
   "cell_type": "code",
   "execution_count": null,
   "id": "af3fb368",
   "metadata": {},
   "outputs": [],
   "source": [
    "run_ft_model(\"Great App!\", gpt_3_5_system_job.fine_tuned_model, system = system_prompt, chat = True)"
   ]
  },
  {
   "cell_type": "code",
   "execution_count": null,
   "id": "59ce128c",
   "metadata": {},
   "outputs": [],
   "source": [
    "# Example usage: Predict the sentiment and associated probabilities of the given\n",
    "# review using the fine-tuned model\n",
    "run_ft_model(\n",
    "    \"Great App! I love it!!!\",\n",
    "    gpt_3_5_no_system_job.fine_tuned_model\n",
    ")"
   ]
  },
  {
   "cell_type": "code",
   "execution_count": null,
   "id": "d6fca353",
   "metadata": {},
   "outputs": [],
   "source": [
    "gpt_3_5_no_system_job = client.fine_tuning.jobs.retrieve(gpt_3_5_no_system_job.id)\n",
    "gpt_3_5_system_job = client.fine_tuning.jobs.retrieve(gpt_3_5_system_job.id)"
   ]
  },
  {
   "cell_type": "code",
   "execution_count": null,
   "id": "909f9dc3",
   "metadata": {},
   "outputs": [],
   "source": [
    "# As of 04/17/2025, pricing [USD] for fine-tuning  per 1,000,000 tokens: https://platform.openai.com/docs/pricing\n",
    "pricing = {'gpt-3.5-turbo': {'training': 8, 'input': 3, 'output': 6 }}"
   ]
  },
  {
   "cell_type": "code",
   "execution_count": 60,
   "id": "529b742e",
   "metadata": {},
   "outputs": [],
   "source": [
    "def price_info(job):\n",
    "    job = client.fine_tuning.jobs.retrieve(job.id)\n",
    "    job.trained_tokens, job.model\n",
    "    pricing_select = pricing.get(job.model)\n",
    "    if not pricing_select:\n",
    "        for k, v in pricing.items():\n",
    "            pricing_select = pricing[k]\n",
    "            break\n",
    "    training_price_usd = pricing_select['training'] * job.trained_tokens / 1_000_000\n",
    "    print(f\"Price for training: ${training_price_usd:.2f}\")\n",
    "    avg_price_per_input = job.trained_tokens/training_df.shape[0] \n",
    "    # output is always 1 token in our case\n",
    "\n",
    "    average_inference_price_usd = (pricing_select['input'] * avg_price_per_input / 1_000_000) +\\\n",
    "    (pricing_select['output'] / 1_000_000)\n",
    "    print(f\"Price for single inference (on avg): $({average_inference_price_usd:.2f}) and cost to run test:\\\n",
    "    ${average_inference_price_usd * test_df.shape[0]:.2f}\")\n",
    "            "
   ]
  },
  {
   "cell_type": "code",
   "execution_count": 61,
   "id": "342bfa5e",
   "metadata": {},
   "outputs": [
    {
     "name": "stdout",
     "output_type": "stream",
     "text": [
      "Price for training: $39.97\n",
      "Price for single inference (on avg): $(0.00) and cost to run test:    $5.34\n"
     ]
    }
   ],
   "source": [
    "price_info(gpt_3_5_no_system_job)"
   ]
  },
  {
   "cell_type": "code",
   "execution_count": 62,
   "id": "4baca143",
   "metadata": {},
   "outputs": [],
   "source": [
    "import concurrent.futures\n",
    "from tqdm.notebook import tqdm"
   ]
  },
  {
   "cell_type": "code",
   "execution_count": null,
   "id": "65664d2d",
   "metadata": {},
   "outputs": [],
   "source": [
    "# Define the function to process each row\n",
    "def process_row(job, index, chat=False, system=None):\n",
    "    \"\"\"\n",
    "    Process a single row from the test dataframe.\n",
    "    \n",
    "    Args:\n",
    "        job: Fine-tuning job object containing the model information\n",
    "        index (int): Index of the row to process\n",
    "        chat (bool): Whether to use chat completion API\n",
    "        system (str): System prompt for chat models\n",
    "        \n",
    "    Returns:\n",
    "        str: Model's prediction for the review\n",
    "    \"\"\"\n",
    "    row = test_df.iloc[index]\n",
    "    model_pred, probs = run_ft_model(\n",
    "        row['review'],\n",
    "        job.fine_tuned_model,\n",
    "        chat=chat,\n",
    "        system=system\n",
    "    )\n",
    "    ground_truth = str(row.star).strip()\n",
    "    return model_pred\n",
    "\n",
    "def process_in_batches(job, dataframe, batch_size=10, chat=False, system=None):\n",
    "    \"\"\"\n",
    "    Process DataFrame in parallel with improved error handling and progress tracking.\n",
    "    \n",
    "    Args:\n",
    "        job: Fine-tuning job object containing the model information\n",
    "        dataframe: Input DataFrame containing reviews to process\n",
    "        batch_size: Number of concurrent threads (default: 10)\n",
    "        chat: Boolean indicating if using chat model (default: False)\n",
    "        system: System prompt for chat models (default: None)\n",
    "    \n",
    "    Returns:\n",
    "        list: Predicted star ratings for each review\n",
    "    \"\"\"\n",
    "    stars_pred = []\n",
    "    total_rows = len(dataframe)\n",
    "    processed_count = 0\n",
    "    error_count = 0\n",
    "    \n",
    "    # Configure logging\n",
    "    logging.basicConfig(level=logging.INFO)\n",
    "    logger = logging.getLogger(__name__)\n",
    "    \n",
    "    def update_progress():\n",
    "        nonlocal processed_count\n",
    "        processed_count += 1\n",
    "        if processed_count % 100 == 0:\n",
    "            logger.info(f\"Processed {processed_count}/{total_rows} rows ({(processed_count/total_rows)*100:.2f}%)\")\n",
    "    \n",
    "    executor = concurrent.futures.ThreadPoolExecutor(max_workers=batch_size)\n",
    "    try:\n",
    "        futures = {\n",
    "            executor.submit(process_row, job, i, chat = chat, system = system): i \n",
    "            for i in range(total_rows)\n",
    "        }\n",
    "        \n",
    "        with tqdm(total=total_rows, desc=\"Processing reviews\") as pbar:\n",
    "            for future in concurrent.futures.as_completed(futures):\n",
    "                try:\n",
    "                    result = future.result()\n",
    "                    stars_pred.append(result)\n",
    "                    update_progress()\n",
    "                    pbar.update(1)\n",
    "                    \n",
    "                except Exception as e:\n",
    "                    error_count += 1\n",
    "                    row_index = futures[future]\n",
    "                    logger.error(f\"Error processing row {row_index}: {str(e)}\")\n",
    "                    # Append None for failed predictions to maintain array size\n",
    "                    stars_pred.append(None)\n",
    "                    pbar.update(1)\n",
    "    \n",
    "    finally:\n",
    "        executor.shutdown(wait=True)\n",
    "        \n",
    "    # Log final statistics\n",
    "    logger.info(f\"Processing complete: {total_rows} total rows, {error_count} errors\")\n",
    "    success_rate = ((total_rows - error_count) / total_rows) * 100\n",
    "    logger.info(f\"Success rate: {success_rate:.2f}%\")\n",
    "    \n",
    "    return stars_pred"
   ]
  },
  {
   "cell_type": "code",
   "execution_count": 64,
   "id": "f64659c0",
   "metadata": {},
   "outputs": [],
   "source": [
    "def plot_stars_preds(star_preds):\n",
    "    \"\"\"\n",
    "    Plot the predicted star ratings against the actual star ratings.\n",
    "    \n",
    "    Args:\n",
    "        star_preds: List of predicted star ratings\n",
    "    \"\"\"\n",
    "    plt.figure(figsize = (10, 6))  # Set the figure size\n",
    "    plt.Series(star_preds).value_counts().sort_index().plot(kind = 'bar', color = 'mediumseagreen', alpha = 0.85)\n",
    "\n",
    "    # Add titles, labels and other asthetics\n",
    "    plt.title('Predicted Star Ratings', fontsize = 15, fontweight = 'bold')\n",
    "    plt.xlabel('Star Ratings', fontsize = 12, fontweight = 'bold')\n",
    "    plt.ylabel('Count', fontsize = 12, fontweight = 'bold')\n",
    "    plt.xticks(rotation = 0, fontsize = 10)\n",
    "    plt.yticks(fontsize = 10)\n",
    "    plt.tight_layout()\n",
    "    plt.show()"
   ]
  },
  {
   "cell_type": "code",
   "execution_count": 65,
   "id": "2b695510",
   "metadata": {},
   "outputs": [],
   "source": [
    "def eval_star_preds(star_preds):\n",
    "    plot_stars_preds(star_preds)\n",
    "    # Auucracy\n",
    "    acc = (np.array(star_preds).astype(int) == test_df.head(len(star_preds))['completion'].astype(int)).mean()\n",
    "    print(f\"Accuracy: {acc:.2%}\")\n",
    "\n",
    "    # < 3 accuracy\n",
    "    less_three = ((np.array(star_preds).astype(int) <= 3) == (test_df.head(len(star_preds))['completion'].astype(int) <= 3)).mean()\n",
    "    print(f\"Accuracy for < 3: {less_three:.2%}\")\n",
    "    # Accuracy (off-by-1)\n",
    "    off_one = ((np.array(star_preds).astype(int) - test_df.head(len(star_preds))['completion'].astype(int)).abs() <= 1).mean()\n",
    "    print(f\"Accuracy (off-by-1): {off_one:.2%}\")\n",
    "\n",
    "    return acc, less_three, off_one"
   ]
  },
  {
   "cell_type": "code",
   "execution_count": 76,
   "id": "2f759d67",
   "metadata": {},
   "outputs": [
    {
     "name": "stderr",
     "output_type": "stream",
     "text": [
      "INFO:httpx:HTTP Request: GET https://api.openai.com/v1/fine_tuning/jobs/ftjob-gREuZJo8ibpLkItbc13IekKj \"HTTP/1.1 200 OK\"\n"
     ]
    },
    {
     "data": {
      "application/vnd.jupyter.widget-view+json": {
       "model_id": "734ebf0365e441d9bdc98705619adde8",
       "version_major": 2,
       "version_minor": 0
      },
      "text/plain": [
       "Processing reviews:   0%|          | 0/5 [00:00<?, ?it/s]"
      ]
     },
     "metadata": {},
     "output_type": "display_data"
    },
    {
     "name": "stderr",
     "output_type": "stream",
     "text": [
      "INFO:httpx:HTTP Request: POST https://api.openai.com/v1/completions \"HTTP/1.1 429 Too Many Requests\"\n",
      "INFO:openai._base_client:Retrying request to /completions in 0.412733 seconds\n",
      "INFO:httpx:HTTP Request: POST https://api.openai.com/v1/completions \"HTTP/1.1 429 Too Many Requests\"\n",
      "INFO:openai._base_client:Retrying request to /completions in 0.457469 seconds\n",
      "INFO:httpx:HTTP Request: POST https://api.openai.com/v1/completions \"HTTP/1.1 429 Too Many Requests\"\n",
      "INFO:openai._base_client:Retrying request to /completions in 0.480565 seconds\n",
      "INFO:httpx:HTTP Request: POST https://api.openai.com/v1/completions \"HTTP/1.1 429 Too Many Requests\"\n",
      "INFO:openai._base_client:Retrying request to /completions in 0.760697 seconds\n",
      "INFO:httpx:HTTP Request: POST https://api.openai.com/v1/completions \"HTTP/1.1 429 Too Many Requests\"\n",
      "INFO:openai._base_client:Retrying request to /completions in 0.915851 seconds\n",
      "INFO:httpx:HTTP Request: POST https://api.openai.com/v1/completions \"HTTP/1.1 429 Too Many Requests\"\n",
      "INFO:openai._base_client:Retrying request to /completions in 0.976814 seconds\n",
      "INFO:httpx:HTTP Request: POST https://api.openai.com/v1/completions \"HTTP/1.1 429 Too Many Requests\"\n",
      "ERROR:__main__:Error processing row 1: Error code: 429 - {'error': {'message': 'You exceeded your current quota, please check your plan and billing details. For more information on this error, read the docs: https://platform.openai.com/docs/guides/error-codes/api-errors.', 'type': 'insufficient_quota', 'param': None, 'code': 'insufficient_quota'}}\n",
      "INFO:httpx:HTTP Request: POST https://api.openai.com/v1/completions \"HTTP/1.1 429 Too Many Requests\"\n",
      "INFO:openai._base_client:Retrying request to /completions in 0.487910 seconds\n",
      "INFO:httpx:HTTP Request: POST https://api.openai.com/v1/completions \"HTTP/1.1 429 Too Many Requests\"\n",
      "ERROR:__main__:Error processing row 0: Error code: 429 - {'error': {'message': 'You exceeded your current quota, please check your plan and billing details. For more information on this error, read the docs: https://platform.openai.com/docs/guides/error-codes/api-errors.', 'type': 'insufficient_quota', 'param': None, 'code': 'insufficient_quota'}}\n",
      "INFO:httpx:HTTP Request: POST https://api.openai.com/v1/completions \"HTTP/1.1 429 Too Many Requests\"\n",
      "ERROR:__main__:Error processing row 2: Error code: 429 - {'error': {'message': 'You exceeded your current quota, please check your plan and billing details. For more information on this error, read the docs: https://platform.openai.com/docs/guides/error-codes/api-errors.', 'type': 'insufficient_quota', 'param': None, 'code': 'insufficient_quota'}}\n",
      "INFO:httpx:HTTP Request: POST https://api.openai.com/v1/completions \"HTTP/1.1 429 Too Many Requests\"\n",
      "INFO:openai._base_client:Retrying request to /completions in 0.394063 seconds\n",
      "INFO:httpx:HTTP Request: POST https://api.openai.com/v1/completions \"HTTP/1.1 429 Too Many Requests\"\n",
      "INFO:openai._base_client:Retrying request to /completions in 0.849068 seconds\n",
      "INFO:httpx:HTTP Request: POST https://api.openai.com/v1/completions \"HTTP/1.1 429 Too Many Requests\"\n",
      "INFO:openai._base_client:Retrying request to /completions in 0.798218 seconds\n",
      "INFO:httpx:HTTP Request: POST https://api.openai.com/v1/completions \"HTTP/1.1 429 Too Many Requests\"\n",
      "ERROR:__main__:Error processing row 3: Error code: 429 - {'error': {'message': 'You exceeded your current quota, please check your plan and billing details. For more information on this error, read the docs: https://platform.openai.com/docs/guides/error-codes/api-errors.', 'type': 'insufficient_quota', 'param': None, 'code': 'insufficient_quota'}}\n",
      "INFO:httpx:HTTP Request: POST https://api.openai.com/v1/completions \"HTTP/1.1 429 Too Many Requests\"\n",
      "ERROR:__main__:Error processing row 4: Error code: 429 - {'error': {'message': 'You exceeded your current quota, please check your plan and billing details. For more information on this error, read the docs: https://platform.openai.com/docs/guides/error-codes/api-errors.', 'type': 'insufficient_quota', 'param': None, 'code': 'insufficient_quota'}}\n",
      "INFO:__main__:Processing complete: 5 total rows, 5 errors\n",
      "INFO:__main__:Success rate: 0.00%\n"
     ]
    }
   ],
   "source": [
    "# Get the pred labels\n",
    "no_system_gpt_3_5_job = client.fine_tuning.jobs.retrieve(gpt_3_5_no_system_job.id)\n",
    "gpt_3_5_no_system_preds = process_in_batches(\n",
    "    no_system_gpt_3_5_job, test_df.head(), batch_size = 3, chat = False\n",
    ")"
   ]
  },
  {
   "cell_type": "markdown",
   "id": "69181c87",
   "metadata": {},
   "source": [
    "## Use our model in the playground"
   ]
  },
  {
   "cell_type": "markdown",
   "id": "3b79ff3a",
   "metadata": {},
   "source": [
    "https://platform.openai.com/playground/prompts?models=ft%3Agpt-3.5-turbo-0125%3Apersonal%3A%3ABN758GiZ"
   ]
  }
 ],
 "metadata": {
  "kernelspec": {
   "display_name": ".venv",
   "language": "python",
   "name": "python3"
  },
  "language_info": {
   "codemirror_mode": {
    "name": "ipython",
    "version": 3
   },
   "file_extension": ".py",
   "mimetype": "text/x-python",
   "name": "python",
   "nbconvert_exporter": "python",
   "pygments_lexer": "ipython3",
   "version": "3.10.10"
  }
 },
 "nbformat": 4,
 "nbformat_minor": 5
}
