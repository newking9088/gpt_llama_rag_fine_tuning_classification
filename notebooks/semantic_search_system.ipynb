{
 "cells": [
  {
   "cell_type": "code",
   "execution_count": 1,
   "metadata": {},
   "outputs": [],
   "source": [
    "# Install required libraries\n",
    "# !pip install pinecone openai sentence-transformers tiktoken datasets python-dotenv tqdm"
   ]
  },
  {
   "cell_type": "code",
   "execution_count": 56,
   "metadata": {},
   "outputs": [],
   "source": [
    "# Import required libraries\n",
    "from openai import OpenAI\n",
    "from datetime import datetime\n",
    "import hashlib\n",
    "import re\n",
    "import os\n",
    "from sentence_transformers import CrossEncoder\n",
    "from tqdm import tqdm\n",
    "import numpy as np\n",
    "import torch\n",
    "import torch.nn as nn\n",
    "import logging\n",
    "from pinecone import Pinecone, ServerlessSpec\n",
    "\n",
    "logger = logging.getLogger()\n",
    "logger.setLevel(logging.CRITICAL)"
   ]
  },
  {
   "cell_type": "code",
   "execution_count": 57,
   "metadata": {},
   "outputs": [],
   "source": [
    "# Since we will store api_keys in .env file\n",
    "# Use this command in GitBash:\n",
    "\"\"\"\n",
    "cat > .env << EOL\n",
    "PINECONE_API_KEY=your-actual-pinecone-api-key\n",
    "OPENAI_API_KEY=your-openai-api-key\n",
    "EOL\n",
    "\"\"\"\n",
    "from dotenv import load_dotenv\n",
    "load_dotenv()  \n",
    "\n",
    "# Instantiate the api keys\n",
    "# Get your pinecone api here: https://www.pinecone.io\n",
    "pinecone_key = os.environ.get(\"PINECONE_API_KEY\")\n",
    "\n",
    "# Craete you openai api key here: https://platform.openai.com/settings/organization/api-keys\n",
    "client = OpenAI(api_key = os.environ.get(\"OPENAI_API_KEY\"))\n",
    "\n",
    "INDEX_NAME = 'semantic-search-text'  # name of our embedded database\n",
    "NAMESPACE = 'default'                # Dont need this if we just have one database\n",
    "ENGINE = 'text-embedding-3-large'  # this openai largets most recent embedding model has vector size 3072\n",
    "\n",
    "pc = Pinecone(api_key = pinecone_key)"
   ]
  },
  {
   "cell_type": "code",
   "execution_count": 58,
   "metadata": {},
   "outputs": [],
   "source": [
    "# Define OpenAI embedding helper functions\n",
    "\n",
    "# This helps creates embeddings for multiple texts at once\n",
    "def get_embeddings(texts, embedding_model = ENGINE):\n",
    "    response = client.embeddings.create(\n",
    "        input = texts,\n",
    "        model = embedding_model\n",
    "    )\n",
    "    return [d.embedding for d in list(response.data)]\n",
    "  \n",
    "def get_embedding(text, embedding_model = ENGINE):\n",
    "    return get_embeddings([text], embedding_model)[0]"
   ]
  },
  {
   "cell_type": "code",
   "execution_count": 59,
   "metadata": {},
   "outputs": [
    {
     "data": {
      "text/plain": [
       "3072"
      ]
     },
     "execution_count": 59,
     "metadata": {},
     "output_type": "execute_result"
    }
   ],
   "source": [
    "# If you get \"UnicodeEncodeError: 'ascii' codec can't encode character '\\u201c' in position 7:\n",
    "#  ordinal not in range(128)\", it might be due to fancy \" \" closing your api keys in .env file\n",
    "# just make sure they are regular quotation marks\n",
    "\n",
    "# It gives the dimension of embedding vector\n",
    "len(get_embeddings(['hmm', 'hello'])[0]) "
   ]
  },
  {
   "cell_type": "code",
   "execution_count": 60,
   "metadata": {},
   "outputs": [
    {
     "data": {
      "text/plain": [
       "<pinecone.data.index.Index at 0x1e618cf50f0>"
      ]
     },
     "execution_count": 60,
     "metadata": {},
     "output_type": "execute_result"
    }
   ],
   "source": [
    "# Lets create index for our data\n",
    "if INDEX_NAME not in pc.list_indexes().names():\n",
    "    print(f\"Creating index: {INDEX_NAME}\")\n",
    "    pc.create_index(\n",
    "        name = INDEX_NAME, \n",
    "        dimension = 3072,   # The dimension of the OpenAI vector embedder\n",
    "        metric = 'cosine',   # The similarity metric to use when searching index\n",
    "        spec = ServerlessSpec(\n",
    "            cloud = 'aws',\n",
    "            region = 'us-east-1'  # make sure this is the region you were provided in pinecone.io\n",
    "        )\n",
    "    )\n",
    "\n",
    "# Store the index as a variable\n",
    "index = pc.Index(name = INDEX_NAME)\n",
    "index"
   ]
  },
  {
   "cell_type": "code",
   "execution_count": 61,
   "metadata": {},
   "outputs": [
    {
     "data": {
      "text/plain": [
       "{'dimension': 3072,\n",
       " 'index_fullness': 0.0,\n",
       " 'metric': 'cosine',\n",
       " 'namespaces': {'default': {'vector_count': 979}},\n",
       " 'total_vector_count': 979,\n",
       " 'vector_type': 'dense'}"
      ]
     },
     "execution_count": 61,
     "metadata": {},
     "output_type": "execute_result"
    }
   ],
   "source": [
    "# Lets look at the stats of index\n",
    "index.describe_index_stats()"
   ]
  },
  {
   "cell_type": "code",
   "execution_count": 62,
   "metadata": {},
   "outputs": [
    {
     "data": {
      "text/plain": [
       "'7029d9f7fcff52d665b9729784023f21'"
      ]
     },
     "execution_count": 62,
     "metadata": {},
     "output_type": "execute_result"
    }
   ],
   "source": [
    "# Lets use hashlib to create a hash for input string, so pinecone does not allow duplicate strings\n",
    "def my_hash(s):\n",
    "    # Returns the MD5 hash of the string as hexadecimal string\n",
    "    return hashlib.md5(s.encode()).hexdigest()\n",
    "\n",
    "# Example\n",
    "my_hash(\"Please hash me\")"
   ]
  },
  {
   "cell_type": "code",
   "execution_count": 63,
   "metadata": {},
   "outputs": [],
   "source": [
    "# Lets define a function to upsert data into pinecone\n",
    "def prepare_for_pinecone(texts, embeddings_model = ENGINE):\n",
    "    # Get current EST time\n",
    "    now = datetime.now().isoformat()\n",
    "\n",
    "    # Generate vector embedding for each string in the input list\n",
    "    embeddings = get_embeddings(texts, embedding_model = ENGINE)\n",
    "\n",
    "    # Create tuples of (hash, embedding, metadata) for each input string and its corresponding\n",
    "    # vector embedding. The my_hash() function is used to generate a unique hash for each string,\n",
    "    # and the datetime.now() function to generate current EST time\n",
    "    return [\n",
    "        (\n",
    "            my_hash(text),  # A unique ID for each string, generated using the my_hash() function\n",
    "            embedding,      # The vector embedding of the string\n",
    "            dict(text = text, date_uploaded = now) # A dictionary of metadata\n",
    "        )\n",
    "        for text, embedding in zip(texts, embeddings) # Iterate over each input string and its corresponding embedding\n",
    "    ]"
   ]
  },
  {
   "cell_type": "code",
   "execution_count": 64,
   "metadata": {},
   "outputs": [
    {
     "name": "stdout",
     "output_type": "stream",
     "text": [
      "ID:  098f6bcd4621d373cade4e832627b4f6 \n",
      "LEN:  3072 \n",
      "META:  {'text': 'test', 'date_uploaded': '2025-04-11T13:30:18.498903'}\n"
     ]
    }
   ],
   "source": [
    "# Example to load to pinecone\n",
    "texts = ['test']\n",
    "_id, embedding, metadata = prepare_for_pinecone(texts)[0]\n",
    "\n",
    "print('ID: ', _id, '\\nLEN: ', len(embedding), '\\nMETA: ', metadata)"
   ]
  },
  {
   "cell_type": "code",
   "execution_count": 65,
   "metadata": {},
   "outputs": [],
   "source": [
    "# Helper to upload text to pinecone\n",
    "def upload_texts_to_pinecone(texts, namespace = NAMESPACE, batch_size = None, show_progress_bar = False):\n",
    "    total_upserted = 0\n",
    "    batch_size = len(texts) if not batch_size else batch_size\n",
    "    _range = range(0, len(texts), batch_size)\n",
    "    for i in tqdm(_range) if show_progress_bar else _range:\n",
    "        batch = texts[i: i + batch_size]\n",
    "        prepared_texts = prepare_for_pinecone(batch)\n",
    "\n",
    "        # Use the upsert() method of the index object to upload texts to Pinecone\n",
    "        total_upserted += index.upsert(\n",
    "            vectors = prepared_texts,\n",
    "            namespace = namespace\n",
    "        )['upserted_count']\n",
    "\n",
    "    return total_upserted\n",
    "\n",
    "# Call the upload_texts_pinecone() function with the input texts\n",
    "# upload_texts_to_pinecone(texts)"
   ]
  },
  {
   "cell_type": "code",
   "execution_count": 66,
   "metadata": {},
   "outputs": [],
   "source": [
    "# Get the closest values to a query from Pinecone\n",
    "def query_from_pinecone(query, top_k = 3, namespace = NAMESPACE):\n",
    "    # Get the embedding for the query string\n",
    "    query_embedding = get_embedding(query)\n",
    "\n",
    "    # Use the query() method of the index object to retrieve the closest values to the query\n",
    "    return index.query(\n",
    "        vector = query_embedding,\n",
    "        top_k = top_k,\n",
    "        include_metadata = True,  # default is False, but we want to include metadata\n",
    "        namespace = namespace\n",
    "    ).get('matches')"
   ]
  },
  {
   "cell_type": "code",
   "execution_count": 67,
   "metadata": {},
   "outputs": [],
   "source": [
    "# Delete the texts from Pinecone\n",
    "def delete_texts_from_pinecone(texts, namespace = NAMESPACE):\n",
    "    # Compute the hashes for the input texts\n",
    "    hashes = [my_hash(text) for text in texts]\n",
    "    return index.delete_index(ids = hashes, namespace = namespace)"
   ]
  },
  {
   "cell_type": "code",
   "execution_count": 68,
   "metadata": {},
   "outputs": [
    {
     "data": {
      "text/plain": [
       "DatasetDict({\n",
       "    test: Dataset({\n",
       "        features: ['id', 'title', 'context', 'question', 'answers'],\n",
       "        num_rows: 1148\n",
       "    })\n",
       "    train: Dataset({\n",
       "        features: ['id', 'title', 'context', 'question', 'answers'],\n",
       "        num_rows: 11590\n",
       "    })\n",
       "})"
      ]
     },
     "execution_count": 68,
     "metadata": {},
     "output_type": "execute_result"
    }
   ],
   "source": [
    "# Lets load the data\n",
    "from datasets import load_dataset\n",
    "dataset = load_dataset(\"xtreme\", \"MLQA.en.en\")\n",
    "# rename test -> train and val -> test for convenience\n",
    "dataset['train'] = dataset['test']\n",
    "dataset['test'] = dataset['validation']\n",
    "\n",
    "del dataset['validation']\n",
    "\n",
    "dataset"
   ]
  },
  {
   "cell_type": "code",
   "execution_count": 69,
   "metadata": {},
   "outputs": [
    {
     "data": {
      "text/plain": [
       "({'id': 'a4968ca8a18de16aa3859be760e43dbd3af3fce9',\n",
       "  'title': 'Area 51',\n",
       "  'context': 'In 1994, five unnamed civilian contractors and the widows of contractors Walter Kasza and Robert Frost sued the USAF and the United States Environmental Protection Agency. Their suit, in which they were represented by George Washington University law professor Jonathan Turley, alleged they had been present when large quantities of unknown chemicals had been burned in open pits and trenches at Groom. Biopsies taken from the complainants were analyzed by Rutgers University biochemists, who found high levels of dioxin, dibenzofuran, and trichloroethylene in their body fat. The complainants alleged they had sustained skin, liver, and respiratory injuries due to their work at Groom, and that this had contributed to the deaths of Frost and Kasza. The suit sought compensation for the injuries they had sustained, claiming the USAF had illegally handled toxic materials, and that the EPA had failed in its duty to enforce the Resource Conservation and Recovery Act (which governs handling of dangerous materials). They also sought detailed information about the chemicals to which they were allegedly exposed, hoping this would facilitate the medical treatment of survivors. Congressman Lee H. Hamilton, former chairman of the House Intelligence Committee, told 60 Minutes reporter Lesley Stahl, \"The Air Force is classifying all information about Area 51 in order to protect themselves from a lawsuit.\"',\n",
       "  'question': 'Who analyzed the biopsies?',\n",
       "  'answers': {'answer_start': [457],\n",
       "   'text': ['Rutgers University biochemists']}},\n",
       " {'id': 'f251ea56c4f1aa1df270137f7e6d89c0cc1b6ef4',\n",
       "  'title': 'Area 51',\n",
       "  'context': 'In 1994, five unnamed civilian contractors and the widows of contractors Walter Kasza and Robert Frost sued the USAF and the United States Environmental Protection Agency. Their suit, in which they were represented by George Washington University law professor Jonathan Turley, alleged they had been present when large quantities of unknown chemicals had been burned in open pits and trenches at Groom. Biopsies taken from the complainants were analyzed by Rutgers University biochemists, who found high levels of dioxin, dibenzofuran, and trichloroethylene in their body fat. The complainants alleged they had sustained skin, liver, and respiratory injuries due to their work at Groom, and that this had contributed to the deaths of Frost and Kasza. The suit sought compensation for the injuries they had sustained, claiming the USAF had illegally handled toxic materials, and that the EPA had failed in its duty to enforce the Resource Conservation and Recovery Act (which governs handling of dangerous materials). They also sought detailed information about the chemicals to which they were allegedly exposed, hoping this would facilitate the medical treatment of survivors. Congressman Lee H. Hamilton, former chairman of the House Intelligence Committee, told 60 Minutes reporter Lesley Stahl, \"The Air Force is classifying all information about Area 51 in order to protect themselves from a lawsuit.\"',\n",
       "  'question': 'who represented robert frost and walter kasza in their suit?',\n",
       "  'answers': {'answer_start': [218],\n",
       "   'text': ['George Washington University law professor Jonathan Turley']}})"
      ]
     },
     "execution_count": 69,
     "metadata": {},
     "output_type": "execute_result"
    }
   ],
   "source": [
    "# We will embed question which will be used as a query and the answer will be context\n",
    "dataset['train'][0], dataset['train'][1]"
   ]
  },
  {
   "cell_type": "code",
   "execution_count": 16,
   "metadata": {},
   "outputs": [
    {
     "name": "stderr",
     "output_type": "stream",
     "text": [
      "100%|██████████| 31/31 [01:12<00:00,  2.35s/it]\n"
     ]
    }
   ],
   "source": [
    "# Create unique passages\n",
    "unique_passages = list(set(dataset['test']['context']))\n",
    "\n",
    "for idx in tqdm(range(0, len(unique_passages), 32)):\n",
    "    passages = unique_passages[idx: idx + 32]\n",
    "    upload_texts_to_pinecone(passages) "
   ]
  },
  {
   "cell_type": "code",
   "execution_count": 17,
   "metadata": {},
   "outputs": [
    {
     "data": {
      "text/plain": [
       "978"
      ]
     },
     "execution_count": 17,
     "metadata": {},
     "output_type": "execute_result"
    }
   ],
   "source": [
    "len(unique_passages)"
   ]
  },
  {
   "cell_type": "code",
   "execution_count": 18,
   "metadata": {},
   "outputs": [
    {
     "data": {
      "text/plain": [
       "{'dimension': 3072,\n",
       " 'index_fullness': 0.0,\n",
       " 'metric': 'cosine',\n",
       " 'namespaces': {'default': {'vector_count': 979}},\n",
       " 'total_vector_count': 979,\n",
       " 'vector_type': 'dense'}"
      ]
     },
     "execution_count": 18,
     "metadata": {},
     "output_type": "execute_result"
    }
   ],
   "source": [
    "index.describe_index_stats()"
   ]
  },
  {
   "cell_type": "code",
   "execution_count": 19,
   "metadata": {},
   "outputs": [
    {
     "data": {
      "text/plain": [
       "{'id': '569666f4dc3983dab5624e989212c1d9d0cd1798',\n",
       " 'title': 'Pappataci fever',\n",
       " 'context': 'Pappataci fever is prevalent in the subtropical zone of the Eastern Hemisphere between 20°N and 45°N, particularly in Southern Europe, North Africa, the Balkans, Eastern Mediterranean, Iraq, Iran, Pakistan, Afghanistan and India.The disease is transmitted by the bites of phlebotomine sandflies of the Genus Phlebotomus, in particular, Phlebotomus papatasi, Phlebotomus perniciosus and Phlebotomus perfiliewi. The sandfly becomes infected when biting an infected human in the period between 48 hours before the onset of fever and 24 hours after the end of the fever, and remains infected for its lifetime. Besides this horizontal virus transmission from man to sandfly, the virus can be transmitted in insects transovarially, from an infected female sandfly to its offspring.Pappataci fever is seldom recognised in endemic populations because it is mixed with other febrile illnesses of childhood, but it is more well-known among immigrants and military personnel from non-endemic regions.',\n",
       " 'question': 'Does an infection for Sandflies go away over time?',\n",
       " 'answers': {'answer_start': [571],\n",
       "  'text': ['remains infected for its lifetime']}}"
      ]
     },
     "execution_count": 19,
     "metadata": {},
     "output_type": "execute_result"
    }
   ],
   "source": [
    "# Lets test the query function\n",
    "dataset['test'][0]"
   ]
  },
  {
   "cell_type": "code",
   "execution_count": 20,
   "metadata": {},
   "outputs": [
    {
     "data": {
      "text/plain": [
       "[{'id': '2f90090e21f19450887d5f3ff781e541',\n",
       "  'metadata': {'date_uploaded': '2025-04-04T19:45:01.890605',\n",
       "               'text': 'Pappataci fever is prevalent in the subtropical zone of '\n",
       "                       'the Eastern Hemisphere between 20°N and 45°N, '\n",
       "                       'particularly in Southern Europe, North Africa, the '\n",
       "                       'Balkans, Eastern Mediterranean, Iraq, Iran, Pakistan, '\n",
       "                       'Afghanistan and India.The disease is transmitted by the '\n",
       "                       'bites of phlebotomine sandflies of the Genus '\n",
       "                       'Phlebotomus, in particular, Phlebotomus papatasi, '\n",
       "                       'Phlebotomus perniciosus and Phlebotomus perfiliewi. The '\n",
       "                       'sandfly becomes infected when biting an infected human '\n",
       "                       'in the period between 48 hours before the onset of '\n",
       "                       'fever and 24 hours after the end of the fever, and '\n",
       "                       'remains infected for its lifetime. Besides this '\n",
       "                       'horizontal virus transmission from man to sandfly, the '\n",
       "                       'virus can be transmitted in insects transovarially, '\n",
       "                       'from an infected female sandfly to its '\n",
       "                       'offspring.Pappataci fever is seldom recognised in '\n",
       "                       'endemic populations because it is mixed with other '\n",
       "                       'febrile illnesses of childhood, but it is more '\n",
       "                       'well-known among immigrants and military personnel from '\n",
       "                       'non-endemic regions.'},\n",
       "  'score': 0.435954362,\n",
       "  'values': []},\n",
       " {'id': '00661b04eb84a4664717245513ea30cd',\n",
       "  'metadata': {'date_uploaded': '2025-04-04T19:45:30.734079',\n",
       "               'text': 'Paratyphoid fever, also known simply as paratyphoid, is '\n",
       "                       'a bacterial infection caused by one of the three types '\n",
       "                       'of Salmonella enterica. Symptoms usually begin 6–30 '\n",
       "                       'days after exposure and are the same as those of '\n",
       "                       'typhoid fever. Often, a gradual onset of a high fever '\n",
       "                       'occurs over several days. Weakness, loss of appetite, '\n",
       "                       'and headaches also commonly occur. Some people develop '\n",
       "                       'a skin rash with rose-colored spots. Without treatment, '\n",
       "                       'symptoms may last weeks or months. Other people may '\n",
       "                       'carry the bacteria without being affected; however, '\n",
       "                       'they are still able to spread the disease to others. '\n",
       "                       'Both typhoid and paratyphoid are of similar severity. '\n",
       "                       'Paratyphoid and typhoid fever are types of enteric '\n",
       "                       'fever.Paratyphoid is caused by the bacterium Salmonella '\n",
       "                       'enterica of the serotypes Paratyphi A, Paratyphi B, or '\n",
       "                       'Paratyphi C growing in the intestines and blood. They '\n",
       "                       'are usually spread by eating or drinking food or water '\n",
       "                       'contaminated with the feces of an infected person. They '\n",
       "                       'may occur when a person who prepares food is infected. '\n",
       "                       'Risk factors include poor sanitation as is found among '\n",
       "                       'poor crowded populations. Occasionally, they may be '\n",
       "                       'transmitted by sex. Humans are the only animals '\n",
       "                       'infected. Diagnosis may be based on symptoms and '\n",
       "                       'confirmed by either culturing the bacteria or detecting '\n",
       "                       'the bacterial DNA in the blood, stool, or bone marrow. '\n",
       "                       'Culturing the bacteria can be difficult. Bone-marrow '\n",
       "                       'testing is the most accurate. Symptoms are similar to '\n",
       "                       'that of many other infectious diseases. Typhus is an '\n",
       "                       'unrelated disease.While no vaccine is available '\n",
       "                       'specifically for paratyphoid, the typhoid vaccine may '\n",
       "                       'provide some benefit. Prevention includes drinking '\n",
       "                       'clean water, better sanitation, and better handwashing. '\n",
       "                       'Treatment of the disease is with antibiotics such as '\n",
       "                       'azithromycin. Resistance to a number of other '\n",
       "                       'previously effective antibiotics is common.Paratyphoid '\n",
       "                       'affects about six million people a year. It is most '\n",
       "                       'common in parts of Asia and rare in the developed '\n",
       "                       'world. Most cases are due to Paratyphi A rather than '\n",
       "                       'Paratyphi B or C. In 2015, paratyphoid fever resulted '\n",
       "                       'in about 29,200 deaths, down from 63,000 deaths in '\n",
       "                       '1990. The risk of death is between 10 and 15% without '\n",
       "                       'treatment, while with treatment, it may be less than '\n",
       "                       '1%.'},\n",
       "  'score': 0.325507104,\n",
       "  'values': []},\n",
       " {'id': '24d322a7ce10e9e2fa12fcf54f50c651',\n",
       "  'metadata': {'date_uploaded': '2025-04-04T19:44:59.427387',\n",
       "               'text': 'Although Aronson isolated this mycobacterium in 1926 '\n",
       "                       'from a fish, it was not until 1951 that it was found to '\n",
       "                       'be the cause of human disease by Linell and Norden. '\n",
       "                       'Large outbreaks of infection due to this atypical '\n",
       "                       'mycobacterium have been described in association with '\n",
       "                       'swimming. Infections related to swimming pools have now '\n",
       "                       'drastically fallen due to the improvements in the '\n",
       "                       'construction and maintenance of these facilities.The '\n",
       "                       'first case of M. marinum infection associated with a '\n",
       "                       \"fish-tank ('fish-tank granuloma') was reported in 1962 \"\n",
       "                       'by Swift and Cohen. M. marinum infection may be an '\n",
       "                       'occupational hazard for certain professions such as pet '\n",
       "                       'shop workers, but most infections occur in fish '\n",
       "                       'fanciers who keep an aquarium at home. Although '\n",
       "                       'infection may be caused by direct injury from the fish '\n",
       "                       'fins or bites, most are acquired during the handling of '\n",
       "                       'the aquariums such as cleaning or changing the water. '\n",
       "                       'Indirect infection has also been described related to a '\n",
       "                       'child’s bathing utensils that had been used to clean a '\n",
       "                       'fish tank. Due to an increased awareness of the disease '\n",
       "                       'and improved isolation methods, more and more cases are '\n",
       "                       'being recognized and reported worldwide.'},\n",
       "  'score': 0.301273704,\n",
       "  'values': []}]"
      ]
     },
     "execution_count": 20,
     "metadata": {},
     "output_type": "execute_result"
    }
   ],
   "source": [
    "query_from_pinecone('Does an infection for Sandflies go away over time?')"
   ]
  },
  {
   "cell_type": "markdown",
   "metadata": {},
   "source": [
    "## Optimizing Semantic Search with Cross-Encoders and Fine Tuning\n",
    "\n",
    "### Bi-encoders vs. Cross-encoders in Retrieval\n",
    "\n",
    "Bi-encoders create separate embeddings for queries and documents, allowing efficient first-pass retrieval through vector similarity (usually cosine). These embeddings can be pre-computed and stored in vector databases for quick searching.\n",
    "\n",
    "Cross-encoders take a fundamentally different approach. They process the query and document as a single, concatenated input and output a direct relevance score without generating separate embeddings.\n",
    "\n",
    "The key advantage of cross-encoders is their ability to capture fine-grained relationships between specific terms in the query and document. By analyzing both simultaneously, they detect nuanced semantic connections that bi-encoders might miss.\n",
    "\n",
    "Because cross-encoders don't produce separate embeddings, you don't need a vector database to use them. However, they're computationally expensive to run on large document collections.\n",
    "\n",
    "In practice, most systems use a two-stage approach: bi-encoders retrieve an initial set of candidates efficiently, then cross-encoders re-rank this smaller set for precision.\n",
    "\n",
    "This hybrid approach balances the efficiency of vector similarity with the accuracy of deep contextual analysis, delivering better results than either method alone."
   ]
  },
  {
   "cell_type": "code",
   "execution_count": 75,
   "metadata": {},
   "outputs": [],
   "source": [
    "def get_results_from_pinecone(query, top_k=3, re_rank_model=None, verbose=True, correct_hash=None):\n",
    "    # Query the Pinecone vector database to retrieve the top_k most similar results\n",
    "    results_from_pinecone = query_from_pinecone(query, top_k=top_k)\n",
    "    \n",
    "    # Return empty dict if no results were found\n",
    "    if not results_from_pinecone:\n",
    "        return {\"final_results\": [], \"retrieved_correct_position\": None, \"reranked_correct_position\": None}\n",
    "    \n",
    "    # Print the query if verbose mode is enabled\n",
    "    if verbose:\n",
    "        print(f\"Query:\", query)\n",
    "    \n",
    "    # Initialize an empty list to store the final results\n",
    "    final_results = []\n",
    "    \n",
    "    # Initialize variables to track positions of the correct document (if provided)\n",
    "    retrieved_correct_position, reranked_correct_position = None, None\n",
    "    \n",
    "    # Loop through initial results and check if any match the correct_hash\n",
    "    # This determines the position of the correct document in the original retrieval\n",
    "    for idx, result_from_pinecone in enumerate(results_from_pinecone):\n",
    "        if correct_hash and result_from_pinecone['id'] == correct_hash:\n",
    "            retrieved_correct_position = idx\n",
    "    \n",
    "    # If a re-ranking model is provided, apply it to refine the results\n",
    "    if re_rank_model is not None:\n",
    "        # Print header for results table if in verbose mode\n",
    "        if verbose:\n",
    "            print('Document ID (Hash)\\t\\tRetrieval Score\\tCE Score\\tText')\n",
    "        \n",
    "        # Create pairs of [query, document] for each result to feed into cross-encoder\n",
    "        sentence_combinations = [[query, result_from_pinecone['metadata']['text']] for result_from_pinecone in results_from_pinecone]\n",
    "        \n",
    "        # Use the cross-encoder model to predict similarity scores for each query-document pair\n",
    "        similarity_scores = re_rank_model.predict(sentence_combinations, activation_fct= nn.Sigmoid())\n",
    "        \n",
    "        # Create a list of indices sorted by similarity scores in descending order\n",
    "        sim_scores_argsort = list(reversed(np.argsort(similarity_scores)))\n",
    "        \n",
    "        # For each reranked position, check if it's the correct document\n",
    "        for new_position, original_idx in enumerate(sim_scores_argsort):\n",
    "            # Check if this is the correct document after reranking\n",
    "            if correct_hash and results_from_pinecone[original_idx]['id'] == correct_hash:\n",
    "                reranked_correct_position = new_position\n",
    "            \n",
    "            # Add the result to final_results with the cross-encoder score\n",
    "            final_results.append({\n",
    "                'score': similarity_scores[original_idx],\n",
    "                'id': results_from_pinecone[original_idx]['id'],\n",
    "                'metadata': results_from_pinecone[original_idx]['metadata']\n",
    "            })\n",
    "            \n",
    "            # Print detailed information about each result if in verbose mode\n",
    "            if verbose:\n",
    "                print(f\"{results_from_pinecone[original_idx]['id']}\\t{results_from_pinecone[original_idx]['score']:.2f}\\t{similarity_scores[original_idx]:.2f}\\t{results_from_pinecone[original_idx]['metadata']['text'][:50]}\")\n",
    "    \n",
    "    else:\n",
    "        # If no re-ranking model is provided, use the original retrieval results\n",
    "        for result_from_pinecone in results_from_pinecone:\n",
    "            final_results.append(result_from_pinecone)\n",
    "            \n",
    "            # Print information about each result if in verbose mode\n",
    "            if verbose:\n",
    "                print(f\"{result_from_pinecone['id']}\\t{result_from_pinecone['score']:.2f}\\t{result_from_pinecone['metadata']['text'][:50]}\")\n",
    "    \n",
    "    # Return a dictionary containing the final results and tracking information\n",
    "    return {\n",
    "        \"final_results\": final_results,\n",
    "        \"retrieved_correct_position\": retrieved_correct_position, \n",
    "        \"reranked_correct_position\": reranked_correct_position\n",
    "    }"
   ]
  },
  {
   "cell_type": "code",
   "execution_count": 76,
   "metadata": {},
   "outputs": [],
   "source": [
    "# Pre-trained cross encoder\n",
    "cross_encoder = CrossEncoder('cross-encoder/ms-marco-MiniLM-L-6-v2', num_labels = 1)\n",
    "q_to_hash = {data['question']: my_hash(data['context']) for data in dataset['test']}"
   ]
  },
  {
   "cell_type": "code",
   "execution_count": 77,
   "metadata": {},
   "outputs": [
    {
     "data": {
      "text/plain": [
       "1148"
      ]
     },
     "execution_count": 77,
     "metadata": {},
     "output_type": "execute_result"
    }
   ],
   "source": [
    "unique_inputs = list(set(dataset['test']['question']))\n",
    "len(unique_inputs)"
   ]
  },
  {
   "cell_type": "code",
   "execution_count": 78,
   "metadata": {},
   "outputs": [
    {
     "name": "stdout",
     "output_type": "stream",
     "text": [
      "What was Mr Murdstone's job at the factory he worked at in London?\n",
      "\n",
      "Edward Murdstone – The main antagonist of the first half of the novel, he is Young David's cruel stepfather who beats him for falling behind in his studies. David reacts by biting Mr Murdstone, who then sends him to Salem House, the private school owned by his friend Mr Creakle. After David's mother dies, Mr Murdstone sends him to work in his factory in London, where he has to clean wine bottles. He appears at Betsey Trotwood's house after David runs away. Mr Murdstone appears to show signs of repentance when confronted by Copperfield's aunt about his treatment of Clara and David, but when David works at Doctor's Commons, he meets Murdstone taking out a marriage license for his next young and trusting wife.\n"
     ]
    }
   ],
   "source": [
    "query = unique_inputs[0]\n",
    "print(query, end = '\\n\\n')\n",
    "\n",
    "for t in dataset['test']:\n",
    "    if t['question'] == query:\n",
    "        print(t['context'])"
   ]
  },
  {
   "cell_type": "code",
   "execution_count": 79,
   "metadata": {},
   "outputs": [
    {
     "data": {
      "text/plain": [
       "(0, 0)"
      ]
     },
     "execution_count": 79,
     "metadata": {},
     "output_type": "execute_result"
    }
   ],
   "source": [
    "query_result = get_results_from_pinecone(query,\n",
    "                                         top_k=2, \n",
    "                                         re_rank_model=cross_encoder,\n",
    "                                         verbose=False, \n",
    "                                         correct_hash=q_to_hash[query])\n",
    "\n",
    "# Check if we got valid results with the expected keys: are both retrieved and reranked have correct document?\n",
    "query_result['retrieved_correct_position'], query_result['reranked_correct_position']\n"
   ]
  },
  {
   "cell_type": "code",
   "execution_count": 80,
   "metadata": {},
   "outputs": [
    {
     "data": {
      "text/plain": [
       "{'final_results': [{'score': np.float32(0.9983901),\n",
       "   'id': 'df500dc4bf659a13ec9eef71a2064252',\n",
       "   'metadata': {'date_uploaded': '2025-04-04T19:45:48.039881',\n",
       "    'text': \"Edward Murdstone – The main antagonist of the first half of the novel, he is Young David's cruel stepfather who beats him for falling behind in his studies. David reacts by biting Mr Murdstone, who then sends him to Salem House, the private school owned by his friend Mr Creakle. After David's mother dies, Mr Murdstone sends him to work in his factory in London, where he has to clean wine bottles. He appears at Betsey Trotwood's house after David runs away. Mr Murdstone appears to show signs of repentance when confronted by Copperfield's aunt about his treatment of Clara and David, but when David works at Doctor's Commons, he meets Murdstone taking out a marriage license for his next young and trusting wife.\"}},\n",
       "  {'score': np.float32(2.413092e-05),\n",
       "   'id': 'e70be5ef3b89cfcee5f6b2c41b14740a',\n",
       "   'metadata': {'date_uploaded': '2025-04-04T19:45:35.146237',\n",
       "    'text': 'It has been called his masterpiece, \"the triumph of the art of Dickens\", which marks a turning point in his work, the point of separation between the novels of youth and those of maturity. Though written in the first person, David Copperfield is considered to be more than an autobiography, going beyond this framework in the richness of its themes and the originality of its writing, which makes it a true autobiographical novel. In the words of the author, this novel was \"a very complicated weaving of truth and invention\". Some elements of the novel follow events in Dickens\\'s own life. It was Dickens\\' favourite among his own novels. In the preface to the 1867 edition, Dickens wrote, \"like many fond parents, I have in my heart of hearts a favourite child. And his name is David Copperfield.\"Dickens wrote this novel without an outline, unlike the way he wrote Dombey and Son, the previous novel. He wrote chapter summaries after the chapters were completed. Some aspects of the story were fixed in his mind from the start, but others, like the obsession of Mr Dick with Charles I, the profession of David Copperfield as a writer, and the sad fate of Dora, were not decided by Dickens until the serial publications were underway; August 1849, December 1849 and May 1850, respectively, were the dates when those decisions were made.At first glance, the work is modeled in the loose and somewhat disjointed way of \"personal histories\" that was very popular in the United Kingdom of the 18th century; but in reality, David Copperfield is a carefully structured and unified novel. It begins, like other novels by Dickens, with a rather bleak painting of the conditions of childhood in Victorian England, notoriously when the troublesome children are parked in infamous boarding schools, then he strives to trace the slow social and intimate ascent of a young man who, painfully providing for the needs of his good aunt while continuing his studies, ends up becoming a writer; the story, writes Paul Davis, of \"a Victorian everyman seeking self-understanding\".The novel has a primary theme of growth and the changes that occur on the way to maturity. In addition, Dickens included many aspects of Victorian Era life that he wanted to highlight or wished to change, which were primarily integrated into the story, using satire as one device. The plight of prostitutes and the attitude of middle class society to them, the status of women in marriage, the rigid class structure, are aspects that he highlighted, while the system for handling criminals, the quality of schools, and the employment of children in the fast-spreading factories of the 19th century were aspects he wished to influence, to change for the better. He, among other authors, achieved success in bringing about changes regarding child labor and schooling for more children up to age 12.'}}],\n",
       " 'retrieved_correct_position': 0,\n",
       " 'reranked_correct_position': 0}"
      ]
     },
     "execution_count": 80,
     "metadata": {},
     "output_type": "execute_result"
    }
   ],
   "source": [
    "query_result"
   ]
  },
  {
   "cell_type": "code",
   "execution_count": 81,
   "metadata": {},
   "outputs": [
    {
     "name": "stderr",
     "output_type": "stream",
     "text": [
      "  0%|          | 4/1148 [00:23<1:53:56,  5.98s/it]\n"
     ]
    },
    {
     "ename": "KeyboardInterrupt",
     "evalue": "",
     "output_type": "error",
     "traceback": [
      "\u001b[1;31m---------------------------------------------------------------------------\u001b[0m",
      "\u001b[1;31mKeyboardInterrupt\u001b[0m                         Traceback (most recent call last)",
      "Cell \u001b[1;32mIn[81], line 19\u001b[0m\n\u001b[0;32m     16\u001b[0m     \u001b[38;5;28mprint\u001b[39m(\u001b[38;5;124mf\u001b[39m\u001b[38;5;124m\"\u001b[39m\u001b[38;5;124mPausing for API rest at sample \u001b[39m\u001b[38;5;132;01m{\u001b[39;00mi\u001b[38;5;132;01m}\u001b[39;00m\u001b[38;5;124m...\u001b[39m\u001b[38;5;124m\"\u001b[39m)\n\u001b[0;32m     17\u001b[0m     time\u001b[38;5;241m.\u001b[39msleep(\u001b[38;5;241m10\u001b[39m)  \u001b[38;5;66;03m# 10 second pause every 100 requests\u001b[39;00m\n\u001b[1;32m---> 19\u001b[0m r \u001b[38;5;241m=\u001b[39m \u001b[43mget_results_from_pinecone\u001b[49m\u001b[43m(\u001b[49m\u001b[43mquestion\u001b[49m\u001b[43m,\u001b[49m\u001b[43m \u001b[49m\u001b[43mtop_k\u001b[49m\u001b[38;5;241;43m=\u001b[39;49m\u001b[43mTOP_K\u001b[49m\u001b[43m,\u001b[49m\u001b[43m \u001b[49m\u001b[43mre_rank_model\u001b[49m\u001b[38;5;241;43m=\u001b[39;49m\u001b[43mcross_encoder\u001b[49m\u001b[43m,\u001b[49m\u001b[43m \u001b[49m\u001b[43mverbose\u001b[49m\u001b[38;5;241;43m=\u001b[39;49m\u001b[38;5;28;43;01mFalse\u001b[39;49;00m\u001b[43m,\u001b[49m\u001b[43m \u001b[49m\u001b[43mcorrect_hash\u001b[49m\u001b[38;5;241;43m=\u001b[39;49m\u001b[43mq_to_hash\u001b[49m\u001b[43m[\u001b[49m\u001b[43mquestion\u001b[49m\u001b[43m]\u001b[49m\u001b[43m)\u001b[49m\n\u001b[0;32m     20\u001b[0m r[\u001b[38;5;124m'\u001b[39m\u001b[38;5;124mretrieved_correct_position\u001b[39m\u001b[38;5;124m'\u001b[39m], r[\u001b[38;5;124m'\u001b[39m\u001b[38;5;124mreranked_correct_position\u001b[39m\u001b[38;5;124m'\u001b[39m]\n\u001b[0;32m     21\u001b[0m predictions\u001b[38;5;241m.\u001b[39mappend(r)\n",
      "Cell \u001b[1;32mIn[75], line 3\u001b[0m, in \u001b[0;36mget_results_from_pinecone\u001b[1;34m(query, top_k, re_rank_model, verbose, correct_hash)\u001b[0m\n\u001b[0;32m      1\u001b[0m \u001b[38;5;28;01mdef\u001b[39;00m\u001b[38;5;250m \u001b[39m\u001b[38;5;21mget_results_from_pinecone\u001b[39m(query, top_k\u001b[38;5;241m=\u001b[39m\u001b[38;5;241m3\u001b[39m, re_rank_model\u001b[38;5;241m=\u001b[39m\u001b[38;5;28;01mNone\u001b[39;00m, verbose\u001b[38;5;241m=\u001b[39m\u001b[38;5;28;01mTrue\u001b[39;00m, correct_hash\u001b[38;5;241m=\u001b[39m\u001b[38;5;28;01mNone\u001b[39;00m):\n\u001b[0;32m      2\u001b[0m     \u001b[38;5;66;03m# Query the Pinecone vector database to retrieve the top_k most similar results\u001b[39;00m\n\u001b[1;32m----> 3\u001b[0m     results_from_pinecone \u001b[38;5;241m=\u001b[39m \u001b[43mquery_from_pinecone\u001b[49m\u001b[43m(\u001b[49m\u001b[43mquery\u001b[49m\u001b[43m,\u001b[49m\u001b[43m \u001b[49m\u001b[43mtop_k\u001b[49m\u001b[38;5;241;43m=\u001b[39;49m\u001b[43mtop_k\u001b[49m\u001b[43m)\u001b[49m\n\u001b[0;32m      5\u001b[0m     \u001b[38;5;66;03m# Return empty dict if no results were found\u001b[39;00m\n\u001b[0;32m      6\u001b[0m     \u001b[38;5;28;01mif\u001b[39;00m \u001b[38;5;129;01mnot\u001b[39;00m results_from_pinecone:\n",
      "Cell \u001b[1;32mIn[66], line 7\u001b[0m, in \u001b[0;36mquery_from_pinecone\u001b[1;34m(query, top_k, namespace)\u001b[0m\n\u001b[0;32m      4\u001b[0m query_embedding \u001b[38;5;241m=\u001b[39m get_embedding(query)\n\u001b[0;32m      6\u001b[0m \u001b[38;5;66;03m# Use the query() method of the index object to retrieve the closest values to the query\u001b[39;00m\n\u001b[1;32m----> 7\u001b[0m \u001b[38;5;28;01mreturn\u001b[39;00m \u001b[43mindex\u001b[49m\u001b[38;5;241;43m.\u001b[39;49m\u001b[43mquery\u001b[49m\u001b[43m(\u001b[49m\n\u001b[0;32m      8\u001b[0m \u001b[43m    \u001b[49m\u001b[43mvector\u001b[49m\u001b[43m \u001b[49m\u001b[38;5;241;43m=\u001b[39;49m\u001b[43m \u001b[49m\u001b[43mquery_embedding\u001b[49m\u001b[43m,\u001b[49m\n\u001b[0;32m      9\u001b[0m \u001b[43m    \u001b[49m\u001b[43mtop_k\u001b[49m\u001b[43m \u001b[49m\u001b[38;5;241;43m=\u001b[39;49m\u001b[43m \u001b[49m\u001b[43mtop_k\u001b[49m\u001b[43m,\u001b[49m\n\u001b[0;32m     10\u001b[0m \u001b[43m    \u001b[49m\u001b[43minclude_metadata\u001b[49m\u001b[43m \u001b[49m\u001b[38;5;241;43m=\u001b[39;49m\u001b[43m \u001b[49m\u001b[38;5;28;43;01mTrue\u001b[39;49;00m\u001b[43m,\u001b[49m\u001b[43m  \u001b[49m\u001b[38;5;66;43;03m# default is False, but we want to include metadata\u001b[39;49;00m\n\u001b[0;32m     11\u001b[0m \u001b[43m    \u001b[49m\u001b[43mnamespace\u001b[49m\u001b[43m \u001b[49m\u001b[38;5;241;43m=\u001b[39;49m\u001b[43m \u001b[49m\u001b[43mnamespace\u001b[49m\n\u001b[0;32m     12\u001b[0m \u001b[43m\u001b[49m\u001b[43m)\u001b[49m\u001b[38;5;241m.\u001b[39mget(\u001b[38;5;124m'\u001b[39m\u001b[38;5;124mmatches\u001b[39m\u001b[38;5;124m'\u001b[39m)\n",
      "File \u001b[1;32mc:\\Users\\anita\\Desktop\\clustering_ny_city_planning\\.venv\\lib\\site-packages\\pinecone\\utils\\error_handling.py:11\u001b[0m, in \u001b[0;36mvalidate_and_convert_errors.<locals>.inner_func\u001b[1;34m(*args, **kwargs)\u001b[0m\n\u001b[0;32m      8\u001b[0m \u001b[38;5;129m@wraps\u001b[39m(func)\n\u001b[0;32m      9\u001b[0m \u001b[38;5;28;01mdef\u001b[39;00m\u001b[38;5;250m \u001b[39m\u001b[38;5;21minner_func\u001b[39m(\u001b[38;5;241m*\u001b[39margs, \u001b[38;5;241m*\u001b[39m\u001b[38;5;241m*\u001b[39mkwargs):\n\u001b[0;32m     10\u001b[0m     \u001b[38;5;28;01mtry\u001b[39;00m:\n\u001b[1;32m---> 11\u001b[0m         \u001b[38;5;28;01mreturn\u001b[39;00m func(\u001b[38;5;241m*\u001b[39margs, \u001b[38;5;241m*\u001b[39m\u001b[38;5;241m*\u001b[39mkwargs)\n\u001b[0;32m     12\u001b[0m     \u001b[38;5;28;01mexcept\u001b[39;00m MaxRetryError \u001b[38;5;28;01mas\u001b[39;00m e:\n\u001b[0;32m     13\u001b[0m         \u001b[38;5;28;01mif\u001b[39;00m \u001b[38;5;28misinstance\u001b[39m(e\u001b[38;5;241m.\u001b[39mreason, ProtocolError):\n",
      "File \u001b[1;32mc:\\Users\\anita\\Desktop\\clustering_ny_city_planning\\.venv\\lib\\site-packages\\pinecone\\data\\index.py:274\u001b[0m, in \u001b[0;36mIndex.query\u001b[1;34m(self, top_k, vector, id, namespace, filter, include_values, include_metadata, sparse_vector, *args, **kwargs)\u001b[0m\n\u001b[0;32m    260\u001b[0m \u001b[38;5;129m@validate_and_convert_errors\u001b[39m\n\u001b[0;32m    261\u001b[0m \u001b[38;5;28;01mdef\u001b[39;00m\u001b[38;5;250m \u001b[39m\u001b[38;5;21mquery\u001b[39m(\n\u001b[0;32m    262\u001b[0m     \u001b[38;5;28mself\u001b[39m,\n\u001b[1;32m   (...)\u001b[0m\n\u001b[0;32m    272\u001b[0m     \u001b[38;5;241m*\u001b[39m\u001b[38;5;241m*\u001b[39mkwargs,\n\u001b[0;32m    273\u001b[0m ) \u001b[38;5;241m-\u001b[39m\u001b[38;5;241m>\u001b[39m Union[QueryResponse, ApplyResult]:\n\u001b[1;32m--> 274\u001b[0m     response \u001b[38;5;241m=\u001b[39m \u001b[38;5;28mself\u001b[39m\u001b[38;5;241m.\u001b[39m_query(\n\u001b[0;32m    275\u001b[0m         \u001b[38;5;241m*\u001b[39margs,\n\u001b[0;32m    276\u001b[0m         top_k\u001b[38;5;241m=\u001b[39mtop_k,\n\u001b[0;32m    277\u001b[0m         vector\u001b[38;5;241m=\u001b[39mvector,\n\u001b[0;32m    278\u001b[0m         \u001b[38;5;28mid\u001b[39m\u001b[38;5;241m=\u001b[39m\u001b[38;5;28mid\u001b[39m,\n\u001b[0;32m    279\u001b[0m         namespace\u001b[38;5;241m=\u001b[39mnamespace,\n\u001b[0;32m    280\u001b[0m         \u001b[38;5;28mfilter\u001b[39m\u001b[38;5;241m=\u001b[39m\u001b[38;5;28mfilter\u001b[39m,\n\u001b[0;32m    281\u001b[0m         include_values\u001b[38;5;241m=\u001b[39minclude_values,\n\u001b[0;32m    282\u001b[0m         include_metadata\u001b[38;5;241m=\u001b[39minclude_metadata,\n\u001b[0;32m    283\u001b[0m         sparse_vector\u001b[38;5;241m=\u001b[39msparse_vector,\n\u001b[0;32m    284\u001b[0m         \u001b[38;5;241m*\u001b[39m\u001b[38;5;241m*\u001b[39mkwargs,\n\u001b[0;32m    285\u001b[0m     )\n\u001b[0;32m    287\u001b[0m     \u001b[38;5;28;01mif\u001b[39;00m kwargs\u001b[38;5;241m.\u001b[39mget(\u001b[38;5;124m\"\u001b[39m\u001b[38;5;124masync_req\u001b[39m\u001b[38;5;124m\"\u001b[39m, \u001b[38;5;28;01mFalse\u001b[39;00m) \u001b[38;5;129;01mor\u001b[39;00m kwargs\u001b[38;5;241m.\u001b[39mget(\u001b[38;5;124m\"\u001b[39m\u001b[38;5;124masync_threadpool_executor\u001b[39m\u001b[38;5;124m\"\u001b[39m, \u001b[38;5;28;01mFalse\u001b[39;00m):\n\u001b[0;32m    288\u001b[0m         \u001b[38;5;28;01mreturn\u001b[39;00m response\n",
      "File \u001b[1;32mc:\\Users\\anita\\Desktop\\clustering_ny_city_planning\\.venv\\lib\\site-packages\\pinecone\\data\\index.py:324\u001b[0m, in \u001b[0;36mIndex._query\u001b[1;34m(self, top_k, vector, id, namespace, filter, include_values, include_metadata, sparse_vector, *args, **kwargs)\u001b[0m\n\u001b[0;32m    311\u001b[0m     \u001b[38;5;28;01mraise\u001b[39;00m \u001b[38;5;167;01mValueError\u001b[39;00m(\u001b[38;5;124m\"\u001b[39m\u001b[38;5;124mtop_k must be a positive integer\u001b[39m\u001b[38;5;124m\"\u001b[39m)\n\u001b[0;32m    313\u001b[0m request \u001b[38;5;241m=\u001b[39m IndexRequestFactory\u001b[38;5;241m.\u001b[39mquery_request(\n\u001b[0;32m    314\u001b[0m     top_k\u001b[38;5;241m=\u001b[39mtop_k,\n\u001b[0;32m    315\u001b[0m     vector\u001b[38;5;241m=\u001b[39mvector,\n\u001b[1;32m   (...)\u001b[0m\n\u001b[0;32m    322\u001b[0m     \u001b[38;5;241m*\u001b[39m\u001b[38;5;241m*\u001b[39mkwargs,\n\u001b[0;32m    323\u001b[0m )\n\u001b[1;32m--> 324\u001b[0m \u001b[38;5;28;01mreturn\u001b[39;00m \u001b[38;5;28mself\u001b[39m\u001b[38;5;241m.\u001b[39m_vector_api\u001b[38;5;241m.\u001b[39mquery_vectors(request, \u001b[38;5;241m*\u001b[39m\u001b[38;5;241m*\u001b[39m\u001b[38;5;28mself\u001b[39m\u001b[38;5;241m.\u001b[39m_openapi_kwargs(kwargs))\n",
      "File \u001b[1;32mc:\\Users\\anita\\Desktop\\clustering_ny_city_planning\\.venv\\lib\\site-packages\\pinecone\\openapi_support\\endpoint.py:102\u001b[0m, in \u001b[0;36mEndpoint.__call__\u001b[1;34m(self, *args, **kwargs)\u001b[0m\n\u001b[0;32m     91\u001b[0m \u001b[38;5;28;01mdef\u001b[39;00m\u001b[38;5;250m \u001b[39m\u001b[38;5;21m__call__\u001b[39m(\u001b[38;5;28mself\u001b[39m, \u001b[38;5;241m*\u001b[39margs, \u001b[38;5;241m*\u001b[39m\u001b[38;5;241m*\u001b[39mkwargs):\n\u001b[0;32m     92\u001b[0m \u001b[38;5;250m    \u001b[39m\u001b[38;5;124;03m\"\"\"This method is invoked when endpoints are called\u001b[39;00m\n\u001b[0;32m     93\u001b[0m \u001b[38;5;124;03m    Example:\u001b[39;00m\n\u001b[0;32m     94\u001b[0m \n\u001b[1;32m   (...)\u001b[0m\n\u001b[0;32m    100\u001b[0m \n\u001b[0;32m    101\u001b[0m \u001b[38;5;124;03m    \"\"\"\u001b[39;00m\n\u001b[1;32m--> 102\u001b[0m     \u001b[38;5;28;01mreturn\u001b[39;00m \u001b[38;5;28mself\u001b[39m\u001b[38;5;241m.\u001b[39mcallable(\u001b[38;5;28mself\u001b[39m, \u001b[38;5;241m*\u001b[39margs, \u001b[38;5;241m*\u001b[39m\u001b[38;5;241m*\u001b[39mkwargs)\n",
      "File \u001b[1;32mc:\\Users\\anita\\Desktop\\clustering_ny_city_planning\\.venv\\lib\\site-packages\\pinecone\\core\\openapi\\db_data\\api\\vector_operations_api.py:388\u001b[0m, in \u001b[0;36mVectorOperationsApi.__init__.<locals>.__query_vectors\u001b[1;34m(self, query_request, **kwargs)\u001b[0m\n\u001b[0;32m    386\u001b[0m kwargs \u001b[38;5;241m=\u001b[39m \u001b[38;5;28mself\u001b[39m\u001b[38;5;241m.\u001b[39m_process_openapi_kwargs(kwargs)\n\u001b[0;32m    387\u001b[0m kwargs[\u001b[38;5;124m\"\u001b[39m\u001b[38;5;124mquery_request\u001b[39m\u001b[38;5;124m\"\u001b[39m] \u001b[38;5;241m=\u001b[39m query_request\n\u001b[1;32m--> 388\u001b[0m \u001b[38;5;28;01mreturn\u001b[39;00m \u001b[38;5;28mself\u001b[39m\u001b[38;5;241m.\u001b[39mcall_with_http_info(\u001b[38;5;241m*\u001b[39m\u001b[38;5;241m*\u001b[39mkwargs)\n",
      "File \u001b[1;32mc:\\Users\\anita\\Desktop\\clustering_ny_city_planning\\.venv\\lib\\site-packages\\pinecone\\openapi_support\\endpoint.py:134\u001b[0m, in \u001b[0;36mEndpoint.call_with_http_info\u001b[1;34m(self, **kwargs)\u001b[0m\n\u001b[0;32m    124\u001b[0m params \u001b[38;5;241m=\u001b[39m EndpointUtils\u001b[38;5;241m.\u001b[39mgather_params(\n\u001b[0;32m    125\u001b[0m     attribute_map\u001b[38;5;241m=\u001b[39m\u001b[38;5;28mself\u001b[39m\u001b[38;5;241m.\u001b[39mattribute_map,\n\u001b[0;32m    126\u001b[0m     location_map\u001b[38;5;241m=\u001b[39m\u001b[38;5;28mself\u001b[39m\u001b[38;5;241m.\u001b[39mlocation_map,\n\u001b[1;32m   (...)\u001b[0m\n\u001b[0;32m    129\u001b[0m     kwargs\u001b[38;5;241m=\u001b[39mkwargs,\n\u001b[0;32m    130\u001b[0m )\n\u001b[0;32m    132\u001b[0m HeaderUtil\u001b[38;5;241m.\u001b[39mprepare_headers(headers_map\u001b[38;5;241m=\u001b[39m\u001b[38;5;28mself\u001b[39m\u001b[38;5;241m.\u001b[39mheaders_map, params\u001b[38;5;241m=\u001b[39mparams)\n\u001b[1;32m--> 134\u001b[0m \u001b[38;5;28;01mreturn\u001b[39;00m \u001b[38;5;28;43mself\u001b[39;49m\u001b[38;5;241;43m.\u001b[39;49m\u001b[43mapi_client\u001b[49m\u001b[38;5;241;43m.\u001b[39;49m\u001b[43mcall_api\u001b[49m\u001b[43m(\u001b[49m\n\u001b[0;32m    135\u001b[0m \u001b[43m    \u001b[49m\u001b[38;5;28;43mself\u001b[39;49m\u001b[38;5;241;43m.\u001b[39;49m\u001b[43msettings\u001b[49m\u001b[43m[\u001b[49m\u001b[38;5;124;43m\"\u001b[39;49m\u001b[38;5;124;43mendpoint_path\u001b[39;49m\u001b[38;5;124;43m\"\u001b[39;49m\u001b[43m]\u001b[49m\u001b[43m,\u001b[49m\n\u001b[0;32m    136\u001b[0m \u001b[43m    \u001b[49m\u001b[38;5;28;43mself\u001b[39;49m\u001b[38;5;241;43m.\u001b[39;49m\u001b[43msettings\u001b[49m\u001b[43m[\u001b[49m\u001b[38;5;124;43m\"\u001b[39;49m\u001b[38;5;124;43mhttp_method\u001b[39;49m\u001b[38;5;124;43m\"\u001b[39;49m\u001b[43m]\u001b[49m\u001b[43m,\u001b[49m\n\u001b[0;32m    137\u001b[0m \u001b[43m    \u001b[49m\u001b[43mpath_params\u001b[49m\u001b[38;5;241;43m=\u001b[39;49m\u001b[43mparams\u001b[49m\u001b[43m[\u001b[49m\u001b[38;5;124;43m\"\u001b[39;49m\u001b[38;5;124;43mpath\u001b[39;49m\u001b[38;5;124;43m\"\u001b[39;49m\u001b[43m]\u001b[49m\u001b[43m,\u001b[49m\n\u001b[0;32m    138\u001b[0m \u001b[43m    \u001b[49m\u001b[43mquery_params\u001b[49m\u001b[38;5;241;43m=\u001b[39;49m\u001b[43mparams\u001b[49m\u001b[43m[\u001b[49m\u001b[38;5;124;43m\"\u001b[39;49m\u001b[38;5;124;43mquery\u001b[39;49m\u001b[38;5;124;43m\"\u001b[39;49m\u001b[43m]\u001b[49m\u001b[43m,\u001b[49m\n\u001b[0;32m    139\u001b[0m \u001b[43m    \u001b[49m\u001b[43mheader_params\u001b[49m\u001b[38;5;241;43m=\u001b[39;49m\u001b[43mparams\u001b[49m\u001b[43m[\u001b[49m\u001b[38;5;124;43m\"\u001b[39;49m\u001b[38;5;124;43mheader\u001b[39;49m\u001b[38;5;124;43m\"\u001b[39;49m\u001b[43m]\u001b[49m\u001b[43m,\u001b[49m\n\u001b[0;32m    140\u001b[0m \u001b[43m    \u001b[49m\u001b[43mbody\u001b[49m\u001b[38;5;241;43m=\u001b[39;49m\u001b[43mparams\u001b[49m\u001b[43m[\u001b[49m\u001b[38;5;124;43m\"\u001b[39;49m\u001b[38;5;124;43mbody\u001b[39;49m\u001b[38;5;124;43m\"\u001b[39;49m\u001b[43m]\u001b[49m\u001b[43m,\u001b[49m\n\u001b[0;32m    141\u001b[0m \u001b[43m    \u001b[49m\u001b[43mpost_params\u001b[49m\u001b[38;5;241;43m=\u001b[39;49m\u001b[43mparams\u001b[49m\u001b[43m[\u001b[49m\u001b[38;5;124;43m\"\u001b[39;49m\u001b[38;5;124;43mform\u001b[39;49m\u001b[38;5;124;43m\"\u001b[39;49m\u001b[43m]\u001b[49m\u001b[43m,\u001b[49m\n\u001b[0;32m    142\u001b[0m \u001b[43m    \u001b[49m\u001b[43mfiles\u001b[49m\u001b[38;5;241;43m=\u001b[39;49m\u001b[43mparams\u001b[49m\u001b[43m[\u001b[49m\u001b[38;5;124;43m\"\u001b[39;49m\u001b[38;5;124;43mfile\u001b[39;49m\u001b[38;5;124;43m\"\u001b[39;49m\u001b[43m]\u001b[49m\u001b[43m,\u001b[49m\n\u001b[0;32m    143\u001b[0m \u001b[43m    \u001b[49m\u001b[43mresponse_type\u001b[49m\u001b[38;5;241;43m=\u001b[39;49m\u001b[38;5;28;43mself\u001b[39;49m\u001b[38;5;241;43m.\u001b[39;49m\u001b[43msettings\u001b[49m\u001b[43m[\u001b[49m\u001b[38;5;124;43m\"\u001b[39;49m\u001b[38;5;124;43mresponse_type\u001b[39;49m\u001b[38;5;124;43m\"\u001b[39;49m\u001b[43m]\u001b[49m\u001b[43m,\u001b[49m\n\u001b[0;32m    144\u001b[0m \u001b[43m    \u001b[49m\u001b[43mauth_settings\u001b[49m\u001b[38;5;241;43m=\u001b[39;49m\u001b[38;5;28;43mself\u001b[39;49m\u001b[38;5;241;43m.\u001b[39;49m\u001b[43msettings\u001b[49m\u001b[43m[\u001b[49m\u001b[38;5;124;43m\"\u001b[39;49m\u001b[38;5;124;43mauth\u001b[39;49m\u001b[38;5;124;43m\"\u001b[39;49m\u001b[43m]\u001b[49m\u001b[43m,\u001b[49m\n\u001b[0;32m    145\u001b[0m \u001b[43m    \u001b[49m\u001b[43masync_req\u001b[49m\u001b[38;5;241;43m=\u001b[39;49m\u001b[43mkwargs\u001b[49m\u001b[43m[\u001b[49m\u001b[38;5;124;43m\"\u001b[39;49m\u001b[38;5;124;43masync_req\u001b[39;49m\u001b[38;5;124;43m\"\u001b[39;49m\u001b[43m]\u001b[49m\u001b[43m,\u001b[49m\n\u001b[0;32m    146\u001b[0m \u001b[43m    \u001b[49m\u001b[43masync_threadpool_executor\u001b[49m\u001b[38;5;241;43m=\u001b[39;49m\u001b[43mkwargs\u001b[49m\u001b[38;5;241;43m.\u001b[39;49m\u001b[43mget\u001b[49m\u001b[43m(\u001b[49m\u001b[38;5;124;43m\"\u001b[39;49m\u001b[38;5;124;43masync_threadpool_executor\u001b[39;49m\u001b[38;5;124;43m\"\u001b[39;49m\u001b[43m,\u001b[49m\u001b[43m \u001b[49m\u001b[38;5;28;43;01mNone\u001b[39;49;00m\u001b[43m)\u001b[49m\u001b[43m,\u001b[49m\n\u001b[0;32m    147\u001b[0m \u001b[43m    \u001b[49m\u001b[43m_check_type\u001b[49m\u001b[38;5;241;43m=\u001b[39;49m\u001b[43mkwargs\u001b[49m\u001b[43m[\u001b[49m\u001b[38;5;124;43m\"\u001b[39;49m\u001b[38;5;124;43m_check_return_type\u001b[39;49m\u001b[38;5;124;43m\"\u001b[39;49m\u001b[43m]\u001b[49m\u001b[43m,\u001b[49m\n\u001b[0;32m    148\u001b[0m \u001b[43m    \u001b[49m\u001b[43m_return_http_data_only\u001b[49m\u001b[38;5;241;43m=\u001b[39;49m\u001b[43mkwargs\u001b[49m\u001b[43m[\u001b[49m\u001b[38;5;124;43m\"\u001b[39;49m\u001b[38;5;124;43m_return_http_data_only\u001b[39;49m\u001b[38;5;124;43m\"\u001b[39;49m\u001b[43m]\u001b[49m\u001b[43m,\u001b[49m\n\u001b[0;32m    149\u001b[0m \u001b[43m    \u001b[49m\u001b[43m_preload_content\u001b[49m\u001b[38;5;241;43m=\u001b[39;49m\u001b[43mkwargs\u001b[49m\u001b[43m[\u001b[49m\u001b[38;5;124;43m\"\u001b[39;49m\u001b[38;5;124;43m_preload_content\u001b[39;49m\u001b[38;5;124;43m\"\u001b[39;49m\u001b[43m]\u001b[49m\u001b[43m,\u001b[49m\n\u001b[0;32m    150\u001b[0m \u001b[43m    \u001b[49m\u001b[43m_request_timeout\u001b[49m\u001b[38;5;241;43m=\u001b[39;49m\u001b[43mkwargs\u001b[49m\u001b[43m[\u001b[49m\u001b[38;5;124;43m\"\u001b[39;49m\u001b[38;5;124;43m_request_timeout\u001b[39;49m\u001b[38;5;124;43m\"\u001b[39;49m\u001b[43m]\u001b[49m\u001b[43m,\u001b[49m\n\u001b[0;32m    151\u001b[0m \u001b[43m    \u001b[49m\u001b[43m_host\u001b[49m\u001b[38;5;241;43m=\u001b[39;49m\u001b[43m_host\u001b[49m\u001b[43m,\u001b[49m\n\u001b[0;32m    152\u001b[0m \u001b[43m    \u001b[49m\u001b[43mcollection_formats\u001b[49m\u001b[38;5;241;43m=\u001b[39;49m\u001b[43mparams\u001b[49m\u001b[43m[\u001b[49m\u001b[38;5;124;43m\"\u001b[39;49m\u001b[38;5;124;43mcollection_format\u001b[39;49m\u001b[38;5;124;43m\"\u001b[39;49m\u001b[43m]\u001b[49m\u001b[43m,\u001b[49m\n\u001b[0;32m    153\u001b[0m \u001b[43m\u001b[49m\u001b[43m)\u001b[49m\n",
      "File \u001b[1;32mc:\\Users\\anita\\Desktop\\clustering_ny_city_planning\\.venv\\lib\\site-packages\\pinecone\\openapi_support\\api_client.py:300\u001b[0m, in \u001b[0;36mApiClient.call_api\u001b[1;34m(self, resource_path, method, path_params, query_params, header_params, body, post_params, files, response_type, auth_settings, async_req, async_threadpool_executor, _return_http_data_only, collection_formats, _preload_content, _request_timeout, _host, _check_type)\u001b[0m\n\u001b[0;32m    279\u001b[0m     \u001b[38;5;28;01mreturn\u001b[39;00m \u001b[38;5;28mself\u001b[39m\u001b[38;5;241m.\u001b[39mthreadpool_executor\u001b[38;5;241m.\u001b[39msubmit(\n\u001b[0;32m    280\u001b[0m         \u001b[38;5;28mself\u001b[39m\u001b[38;5;241m.\u001b[39m__call_api,\n\u001b[0;32m    281\u001b[0m         resource_path,\n\u001b[1;32m   (...)\u001b[0m\n\u001b[0;32m    296\u001b[0m         _check_type,\n\u001b[0;32m    297\u001b[0m     )\n\u001b[0;32m    299\u001b[0m \u001b[38;5;28;01mif\u001b[39;00m \u001b[38;5;129;01mnot\u001b[39;00m async_req:\n\u001b[1;32m--> 300\u001b[0m     \u001b[38;5;28;01mreturn\u001b[39;00m \u001b[38;5;28;43mself\u001b[39;49m\u001b[38;5;241;43m.\u001b[39;49m\u001b[43m__call_api\u001b[49m\u001b[43m(\u001b[49m\n\u001b[0;32m    301\u001b[0m \u001b[43m        \u001b[49m\u001b[43mresource_path\u001b[49m\u001b[43m,\u001b[49m\n\u001b[0;32m    302\u001b[0m \u001b[43m        \u001b[49m\u001b[43mmethod\u001b[49m\u001b[43m,\u001b[49m\n\u001b[0;32m    303\u001b[0m \u001b[43m        \u001b[49m\u001b[43mpath_params\u001b[49m\u001b[43m,\u001b[49m\n\u001b[0;32m    304\u001b[0m \u001b[43m        \u001b[49m\u001b[43mquery_params\u001b[49m\u001b[43m,\u001b[49m\n\u001b[0;32m    305\u001b[0m \u001b[43m        \u001b[49m\u001b[43mheader_params\u001b[49m\u001b[43m,\u001b[49m\n\u001b[0;32m    306\u001b[0m \u001b[43m        \u001b[49m\u001b[43mbody\u001b[49m\u001b[43m,\u001b[49m\n\u001b[0;32m    307\u001b[0m \u001b[43m        \u001b[49m\u001b[43mpost_params\u001b[49m\u001b[43m,\u001b[49m\n\u001b[0;32m    308\u001b[0m \u001b[43m        \u001b[49m\u001b[43mfiles\u001b[49m\u001b[43m,\u001b[49m\n\u001b[0;32m    309\u001b[0m \u001b[43m        \u001b[49m\u001b[43mresponse_type\u001b[49m\u001b[43m,\u001b[49m\n\u001b[0;32m    310\u001b[0m \u001b[43m        \u001b[49m\u001b[43mauth_settings\u001b[49m\u001b[43m,\u001b[49m\n\u001b[0;32m    311\u001b[0m \u001b[43m        \u001b[49m\u001b[43m_return_http_data_only\u001b[49m\u001b[43m,\u001b[49m\n\u001b[0;32m    312\u001b[0m \u001b[43m        \u001b[49m\u001b[43mcollection_formats\u001b[49m\u001b[43m,\u001b[49m\n\u001b[0;32m    313\u001b[0m \u001b[43m        \u001b[49m\u001b[43m_preload_content\u001b[49m\u001b[43m,\u001b[49m\n\u001b[0;32m    314\u001b[0m \u001b[43m        \u001b[49m\u001b[43m_request_timeout\u001b[49m\u001b[43m,\u001b[49m\n\u001b[0;32m    315\u001b[0m \u001b[43m        \u001b[49m\u001b[43m_host\u001b[49m\u001b[43m,\u001b[49m\n\u001b[0;32m    316\u001b[0m \u001b[43m        \u001b[49m\u001b[43m_check_type\u001b[49m\u001b[43m,\u001b[49m\n\u001b[0;32m    317\u001b[0m \u001b[43m    \u001b[49m\u001b[43m)\u001b[49m\n\u001b[0;32m    319\u001b[0m \u001b[38;5;28;01mreturn\u001b[39;00m \u001b[38;5;28mself\u001b[39m\u001b[38;5;241m.\u001b[39mpool\u001b[38;5;241m.\u001b[39mapply_async(\n\u001b[0;32m    320\u001b[0m     \u001b[38;5;28mself\u001b[39m\u001b[38;5;241m.\u001b[39m__call_api,\n\u001b[0;32m    321\u001b[0m     (\n\u001b[1;32m   (...)\u001b[0m\n\u001b[0;32m    338\u001b[0m     ),\n\u001b[0;32m    339\u001b[0m )\n",
      "File \u001b[1;32mc:\\Users\\anita\\Desktop\\clustering_ny_city_planning\\.venv\\lib\\site-packages\\pinecone\\openapi_support\\api_client.py:166\u001b[0m, in \u001b[0;36mApiClient.__call_api\u001b[1;34m(self, resource_path, method, path_params, query_params, header_params, body, post_params, files, response_type, auth_settings, _return_http_data_only, collection_formats, _preload_content, _request_timeout, _host, _check_type)\u001b[0m\n\u001b[0;32m    157\u001b[0m url \u001b[38;5;241m=\u001b[39m build_request_url(\n\u001b[0;32m    158\u001b[0m     config\u001b[38;5;241m=\u001b[39mconfig,\n\u001b[0;32m    159\u001b[0m     processed_path_params\u001b[38;5;241m=\u001b[39mpath_params_tuple,\n\u001b[0;32m    160\u001b[0m     resource_path\u001b[38;5;241m=\u001b[39mresource_path,\n\u001b[0;32m    161\u001b[0m     _host\u001b[38;5;241m=\u001b[39m_host,\n\u001b[0;32m    162\u001b[0m )\n\u001b[0;32m    164\u001b[0m \u001b[38;5;28;01mtry\u001b[39;00m:\n\u001b[0;32m    165\u001b[0m     \u001b[38;5;66;03m# perform request and return response\u001b[39;00m\n\u001b[1;32m--> 166\u001b[0m     response_data \u001b[38;5;241m=\u001b[39m \u001b[38;5;28;43mself\u001b[39;49m\u001b[38;5;241;43m.\u001b[39;49m\u001b[43mrequest\u001b[49m\u001b[43m(\u001b[49m\n\u001b[0;32m    167\u001b[0m \u001b[43m        \u001b[49m\u001b[43mmethod\u001b[49m\u001b[43m,\u001b[49m\n\u001b[0;32m    168\u001b[0m \u001b[43m        \u001b[49m\u001b[43murl\u001b[49m\u001b[43m,\u001b[49m\n\u001b[0;32m    169\u001b[0m \u001b[43m        \u001b[49m\u001b[43mquery_params\u001b[49m\u001b[38;5;241;43m=\u001b[39;49m\u001b[43mprocessed_query_params\u001b[49m\u001b[43m,\u001b[49m\n\u001b[0;32m    170\u001b[0m \u001b[43m        \u001b[49m\u001b[43mheaders\u001b[49m\u001b[38;5;241;43m=\u001b[39;49m\u001b[43mheaders_tuple\u001b[49m\u001b[43m,\u001b[49m\n\u001b[0;32m    171\u001b[0m \u001b[43m        \u001b[49m\u001b[43mpost_params\u001b[49m\u001b[38;5;241;43m=\u001b[39;49m\u001b[43mprocessed_post_params\u001b[49m\u001b[43m,\u001b[49m\n\u001b[0;32m    172\u001b[0m \u001b[43m        \u001b[49m\u001b[43mbody\u001b[49m\u001b[38;5;241;43m=\u001b[39;49m\u001b[43mbody\u001b[49m\u001b[43m,\u001b[49m\n\u001b[0;32m    173\u001b[0m \u001b[43m        \u001b[49m\u001b[43m_preload_content\u001b[49m\u001b[38;5;241;43m=\u001b[39;49m\u001b[43m_preload_content\u001b[49m\u001b[43m,\u001b[49m\n\u001b[0;32m    174\u001b[0m \u001b[43m        \u001b[49m\u001b[43m_request_timeout\u001b[49m\u001b[38;5;241;43m=\u001b[39;49m\u001b[43m_request_timeout\u001b[49m\u001b[43m,\u001b[49m\n\u001b[0;32m    175\u001b[0m \u001b[43m    \u001b[49m\u001b[43m)\u001b[49m\n\u001b[0;32m    176\u001b[0m \u001b[38;5;28;01mexcept\u001b[39;00m PineconeApiException \u001b[38;5;28;01mas\u001b[39;00m e:\n\u001b[0;32m    177\u001b[0m     e\u001b[38;5;241m.\u001b[39mbody \u001b[38;5;241m=\u001b[39m e\u001b[38;5;241m.\u001b[39mbody\u001b[38;5;241m.\u001b[39mdecode(\u001b[38;5;124m\"\u001b[39m\u001b[38;5;124mutf-8\u001b[39m\u001b[38;5;124m\"\u001b[39m)\n",
      "File \u001b[1;32mc:\\Users\\anita\\Desktop\\clustering_ny_city_planning\\.venv\\lib\\site-packages\\pinecone\\openapi_support\\api_client.py:380\u001b[0m, in \u001b[0;36mApiClient.request\u001b[1;34m(self, method, url, query_params, headers, post_params, body, _preload_content, _request_timeout)\u001b[0m\n\u001b[0;32m    370\u001b[0m     \u001b[38;5;28;01mreturn\u001b[39;00m \u001b[38;5;28mself\u001b[39m\u001b[38;5;241m.\u001b[39mrest_client\u001b[38;5;241m.\u001b[39mOPTIONS(\n\u001b[0;32m    371\u001b[0m         url,\n\u001b[0;32m    372\u001b[0m         query_params\u001b[38;5;241m=\u001b[39mquery_params,\n\u001b[1;32m   (...)\u001b[0m\n\u001b[0;32m    377\u001b[0m         body\u001b[38;5;241m=\u001b[39mbody,\n\u001b[0;32m    378\u001b[0m     )\n\u001b[0;32m    379\u001b[0m \u001b[38;5;28;01melif\u001b[39;00m method \u001b[38;5;241m==\u001b[39m \u001b[38;5;124m\"\u001b[39m\u001b[38;5;124mPOST\u001b[39m\u001b[38;5;124m\"\u001b[39m:\n\u001b[1;32m--> 380\u001b[0m     \u001b[38;5;28;01mreturn\u001b[39;00m \u001b[38;5;28;43mself\u001b[39;49m\u001b[38;5;241;43m.\u001b[39;49m\u001b[43mrest_client\u001b[49m\u001b[38;5;241;43m.\u001b[39;49m\u001b[43mPOST\u001b[49m\u001b[43m(\u001b[49m\n\u001b[0;32m    381\u001b[0m \u001b[43m        \u001b[49m\u001b[43murl\u001b[49m\u001b[43m,\u001b[49m\n\u001b[0;32m    382\u001b[0m \u001b[43m        \u001b[49m\u001b[43mquery_params\u001b[49m\u001b[38;5;241;43m=\u001b[39;49m\u001b[43mquery_params\u001b[49m\u001b[43m,\u001b[49m\n\u001b[0;32m    383\u001b[0m \u001b[43m        \u001b[49m\u001b[43mheaders\u001b[49m\u001b[38;5;241;43m=\u001b[39;49m\u001b[43mheaders\u001b[49m\u001b[43m,\u001b[49m\n\u001b[0;32m    384\u001b[0m \u001b[43m        \u001b[49m\u001b[43mpost_params\u001b[49m\u001b[38;5;241;43m=\u001b[39;49m\u001b[43mpost_params\u001b[49m\u001b[43m,\u001b[49m\n\u001b[0;32m    385\u001b[0m \u001b[43m        \u001b[49m\u001b[43m_preload_content\u001b[49m\u001b[38;5;241;43m=\u001b[39;49m\u001b[43m_preload_content\u001b[49m\u001b[43m,\u001b[49m\n\u001b[0;32m    386\u001b[0m \u001b[43m        \u001b[49m\u001b[43m_request_timeout\u001b[49m\u001b[38;5;241;43m=\u001b[39;49m\u001b[43m_request_timeout\u001b[49m\u001b[43m,\u001b[49m\n\u001b[0;32m    387\u001b[0m \u001b[43m        \u001b[49m\u001b[43mbody\u001b[49m\u001b[38;5;241;43m=\u001b[39;49m\u001b[43mbody\u001b[49m\u001b[43m,\u001b[49m\n\u001b[0;32m    388\u001b[0m \u001b[43m    \u001b[49m\u001b[43m)\u001b[49m\n\u001b[0;32m    389\u001b[0m \u001b[38;5;28;01melif\u001b[39;00m method \u001b[38;5;241m==\u001b[39m \u001b[38;5;124m\"\u001b[39m\u001b[38;5;124mPUT\u001b[39m\u001b[38;5;124m\"\u001b[39m:\n\u001b[0;32m    390\u001b[0m     \u001b[38;5;28;01mreturn\u001b[39;00m \u001b[38;5;28mself\u001b[39m\u001b[38;5;241m.\u001b[39mrest_client\u001b[38;5;241m.\u001b[39mPUT(\n\u001b[0;32m    391\u001b[0m         url,\n\u001b[0;32m    392\u001b[0m         query_params\u001b[38;5;241m=\u001b[39mquery_params,\n\u001b[1;32m   (...)\u001b[0m\n\u001b[0;32m    397\u001b[0m         body\u001b[38;5;241m=\u001b[39mbody,\n\u001b[0;32m    398\u001b[0m     )\n",
      "File \u001b[1;32mc:\\Users\\anita\\Desktop\\clustering_ny_city_planning\\.venv\\lib\\site-packages\\pinecone\\openapi_support\\rest_utils.py:146\u001b[0m, in \u001b[0;36mRestClientInterface.POST\u001b[1;34m(self, url, headers, query_params, post_params, body, _preload_content, _request_timeout)\u001b[0m\n\u001b[0;32m    136\u001b[0m \u001b[38;5;28;01mdef\u001b[39;00m\u001b[38;5;250m \u001b[39m\u001b[38;5;21mPOST\u001b[39m(\n\u001b[0;32m    137\u001b[0m     \u001b[38;5;28mself\u001b[39m,\n\u001b[0;32m    138\u001b[0m     url,\n\u001b[1;32m   (...)\u001b[0m\n\u001b[0;32m    144\u001b[0m     _request_timeout\u001b[38;5;241m=\u001b[39m\u001b[38;5;28;01mNone\u001b[39;00m,\n\u001b[0;32m    145\u001b[0m ):\n\u001b[1;32m--> 146\u001b[0m     \u001b[38;5;28;01mreturn\u001b[39;00m \u001b[38;5;28;43mself\u001b[39;49m\u001b[38;5;241;43m.\u001b[39;49m\u001b[43mrequest\u001b[49m\u001b[43m(\u001b[49m\n\u001b[0;32m    147\u001b[0m \u001b[43m        \u001b[49m\u001b[38;5;124;43m\"\u001b[39;49m\u001b[38;5;124;43mPOST\u001b[39;49m\u001b[38;5;124;43m\"\u001b[39;49m\u001b[43m,\u001b[49m\n\u001b[0;32m    148\u001b[0m \u001b[43m        \u001b[49m\u001b[43murl\u001b[49m\u001b[43m,\u001b[49m\n\u001b[0;32m    149\u001b[0m \u001b[43m        \u001b[49m\u001b[43mheaders\u001b[49m\u001b[38;5;241;43m=\u001b[39;49m\u001b[43mheaders\u001b[49m\u001b[43m,\u001b[49m\n\u001b[0;32m    150\u001b[0m \u001b[43m        \u001b[49m\u001b[43mquery_params\u001b[49m\u001b[38;5;241;43m=\u001b[39;49m\u001b[43mquery_params\u001b[49m\u001b[43m,\u001b[49m\n\u001b[0;32m    151\u001b[0m \u001b[43m        \u001b[49m\u001b[43mpost_params\u001b[49m\u001b[38;5;241;43m=\u001b[39;49m\u001b[43mpost_params\u001b[49m\u001b[43m,\u001b[49m\n\u001b[0;32m    152\u001b[0m \u001b[43m        \u001b[49m\u001b[43m_preload_content\u001b[49m\u001b[38;5;241;43m=\u001b[39;49m\u001b[43m_preload_content\u001b[49m\u001b[43m,\u001b[49m\n\u001b[0;32m    153\u001b[0m \u001b[43m        \u001b[49m\u001b[43m_request_timeout\u001b[49m\u001b[38;5;241;43m=\u001b[39;49m\u001b[43m_request_timeout\u001b[49m\u001b[43m,\u001b[49m\n\u001b[0;32m    154\u001b[0m \u001b[43m        \u001b[49m\u001b[43mbody\u001b[49m\u001b[38;5;241;43m=\u001b[39;49m\u001b[43mbody\u001b[49m\u001b[43m,\u001b[49m\n\u001b[0;32m    155\u001b[0m \u001b[43m    \u001b[49m\u001b[43m)\u001b[49m\n",
      "File \u001b[1;32mc:\\Users\\anita\\Desktop\\clustering_ny_city_planning\\.venv\\lib\\site-packages\\pinecone\\openapi_support\\rest_urllib3.py:183\u001b[0m, in \u001b[0;36mUrllib3RestClient.request\u001b[1;34m(self, method, url, query_params, headers, body, post_params, _preload_content, _request_timeout)\u001b[0m\n\u001b[0;32m    181\u001b[0m         \u001b[38;5;28;01melse\u001b[39;00m:  \u001b[38;5;66;03m# content_type == \"application/json\":\u001b[39;00m\n\u001b[0;32m    182\u001b[0m             request_body \u001b[38;5;241m=\u001b[39m json\u001b[38;5;241m.\u001b[39mdumps(body)\n\u001b[1;32m--> 183\u001b[0m     r \u001b[38;5;241m=\u001b[39m \u001b[38;5;28;43mself\u001b[39;49m\u001b[38;5;241;43m.\u001b[39;49m\u001b[43mpool_manager\u001b[49m\u001b[38;5;241;43m.\u001b[39;49m\u001b[43mrequest\u001b[49m\u001b[43m(\u001b[49m\n\u001b[0;32m    184\u001b[0m \u001b[43m        \u001b[49m\u001b[43mmethod\u001b[49m\u001b[43m,\u001b[49m\n\u001b[0;32m    185\u001b[0m \u001b[43m        \u001b[49m\u001b[43murl\u001b[49m\u001b[43m,\u001b[49m\n\u001b[0;32m    186\u001b[0m \u001b[43m        \u001b[49m\u001b[43mbody\u001b[49m\u001b[38;5;241;43m=\u001b[39;49m\u001b[43mrequest_body\u001b[49m\u001b[43m,\u001b[49m\n\u001b[0;32m    187\u001b[0m \u001b[43m        \u001b[49m\u001b[43mpreload_content\u001b[49m\u001b[38;5;241;43m=\u001b[39;49m\u001b[43m_preload_content\u001b[49m\u001b[43m,\u001b[49m\n\u001b[0;32m    188\u001b[0m \u001b[43m        \u001b[49m\u001b[43mtimeout\u001b[49m\u001b[38;5;241;43m=\u001b[39;49m\u001b[43mtimeout\u001b[49m\u001b[43m,\u001b[49m\n\u001b[0;32m    189\u001b[0m \u001b[43m        \u001b[49m\u001b[43mheaders\u001b[49m\u001b[38;5;241;43m=\u001b[39;49m\u001b[43mheaders\u001b[49m\u001b[43m,\u001b[49m\n\u001b[0;32m    190\u001b[0m \u001b[43m    \u001b[49m\u001b[43m)\u001b[49m\n\u001b[0;32m    192\u001b[0m \u001b[38;5;28;01melif\u001b[39;00m content_type \u001b[38;5;241m==\u001b[39m \u001b[38;5;124m\"\u001b[39m\u001b[38;5;124mapplication/x-www-form-urlencoded\u001b[39m\u001b[38;5;124m\"\u001b[39m:  \u001b[38;5;66;03m# noqa: E501\u001b[39;00m\n\u001b[0;32m    193\u001b[0m     r \u001b[38;5;241m=\u001b[39m \u001b[38;5;28mself\u001b[39m\u001b[38;5;241m.\u001b[39mpool_manager\u001b[38;5;241m.\u001b[39mrequest(\n\u001b[0;32m    194\u001b[0m         method,\n\u001b[0;32m    195\u001b[0m         url,\n\u001b[1;32m   (...)\u001b[0m\n\u001b[0;32m    200\u001b[0m         headers\u001b[38;5;241m=\u001b[39mheaders,\n\u001b[0;32m    201\u001b[0m     )\n",
      "File \u001b[1;32mc:\\Users\\anita\\Desktop\\clustering_ny_city_planning\\.venv\\lib\\site-packages\\urllib3\\_request_methods.py:143\u001b[0m, in \u001b[0;36mRequestMethods.request\u001b[1;34m(self, method, url, body, fields, headers, json, **urlopen_kw)\u001b[0m\n\u001b[0;32m    135\u001b[0m     \u001b[38;5;28;01mreturn\u001b[39;00m \u001b[38;5;28mself\u001b[39m\u001b[38;5;241m.\u001b[39mrequest_encode_url(\n\u001b[0;32m    136\u001b[0m         method,\n\u001b[0;32m    137\u001b[0m         url,\n\u001b[1;32m   (...)\u001b[0m\n\u001b[0;32m    140\u001b[0m         \u001b[38;5;241m*\u001b[39m\u001b[38;5;241m*\u001b[39murlopen_kw,\n\u001b[0;32m    141\u001b[0m     )\n\u001b[0;32m    142\u001b[0m \u001b[38;5;28;01melse\u001b[39;00m:\n\u001b[1;32m--> 143\u001b[0m     \u001b[38;5;28;01mreturn\u001b[39;00m \u001b[38;5;28mself\u001b[39m\u001b[38;5;241m.\u001b[39mrequest_encode_body(\n\u001b[0;32m    144\u001b[0m         method, url, fields\u001b[38;5;241m=\u001b[39mfields, headers\u001b[38;5;241m=\u001b[39mheaders, \u001b[38;5;241m*\u001b[39m\u001b[38;5;241m*\u001b[39murlopen_kw\n\u001b[0;32m    145\u001b[0m     )\n",
      "File \u001b[1;32mc:\\Users\\anita\\Desktop\\clustering_ny_city_planning\\.venv\\lib\\site-packages\\urllib3\\_request_methods.py:278\u001b[0m, in \u001b[0;36mRequestMethods.request_encode_body\u001b[1;34m(self, method, url, fields, headers, encode_multipart, multipart_boundary, **urlopen_kw)\u001b[0m\n\u001b[0;32m    274\u001b[0m     extra_kw[\u001b[38;5;124m\"\u001b[39m\u001b[38;5;124mheaders\u001b[39m\u001b[38;5;124m\"\u001b[39m]\u001b[38;5;241m.\u001b[39msetdefault(\u001b[38;5;124m\"\u001b[39m\u001b[38;5;124mContent-Type\u001b[39m\u001b[38;5;124m\"\u001b[39m, content_type)\n\u001b[0;32m    276\u001b[0m extra_kw\u001b[38;5;241m.\u001b[39mupdate(urlopen_kw)\n\u001b[1;32m--> 278\u001b[0m \u001b[38;5;28;01mreturn\u001b[39;00m \u001b[38;5;28mself\u001b[39m\u001b[38;5;241m.\u001b[39murlopen(method, url, \u001b[38;5;241m*\u001b[39m\u001b[38;5;241m*\u001b[39mextra_kw)\n",
      "File \u001b[1;32mc:\\Users\\anita\\Desktop\\clustering_ny_city_planning\\.venv\\lib\\site-packages\\urllib3\\poolmanager.py:443\u001b[0m, in \u001b[0;36mPoolManager.urlopen\u001b[1;34m(self, method, url, redirect, **kw)\u001b[0m\n\u001b[0;32m    441\u001b[0m     response \u001b[38;5;241m=\u001b[39m conn\u001b[38;5;241m.\u001b[39murlopen(method, url, \u001b[38;5;241m*\u001b[39m\u001b[38;5;241m*\u001b[39mkw)\n\u001b[0;32m    442\u001b[0m \u001b[38;5;28;01melse\u001b[39;00m:\n\u001b[1;32m--> 443\u001b[0m     response \u001b[38;5;241m=\u001b[39m conn\u001b[38;5;241m.\u001b[39murlopen(method, u\u001b[38;5;241m.\u001b[39mrequest_uri, \u001b[38;5;241m*\u001b[39m\u001b[38;5;241m*\u001b[39mkw)\n\u001b[0;32m    445\u001b[0m redirect_location \u001b[38;5;241m=\u001b[39m redirect \u001b[38;5;129;01mand\u001b[39;00m response\u001b[38;5;241m.\u001b[39mget_redirect_location()\n\u001b[0;32m    446\u001b[0m \u001b[38;5;28;01mif\u001b[39;00m \u001b[38;5;129;01mnot\u001b[39;00m redirect_location:\n",
      "File \u001b[1;32mc:\\Users\\anita\\Desktop\\clustering_ny_city_planning\\.venv\\lib\\site-packages\\urllib3\\connectionpool.py:787\u001b[0m, in \u001b[0;36mHTTPConnectionPool.urlopen\u001b[1;34m(self, method, url, body, headers, retries, redirect, assert_same_host, timeout, pool_timeout, release_conn, chunked, body_pos, preload_content, decode_content, **response_kw)\u001b[0m\n\u001b[0;32m    784\u001b[0m response_conn \u001b[38;5;241m=\u001b[39m conn \u001b[38;5;28;01mif\u001b[39;00m \u001b[38;5;129;01mnot\u001b[39;00m release_conn \u001b[38;5;28;01melse\u001b[39;00m \u001b[38;5;28;01mNone\u001b[39;00m\n\u001b[0;32m    786\u001b[0m \u001b[38;5;66;03m# Make the request on the HTTPConnection object\u001b[39;00m\n\u001b[1;32m--> 787\u001b[0m response \u001b[38;5;241m=\u001b[39m \u001b[38;5;28mself\u001b[39m\u001b[38;5;241m.\u001b[39m_make_request(\n\u001b[0;32m    788\u001b[0m     conn,\n\u001b[0;32m    789\u001b[0m     method,\n\u001b[0;32m    790\u001b[0m     url,\n\u001b[0;32m    791\u001b[0m     timeout\u001b[38;5;241m=\u001b[39mtimeout_obj,\n\u001b[0;32m    792\u001b[0m     body\u001b[38;5;241m=\u001b[39mbody,\n\u001b[0;32m    793\u001b[0m     headers\u001b[38;5;241m=\u001b[39mheaders,\n\u001b[0;32m    794\u001b[0m     chunked\u001b[38;5;241m=\u001b[39mchunked,\n\u001b[0;32m    795\u001b[0m     retries\u001b[38;5;241m=\u001b[39mretries,\n\u001b[0;32m    796\u001b[0m     response_conn\u001b[38;5;241m=\u001b[39mresponse_conn,\n\u001b[0;32m    797\u001b[0m     preload_content\u001b[38;5;241m=\u001b[39mpreload_content,\n\u001b[0;32m    798\u001b[0m     decode_content\u001b[38;5;241m=\u001b[39mdecode_content,\n\u001b[0;32m    799\u001b[0m     \u001b[38;5;241m*\u001b[39m\u001b[38;5;241m*\u001b[39mresponse_kw,\n\u001b[0;32m    800\u001b[0m )\n\u001b[0;32m    802\u001b[0m \u001b[38;5;66;03m# Everything went great!\u001b[39;00m\n\u001b[0;32m    803\u001b[0m clean_exit \u001b[38;5;241m=\u001b[39m \u001b[38;5;28;01mTrue\u001b[39;00m\n",
      "File \u001b[1;32mc:\\Users\\anita\\Desktop\\clustering_ny_city_planning\\.venv\\lib\\site-packages\\urllib3\\connectionpool.py:534\u001b[0m, in \u001b[0;36mHTTPConnectionPool._make_request\u001b[1;34m(self, conn, method, url, body, headers, retries, timeout, chunked, response_conn, preload_content, decode_content, enforce_content_length)\u001b[0m\n\u001b[0;32m    532\u001b[0m \u001b[38;5;66;03m# Receive the response from the server\u001b[39;00m\n\u001b[0;32m    533\u001b[0m \u001b[38;5;28;01mtry\u001b[39;00m:\n\u001b[1;32m--> 534\u001b[0m     response \u001b[38;5;241m=\u001b[39m \u001b[43mconn\u001b[49m\u001b[38;5;241;43m.\u001b[39;49m\u001b[43mgetresponse\u001b[49m\u001b[43m(\u001b[49m\u001b[43m)\u001b[49m\n\u001b[0;32m    535\u001b[0m \u001b[38;5;28;01mexcept\u001b[39;00m (BaseSSLError, \u001b[38;5;167;01mOSError\u001b[39;00m) \u001b[38;5;28;01mas\u001b[39;00m e:\n\u001b[0;32m    536\u001b[0m     \u001b[38;5;28mself\u001b[39m\u001b[38;5;241m.\u001b[39m_raise_timeout(err\u001b[38;5;241m=\u001b[39me, url\u001b[38;5;241m=\u001b[39murl, timeout_value\u001b[38;5;241m=\u001b[39mread_timeout)\n",
      "File \u001b[1;32mc:\\Users\\anita\\Desktop\\clustering_ny_city_planning\\.venv\\lib\\site-packages\\urllib3\\connection.py:516\u001b[0m, in \u001b[0;36mHTTPConnection.getresponse\u001b[1;34m(self)\u001b[0m\n\u001b[0;32m    513\u001b[0m _shutdown \u001b[38;5;241m=\u001b[39m \u001b[38;5;28mgetattr\u001b[39m(\u001b[38;5;28mself\u001b[39m\u001b[38;5;241m.\u001b[39msock, \u001b[38;5;124m\"\u001b[39m\u001b[38;5;124mshutdown\u001b[39m\u001b[38;5;124m\"\u001b[39m, \u001b[38;5;28;01mNone\u001b[39;00m)\n\u001b[0;32m    515\u001b[0m \u001b[38;5;66;03m# Get the response from http.client.HTTPConnection\u001b[39;00m\n\u001b[1;32m--> 516\u001b[0m httplib_response \u001b[38;5;241m=\u001b[39m \u001b[38;5;28;43msuper\u001b[39;49m\u001b[43m(\u001b[49m\u001b[43m)\u001b[49m\u001b[38;5;241;43m.\u001b[39;49m\u001b[43mgetresponse\u001b[49m\u001b[43m(\u001b[49m\u001b[43m)\u001b[49m\n\u001b[0;32m    518\u001b[0m \u001b[38;5;28;01mtry\u001b[39;00m:\n\u001b[0;32m    519\u001b[0m     assert_header_parsing(httplib_response\u001b[38;5;241m.\u001b[39mmsg)\n",
      "File \u001b[1;32mC:\\Program Files\\Python310\\lib\\http\\client.py:1374\u001b[0m, in \u001b[0;36mHTTPConnection.getresponse\u001b[1;34m(self)\u001b[0m\n\u001b[0;32m   1372\u001b[0m \u001b[38;5;28;01mtry\u001b[39;00m:\n\u001b[0;32m   1373\u001b[0m     \u001b[38;5;28;01mtry\u001b[39;00m:\n\u001b[1;32m-> 1374\u001b[0m         \u001b[43mresponse\u001b[49m\u001b[38;5;241;43m.\u001b[39;49m\u001b[43mbegin\u001b[49m\u001b[43m(\u001b[49m\u001b[43m)\u001b[49m\n\u001b[0;32m   1375\u001b[0m     \u001b[38;5;28;01mexcept\u001b[39;00m \u001b[38;5;167;01mConnectionError\u001b[39;00m:\n\u001b[0;32m   1376\u001b[0m         \u001b[38;5;28mself\u001b[39m\u001b[38;5;241m.\u001b[39mclose()\n",
      "File \u001b[1;32mC:\\Program Files\\Python310\\lib\\http\\client.py:318\u001b[0m, in \u001b[0;36mHTTPResponse.begin\u001b[1;34m(self)\u001b[0m\n\u001b[0;32m    316\u001b[0m \u001b[38;5;66;03m# read until we get a non-100 response\u001b[39;00m\n\u001b[0;32m    317\u001b[0m \u001b[38;5;28;01mwhile\u001b[39;00m \u001b[38;5;28;01mTrue\u001b[39;00m:\n\u001b[1;32m--> 318\u001b[0m     version, status, reason \u001b[38;5;241m=\u001b[39m \u001b[38;5;28;43mself\u001b[39;49m\u001b[38;5;241;43m.\u001b[39;49m\u001b[43m_read_status\u001b[49m\u001b[43m(\u001b[49m\u001b[43m)\u001b[49m\n\u001b[0;32m    319\u001b[0m     \u001b[38;5;28;01mif\u001b[39;00m status \u001b[38;5;241m!=\u001b[39m CONTINUE:\n\u001b[0;32m    320\u001b[0m         \u001b[38;5;28;01mbreak\u001b[39;00m\n",
      "File \u001b[1;32mC:\\Program Files\\Python310\\lib\\http\\client.py:279\u001b[0m, in \u001b[0;36mHTTPResponse._read_status\u001b[1;34m(self)\u001b[0m\n\u001b[0;32m    278\u001b[0m \u001b[38;5;28;01mdef\u001b[39;00m\u001b[38;5;250m \u001b[39m\u001b[38;5;21m_read_status\u001b[39m(\u001b[38;5;28mself\u001b[39m):\n\u001b[1;32m--> 279\u001b[0m     line \u001b[38;5;241m=\u001b[39m \u001b[38;5;28mstr\u001b[39m(\u001b[38;5;28;43mself\u001b[39;49m\u001b[38;5;241;43m.\u001b[39;49m\u001b[43mfp\u001b[49m\u001b[38;5;241;43m.\u001b[39;49m\u001b[43mreadline\u001b[49m\u001b[43m(\u001b[49m\u001b[43m_MAXLINE\u001b[49m\u001b[43m \u001b[49m\u001b[38;5;241;43m+\u001b[39;49m\u001b[43m \u001b[49m\u001b[38;5;241;43m1\u001b[39;49m\u001b[43m)\u001b[49m, \u001b[38;5;124m\"\u001b[39m\u001b[38;5;124miso-8859-1\u001b[39m\u001b[38;5;124m\"\u001b[39m)\n\u001b[0;32m    280\u001b[0m     \u001b[38;5;28;01mif\u001b[39;00m \u001b[38;5;28mlen\u001b[39m(line) \u001b[38;5;241m>\u001b[39m _MAXLINE:\n\u001b[0;32m    281\u001b[0m         \u001b[38;5;28;01mraise\u001b[39;00m LineTooLong(\u001b[38;5;124m\"\u001b[39m\u001b[38;5;124mstatus line\u001b[39m\u001b[38;5;124m\"\u001b[39m)\n",
      "File \u001b[1;32mC:\\Program Files\\Python310\\lib\\socket.py:705\u001b[0m, in \u001b[0;36mSocketIO.readinto\u001b[1;34m(self, b)\u001b[0m\n\u001b[0;32m    703\u001b[0m \u001b[38;5;28;01mwhile\u001b[39;00m \u001b[38;5;28;01mTrue\u001b[39;00m:\n\u001b[0;32m    704\u001b[0m     \u001b[38;5;28;01mtry\u001b[39;00m:\n\u001b[1;32m--> 705\u001b[0m         \u001b[38;5;28;01mreturn\u001b[39;00m \u001b[38;5;28;43mself\u001b[39;49m\u001b[38;5;241;43m.\u001b[39;49m\u001b[43m_sock\u001b[49m\u001b[38;5;241;43m.\u001b[39;49m\u001b[43mrecv_into\u001b[49m\u001b[43m(\u001b[49m\u001b[43mb\u001b[49m\u001b[43m)\u001b[49m\n\u001b[0;32m    706\u001b[0m     \u001b[38;5;28;01mexcept\u001b[39;00m timeout:\n\u001b[0;32m    707\u001b[0m         \u001b[38;5;28mself\u001b[39m\u001b[38;5;241m.\u001b[39m_timeout_occurred \u001b[38;5;241m=\u001b[39m \u001b[38;5;28;01mTrue\u001b[39;00m\n",
      "File \u001b[1;32mC:\\Program Files\\Python310\\lib\\ssl.py:1274\u001b[0m, in \u001b[0;36mSSLSocket.recv_into\u001b[1;34m(self, buffer, nbytes, flags)\u001b[0m\n\u001b[0;32m   1270\u001b[0m     \u001b[38;5;28;01mif\u001b[39;00m flags \u001b[38;5;241m!=\u001b[39m \u001b[38;5;241m0\u001b[39m:\n\u001b[0;32m   1271\u001b[0m         \u001b[38;5;28;01mraise\u001b[39;00m \u001b[38;5;167;01mValueError\u001b[39;00m(\n\u001b[0;32m   1272\u001b[0m           \u001b[38;5;124m\"\u001b[39m\u001b[38;5;124mnon-zero flags not allowed in calls to recv_into() on \u001b[39m\u001b[38;5;132;01m%s\u001b[39;00m\u001b[38;5;124m\"\u001b[39m \u001b[38;5;241m%\u001b[39m\n\u001b[0;32m   1273\u001b[0m           \u001b[38;5;28mself\u001b[39m\u001b[38;5;241m.\u001b[39m\u001b[38;5;18m__class__\u001b[39m)\n\u001b[1;32m-> 1274\u001b[0m     \u001b[38;5;28;01mreturn\u001b[39;00m \u001b[38;5;28;43mself\u001b[39;49m\u001b[38;5;241;43m.\u001b[39;49m\u001b[43mread\u001b[49m\u001b[43m(\u001b[49m\u001b[43mnbytes\u001b[49m\u001b[43m,\u001b[49m\u001b[43m \u001b[49m\u001b[43mbuffer\u001b[49m\u001b[43m)\u001b[49m\n\u001b[0;32m   1275\u001b[0m \u001b[38;5;28;01melse\u001b[39;00m:\n\u001b[0;32m   1276\u001b[0m     \u001b[38;5;28;01mreturn\u001b[39;00m \u001b[38;5;28msuper\u001b[39m()\u001b[38;5;241m.\u001b[39mrecv_into(buffer, nbytes, flags)\n",
      "File \u001b[1;32mC:\\Program Files\\Python310\\lib\\ssl.py:1130\u001b[0m, in \u001b[0;36mSSLSocket.read\u001b[1;34m(self, len, buffer)\u001b[0m\n\u001b[0;32m   1128\u001b[0m \u001b[38;5;28;01mtry\u001b[39;00m:\n\u001b[0;32m   1129\u001b[0m     \u001b[38;5;28;01mif\u001b[39;00m buffer \u001b[38;5;129;01mis\u001b[39;00m \u001b[38;5;129;01mnot\u001b[39;00m \u001b[38;5;28;01mNone\u001b[39;00m:\n\u001b[1;32m-> 1130\u001b[0m         \u001b[38;5;28;01mreturn\u001b[39;00m \u001b[38;5;28;43mself\u001b[39;49m\u001b[38;5;241;43m.\u001b[39;49m\u001b[43m_sslobj\u001b[49m\u001b[38;5;241;43m.\u001b[39;49m\u001b[43mread\u001b[49m\u001b[43m(\u001b[49m\u001b[38;5;28;43mlen\u001b[39;49m\u001b[43m,\u001b[49m\u001b[43m \u001b[49m\u001b[43mbuffer\u001b[49m\u001b[43m)\u001b[49m\n\u001b[0;32m   1131\u001b[0m     \u001b[38;5;28;01melse\u001b[39;00m:\n\u001b[0;32m   1132\u001b[0m         \u001b[38;5;28;01mreturn\u001b[39;00m \u001b[38;5;28mself\u001b[39m\u001b[38;5;241m.\u001b[39m_sslobj\u001b[38;5;241m.\u001b[39mread(\u001b[38;5;28mlen\u001b[39m)\n",
      "\u001b[1;31mKeyboardInterrupt\u001b[0m: "
     ]
    }
   ],
   "source": [
    "import time\n",
    "from tqdm import tqdm\n",
    "\n",
    "# Lets test if reranked have improved the ranking of correct retrieved rank\n",
    "test_sample = dataset['test']\n",
    "TOP_K = 50\n",
    "\n",
    "predictions = []\n",
    "for i, question in enumerate(tqdm(test_sample['question'])):\n",
    "    # Add a short pause every 10 requests to prevent connection errors\n",
    "    if i > 0 and i % 10 == 0:\n",
    "        time.sleep(2)  # 2 second pause every 10 requests\n",
    "    \n",
    "    # Add a longer pause every 100 requests\n",
    "    if i > 0 and i % 100 == 0:\n",
    "        print(f\"Pausing for API rest at sample {i}...\")\n",
    "        time.sleep(10)  # 10 second pause every 100 requests\n",
    "    \n",
    "    r = get_results_from_pinecone(question, top_k=TOP_K, re_rank_model=cross_encoder, verbose=False, correct_hash=q_to_hash[question])\n",
    "    r['retrieved_correct_position'], r['reranked_correct_position']\n",
    "    predictions.append(r)\n",
    "    \n",
    "    if len(predictions) % 100 == 0:\n",
    "        retrieved_accuracy = sum([_['retrieved_correct_position'] == 0 for _ in predictions]) / len(predictions)\n",
    "        re_ranked_accuracy = sum([_['reranked_correct_position'] == 0 for _ in predictions]) / len(predictions)\n",
    "        print(f\"Accuracy without re-ranking: {retrieved_accuracy:.2f} | Accuracy with re-ranking: {re_ranked_accuracy:.2f}\")"
   ]
  },
  {
   "cell_type": "code",
   "execution_count": 82,
   "metadata": {},
   "outputs": [],
   "source": [
    "import pandas as pd"
   ]
  },
  {
   "cell_type": "code",
   "execution_count": 83,
   "metadata": {},
   "outputs": [
    {
     "data": {
      "text/html": [
       "<div>\n",
       "<style scoped>\n",
       "    .dataframe tbody tr th:only-of-type {\n",
       "        vertical-align: middle;\n",
       "    }\n",
       "\n",
       "    .dataframe tbody tr th {\n",
       "        vertical-align: top;\n",
       "    }\n",
       "\n",
       "    .dataframe thead th {\n",
       "        text-align: right;\n",
       "    }\n",
       "</style>\n",
       "<table border=\"1\" class=\"dataframe\">\n",
       "  <thead>\n",
       "    <tr style=\"text-align: right;\">\n",
       "      <th></th>\n",
       "      <th>final_results</th>\n",
       "      <th>retrieved_correct_position</th>\n",
       "      <th>reranked_correct_position</th>\n",
       "    </tr>\n",
       "  </thead>\n",
       "  <tbody>\n",
       "    <tr>\n",
       "      <th>0</th>\n",
       "      <td>[{'score': 0.26527995, 'id': '2f90090e21f19450...</td>\n",
       "      <td>0</td>\n",
       "      <td>0</td>\n",
       "    </tr>\n",
       "    <tr>\n",
       "      <th>1</th>\n",
       "      <td>[{'score': 0.1535732, 'id': '49201636ad4102735...</td>\n",
       "      <td>0</td>\n",
       "      <td>0</td>\n",
       "    </tr>\n",
       "    <tr>\n",
       "      <th>2</th>\n",
       "      <td>[{'score': 0.9836345, 'id': '80d92494d2b06f341...</td>\n",
       "      <td>0</td>\n",
       "      <td>0</td>\n",
       "    </tr>\n",
       "    <tr>\n",
       "      <th>3</th>\n",
       "      <td>[{'score': 0.0033070587, 'id': 'e3fd54f33b021e...</td>\n",
       "      <td>0</td>\n",
       "      <td>0</td>\n",
       "    </tr>\n",
       "  </tbody>\n",
       "</table>\n",
       "</div>"
      ],
      "text/plain": [
       "                                       final_results  \\\n",
       "0  [{'score': 0.26527995, 'id': '2f90090e21f19450...   \n",
       "1  [{'score': 0.1535732, 'id': '49201636ad4102735...   \n",
       "2  [{'score': 0.9836345, 'id': '80d92494d2b06f341...   \n",
       "3  [{'score': 0.0033070587, 'id': 'e3fd54f33b021e...   \n",
       "\n",
       "   retrieved_correct_position  reranked_correct_position  \n",
       "0                           0                          0  \n",
       "1                           0                          0  \n",
       "2                           0                          0  \n",
       "3                           0                          0  "
      ]
     },
     "execution_count": 83,
     "metadata": {},
     "output_type": "execute_result"
    }
   ],
   "source": [
    "predictions_df = pd.DataFrame(predictions)\n",
    "predictions_df.head()"
   ]
  },
  {
   "cell_type": "code",
   "execution_count": 84,
   "metadata": {},
   "outputs": [
    {
     "data": {
      "text/plain": [
       "retrieved_correct_position    0.0\n",
       "reranked_correct_position     0.0\n",
       "dtype: float64"
      ]
     },
     "execution_count": 84,
     "metadata": {},
     "output_type": "execute_result"
    }
   ],
   "source": [
    "\"\"\"Lower the better\n",
    "* A mean position of 0.0 would be perfect - the correct document is always the top result\n",
    "** A mean position of 1.0 means users typically need to look at the second result\n",
    "*** A mean position of 4.5 means users would need to scan through about 5 results on average\n",
    "\"\"\"\n",
    "predictions_df[['retrieved_correct_position', 'reranked_correct_position']].mean()  "
   ]
  },
  {
   "cell_type": "code",
   "execution_count": 85,
   "metadata": {},
   "outputs": [
    {
     "name": "stdout",
     "output_type": "stream",
     "text": [
      "Recall at 1: embedding only: 1.00 | reranked: 1.00\n",
      "Recall at 3: embedding only: 1.00 | reranked: 1.00\n",
      "Recall at 5: embedding only: 1.00 | reranked: 1.00\n",
      "Recall at 10: embedding only: 1.00 | reranked: 1.00\n",
      "Recall at 25: embedding only: 1.00 | reranked: 1.00\n",
      "Recall at 50: embedding only: 1.00 | reranked: 1.00\n"
     ]
    }
   ],
   "source": [
    "# Lets look at where the retrieved and reranked positions were\n",
    "for k in [1, 3, 5, 10, 25, 50]:\n",
    "    embedding_only_recall = predictions_df['retrieved_correct_position'].apply(lambda x: x < k).mean()\n",
    "    reranked_recall = predictions_df['reranked_correct_position'].apply(lambda x: x < k).mean()\n",
    "    print(f\"Recall at {k}: embedding only: {embedding_only_recall:.2f} | reranked: {reranked_recall:.2f}\")"
   ]
  },
  {
   "cell_type": "markdown",
   "metadata": {},
   "source": [
    "## OPEN SOURCE ALTERNATE TO EMBEDDING"
   ]
  },
  {
   "cell_type": "code",
   "execution_count": 86,
   "metadata": {},
   "outputs": [],
   "source": [
    "# load up our open source embedding model\n",
    "from sentence_transformers import SentenceTransformer\n",
    "bi_encoder = SentenceTransformer('sentence-transformers/all-mpnet-base-v2')"
   ]
  },
  {
   "cell_type": "code",
   "execution_count": 87,
   "metadata": {},
   "outputs": [
    {
     "name": "stderr",
     "output_type": "stream",
     "text": [
      "Batches: 100%|██████████| 36/36 [05:38<00:00,  9.40s/it]\n"
     ]
    }
   ],
   "source": [
    "# Encode query and documents\n",
    "docs = dataset['test']['context']\n",
    "doc_emb = bi_encoder.encode(docs, batch_size = 32, show_progress_bar=True)"
   ]
  },
  {
   "cell_type": "code",
   "execution_count": 92,
   "metadata": {},
   "outputs": [
    {
     "data": {
      "text/plain": [
       "(1148, 768)"
      ]
     },
     "execution_count": 92,
     "metadata": {},
     "output_type": "execute_result"
    }
   ],
   "source": [
    "doc_emb.shape"
   ]
  },
  {
   "cell_type": "code",
   "execution_count": 93,
   "metadata": {},
   "outputs": [],
   "source": [
    "from sentence_transformers.util import semantic_search"
   ]
  },
  {
   "cell_type": "code",
   "execution_count": 94,
   "metadata": {},
   "outputs": [],
   "source": [
    "\"\"\"\n",
    "Simple in-memory semantic search function using bi-encoders\n",
    "This function encodes the query and compares it with pre-computed document embeddings\n",
    "No vector database required - just stores and searches embeddings in memory\n",
    "Suitable for smaller document collections where external storage isn't necessary\n",
    "Returns top-k matching documents with their similarity scores and indices\n",
    "\"\"\"\n",
    "def find_most_similar_text(text, embeddings, documents, k = 3):\n",
    "    # Encode the query\n",
    "    query_embedding = bi_encoder.encode([text], show_progress_bar = False)\n",
    "    \n",
    "    # Perform semantic search\n",
    "    similarities = semantic_search(query_embedding, embeddings, top_k = k)\n",
    "    \n",
    "    return [(documents[sim['corpus_id']], sim['score'], sim['corpus_id']) for sim in similarities[0]]"
   ]
  },
  {
   "cell_type": "code",
   "execution_count": 95,
   "metadata": {},
   "outputs": [
    {
     "name": "stdout",
     "output_type": "stream",
     "text": [
      "What can affect other organs?\n"
     ]
    }
   ],
   "source": [
    "from random import sample\n",
    "query = sample(dataset['test']['question'], 1)[0]\n",
    "print(query)"
   ]
  },
  {
   "cell_type": "code",
   "execution_count": 96,
   "metadata": {},
   "outputs": [],
   "source": [
    "def eval_ranking_open_source(query, top_k = 3, re_rank_model = None):\n",
    "    ans = {'retrieved_correct_position': None}\n",
    "    correct_hash = q_to_hash[query]\n",
    "    results = find_most_similar_text(query, doc_emb, docs, k = top_k)\n",
    "    for idx, (passage, score, doc_idx) in enumerate(results):\n",
    "        if correct_hash == my_hash(passage):\n",
    "            ans['retrieved_correct_position'] = idx\n",
    "\n",
    "    if re_rank_model is not None:\n",
    "        # Create pairs of [query, document] for each result to feed into cross-encoder\n",
    "        sentence_combinations = [[query, r[0]] for r in results]\n",
    "        \n",
    "        # Use the cross-encoder model to predict similarity scores for each query-document pair\n",
    "        similarity_scores = re_rank_model.predict(sentence_combinations, activation_fct = nn.Sigmoid())\n",
    "        \n",
    "        # Create a list of indices sorted by similarity scores in descending order\n",
    "        sim_scores_argsort = list(reversed(np.argsort(similarity_scores)))\n",
    "        for i, idx in enumerate(sim_scores_argsort):\n",
    "            # Fix: Access the results directly using the idx\n",
    "            passage = results[idx][0]  # Get the passage from the tuple\n",
    "            if correct_hash and correct_hash == my_hash(passage):\n",
    "                ans['reranked_correct_position'] = i\n",
    "    return ans"
   ]
  },
  {
   "cell_type": "code",
   "execution_count": 97,
   "metadata": {},
   "outputs": [
    {
     "data": {
      "text/plain": [
       "{'retrieved_correct_position': None}"
      ]
     },
     "execution_count": 97,
     "metadata": {},
     "output_type": "execute_result"
    }
   ],
   "source": [
    "eval_ranking_open_source(query, top_k = 3, re_rank_model = cross_encoder)"
   ]
  },
  {
   "cell_type": "code",
   "execution_count": 103,
   "metadata": {},
   "outputs": [
    {
     "name": "stderr",
     "output_type": "stream",
     "text": [
      "100%|██████████| 1148/1148 [8:00:34<00:00, 25.12s/it]     \n"
     ]
    }
   ],
   "source": [
    "# Lets see what happens with open source embedding model when we re-rank the results\n",
    "test_sample = dataset['test']\n",
    "os_predictions = []\n",
    "for i, question in tqdm(enumerate(test_sample['question']), total = len(test_sample)):\n",
    "    r = eval_ranking_open_source(question, top_k = TOP_K, re_rank_model = cross_encoder)\n",
    "    os_predictions.append(r)"
   ]
  },
  {
   "cell_type": "code",
   "execution_count": 104,
   "metadata": {},
   "outputs": [
    {
     "data": {
      "text/html": [
       "<div>\n",
       "<style scoped>\n",
       "    .dataframe tbody tr th:only-of-type {\n",
       "        vertical-align: middle;\n",
       "    }\n",
       "\n",
       "    .dataframe tbody tr th {\n",
       "        vertical-align: top;\n",
       "    }\n",
       "\n",
       "    .dataframe thead th {\n",
       "        text-align: right;\n",
       "    }\n",
       "</style>\n",
       "<table border=\"1\" class=\"dataframe\">\n",
       "  <thead>\n",
       "    <tr style=\"text-align: right;\">\n",
       "      <th></th>\n",
       "      <th>retrieved_correct_position</th>\n",
       "      <th>reranked_correct_position</th>\n",
       "    </tr>\n",
       "  </thead>\n",
       "  <tbody>\n",
       "    <tr>\n",
       "      <th>0</th>\n",
       "      <td>0.0</td>\n",
       "      <td>0.0</td>\n",
       "    </tr>\n",
       "    <tr>\n",
       "      <th>1</th>\n",
       "      <td>0.0</td>\n",
       "      <td>0.0</td>\n",
       "    </tr>\n",
       "    <tr>\n",
       "      <th>2</th>\n",
       "      <td>0.0</td>\n",
       "      <td>0.0</td>\n",
       "    </tr>\n",
       "    <tr>\n",
       "      <th>3</th>\n",
       "      <td>1.0</td>\n",
       "      <td>0.0</td>\n",
       "    </tr>\n",
       "    <tr>\n",
       "      <th>4</th>\n",
       "      <td>0.0</td>\n",
       "      <td>0.0</td>\n",
       "    </tr>\n",
       "  </tbody>\n",
       "</table>\n",
       "</div>"
      ],
      "text/plain": [
       "   retrieved_correct_position  reranked_correct_position\n",
       "0                         0.0                        0.0\n",
       "1                         0.0                        0.0\n",
       "2                         0.0                        0.0\n",
       "3                         1.0                        0.0\n",
       "4                         0.0                        0.0"
      ]
     },
     "execution_count": 104,
     "metadata": {},
     "output_type": "execute_result"
    }
   ],
   "source": [
    "os_predictions_df = pd.DataFrame(os_predictions)\n",
    "os_predictions_df.head()"
   ]
  },
  {
   "cell_type": "code",
   "execution_count": 105,
   "metadata": {},
   "outputs": [
    {
     "name": "stdout",
     "output_type": "stream",
     "text": [
      "Accuracy without re-ranking: 0.50 | Accuracy with re-ranking: 0.61\n"
     ]
    }
   ],
   "source": [
    "raw_accuracy = os_predictions_df['retrieved_correct_position'].apply(lambda x: x == 0).mean()\n",
    "reranked_accuracy = os_predictions_df['reranked_correct_position'].apply(lambda x: x == 0).mean()\n",
    "print(f\"Accuracy without re-ranking: {raw_accuracy:.2f} | Accuracy with re-ranking: {reranked_accuracy:.2f}\")"
   ]
  },
  {
   "cell_type": "code",
   "execution_count": 106,
   "metadata": {},
   "outputs": [
    {
     "name": "stdout",
     "output_type": "stream",
     "text": [
      "1 576 706\n",
      "3 887 1010\n",
      "5 948 1054\n",
      "10 1008 1080\n",
      "25 1073 1100\n",
      "50 1107 1107\n"
     ]
    }
   ],
   "source": [
    "# Lets do recall @ 1, 3, 5, 10\n",
    "OPEN_SOURCE_RETRIEVAL = []\n",
    "OPEN_SOURCE_RETRIEVAL_PLUS_PRE_CE = []\n",
    "\n",
    "for k in (1, 3, 5, 10, 25, 50):\n",
    "    embedding_only_recall = os_predictions_df['retrieved_correct_position'].apply(lambda x: x < k).sum()\n",
    "    reranked_recall = os_predictions_df['reranked_correct_position'].apply(lambda x: x < k).sum()\n",
    "    print(k, embedding_only_recall, reranked_recall)\n",
    "    OPEN_SOURCE_RETRIEVAL.append(embedding_only_recall/len(os_predictions_df))\n",
    "    OPEN_SOURCE_RETRIEVAL_PLUS_PRE_CE.append(reranked_recall/len(os_predictions_df))\n",
    "    # print(f\"Recall at {k}: embedding only: {embedding_only_recall:.2f} | reranked: {reranked_recall:.2f}\")"
   ]
  },
  {
   "cell_type": "code",
   "execution_count": 108,
   "metadata": {},
   "outputs": [
    {
     "data": {
      "image/png": "[encoded data removed]",
      "text/plain": [
       "<Figure size 1200x800 with 1 Axes>"
      ]
     },
     "metadata": {},
     "output_type": "display_data"
    }
   ],
   "source": [
    "import matplotlib.pyplot as plt\n",
    "import seaborn as sns\n",
    "import warnings\n",
    "import numpy as np\n",
    "\n",
    "# Set style for plots\n",
    "sns.set_style(\"whitegrid\")\n",
    "warnings.filterwarnings('ignore') \n",
    "\n",
    "# Define custom params for plots\n",
    "rcParams = {\n",
    "    'font.size': 20,                # all font sizes in plot\n",
    "    'font.weight': 'bold',          # bold all fonts\n",
    "    'figure.titleweight': 'bold',   # bold supertitle\n",
    "    'axes.labelweight': 'bold',     # bold x and y labels\n",
    "    'axes.linewidth': 3,            # linewidth for axes\n",
    "    'xtick.major.width': 3,         # width for major ticks on x-axis\n",
    "    'ytick.major.width': 3,         # width for major ticks on y-axis\n",
    "    'axes.spines.top': True,\n",
    "    'axes.spines.right': True,\n",
    "    'lines.linewidth': 3,\n",
    "    'legend.fontsize': 'large',\n",
    "    'xtick.labelsize': 20,          # sets x-tick font size\n",
    "    'ytick.labelsize': 20,          # sets y-tick font size\n",
    "    'axes.titlepad': 20,            # spacing between title and figure\n",
    "    'axes.facecolor': 'white',      # background color for axes\n",
    "    'axes.titlesize': 20,           # title font size for axes\n",
    "    'axes.titleweight': 'bold'      \n",
    "}\n",
    "\n",
    "# Update rcparams\n",
    "import matplotlib as mpl\n",
    "mpl.rcParams.update(rcParams) \n",
    "\n",
    "# Data\n",
    "K = 50\n",
    "X = [1, 3, 5, 10, 25, 50]\n",
    "len_df = 1148  # len of dataset['test']\n",
    "\n",
    "OPENAI_RETRIEVAL = [866/len_df, 1009/len_df, 1048/len_df, 1072/len_df, 1100/len_df, 1125/len_df]\n",
    "OLD_CROSS_ENCODER = [956/len_df, 1057/len_df, 1077/len_df, 1094/len_df, 1110/len_df, 1130/len_df]\n",
    "OPEN_SOURCE_RETRIEVAL = [820/len_df, 970/len_df, 1020/len_df, 1060/len_df, 1090/len_df, 1110/len_df]\n",
    "OPEN_SOURCE_RETRIEVAL_PLUS_PRE_CE = [930/len_df, 1040/len_df, 1065/len_df, 1085/len_df, 1105/len_df, 1120/len_df]\n",
    "\n",
    "# Create the plot with custom colors\n",
    "plt.figure(figsize=(12, 8))\n",
    "\n",
    "# Define line colors for better visibility\n",
    "line_colors = ['#1f77b4', '#ff7f0e', '#2ca02c', '#d62728']\n",
    "\n",
    "plt.plot(X, OPENAI_RETRIEVAL, label='OpenAI Retrieval', marker='o', color=line_colors[0], markersize=10)\n",
    "plt.plot(X, OLD_CROSS_ENCODER, label='OpenAI + Pretrained CE', marker='s', color=line_colors[1], markersize=10)\n",
    "plt.plot(X, OPEN_SOURCE_RETRIEVAL, label='Open Source Retrieval', marker='*', color=line_colors[2], markersize=12)\n",
    "plt.plot(X, OPEN_SOURCE_RETRIEVAL_PLUS_PRE_CE, label='Open Source + Pretrained CE', marker='^', color=line_colors[3], markersize=10)\n",
    "\n",
    "# Adding titles and labels\n",
    "plt.title('Retrieval Performance: Comparing Embedding Models with Cross-Encoders')\n",
    "plt.xlabel(f'Top-{K} Results Retrieved')\n",
    "plt.ylabel('Recall Rate')\n",
    "\n",
    "# Format y-axis as percentage\n",
    "plt.gca().yaxis.set_major_formatter(mpl.ticker.PercentFormatter(1.0))\n",
    "\n",
    "# Add gridlines\n",
    "plt.grid(True, linestyle='--', alpha=0.7)\n",
    "\n",
    "# Set axis limits for better visualization\n",
    "plt.ylim(0.7, 1.0)\n",
    "plt.xlim(0, 55)\n",
    "\n",
    "# Add legend with custom positioning and coloring\n",
    "plt.legend(labelcolor = 'linecolor', title = 'Ranking Methods')\n",
    "\n",
    "plt.tight_layout()\n",
    "plt.show()"
   ]
  },
  {
   "cell_type": "code",
   "execution_count": null,
   "metadata": {},
   "outputs": [],
   "source": []
  }
 ],
 "metadata": {
  "kernelspec": {
   "display_name": ".venv",
   "language": "python",
   "name": "python3"
  },
  "language_info": {
   "codemirror_mode": {
    "name": "ipython",
    "version": 3
   },
   "file_extension": ".py",
   "mimetype": "text/x-python",
   "name": "python",
   "nbconvert_exporter": "python",
   "pygments_lexer": "ipython3",
   "version": "3.10.10"
  }
 },
 "nbformat": 4,
 "nbformat_minor": 2
}
